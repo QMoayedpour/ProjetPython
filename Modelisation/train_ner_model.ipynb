{
 "cells": [
  {
   "cell_type": "code",
   "execution_count": 94,
   "metadata": {},
   "outputs": [],
   "source": [
    "import numpy as np\n",
    "import pandas as pd\n",
    "from seqeval.metrics import accuracy_score\n",
    "import torch.nn as nn\n",
    "from tqdm import tqdm, trange\n",
    "import torch\n",
    "from torch.utils.data import TensorDataset, DataLoader, RandomSampler, SequentialSampler\n",
    "from transformers import BertTokenizer, BertConfig\n",
    "from sklearn.model_selection import train_test_split\n",
    "import re\n",
    "from transformers import get_linear_schedule_with_warmup\n",
    "from transformers import DataCollatorForTokenClassification\n",
    "from transformers import BertForTokenClassification, AdamW\n",
    "import numpy as np\n",
    "import matplotlib.pyplot as plt\n",
    "import seaborn as sns\n",
    "from sklearn.metrics import f1_score,classification_report\n",
    "from concurrent.futures import ThreadPoolExecutor\n",
    "from keras_preprocessing.sequence import pad_sequences\n",
    "from modules.NER_functions import *"
   ]
  },
  {
   "cell_type": "code",
   "execution_count": 81,
   "metadata": {},
   "outputs": [
    {
     "data": {
      "text/plain": [
       "['B-Mood',\n",
       " 'O',\n",
       " 'B-Drug',\n",
       " 'I-Procedure',\n",
       " 'B-Condition',\n",
       " 'B-Person',\n",
       " 'I-Condition',\n",
       " 'B-Procedure',\n",
       " 'B-Observation',\n",
       " 'I-Drug',\n",
       " 'I-Observation',\n",
       " 'I-Person',\n",
       " 'I-Mood',\n",
       " 'PAD']"
      ]
     },
     "execution_count": 81,
     "metadata": {},
     "output_type": "execute_result"
    }
   ],
   "source": [
    "model.tag_values"
   ]
  },
  {
   "cell_type": "code",
   "execution_count": 82,
   "metadata": {},
   "outputs": [
    {
     "name": "stderr",
     "output_type": "stream",
     "text": [
      "/tmp/ipykernel_30351/2479533425.py:2: DtypeWarning: Columns (2,3,4,5,10,11,12,13,14,15,17,18,19,21,22,23,24,25,26,28,29,30,31,32,33,34,35,36,37,42,43,68,79,80,81,82,88,89,94,95,97,98,99,100,101,102,104,105,109,110,111,112,113,114,115,116,118,121,122,151,163,169,184,192,193,194,195,196,200,206,209,210,212,213,214,215,216,217,218,219,220,222,223,225,226,228,229,230,232,233,234,235,236,237,238,239,240,241,242,243,244,245,246,247,248,249,250,262,263,264,265,266,275,279,280,282,283,284,285,286,287,300,301,302,303,304,308,320,321,322,324,325,326) have mixed types. Specify dtype option on import or set low_memory=False.\n",
      "  df = pd.read_csv('../data/clini_data.csv')\n"
     ]
    }
   ],
   "source": [
    "df_train = pd.read_csv('./data/train.csv')\n",
    "df = pd.read_csv('../data/clini_data.csv')"
   ]
  },
  {
   "cell_type": "code",
   "execution_count": 83,
   "metadata": {},
   "outputs": [],
   "source": [
    "getter = SentenceGetter(df_train)"
   ]
  },
  {
   "cell_type": "code",
   "execution_count": 84,
   "metadata": {},
   "outputs": [
    {
     "data": {
      "text/plain": [
       "['With',\n",
       " 'severe',\n",
       " 'comorbidities',\n",
       " ',',\n",
       " 'such',\n",
       " 'as',\n",
       " 'cardiovascular',\n",
       " 'disease',\n",
       " ',',\n",
       " 'chronic',\n",
       " 'obstructive',\n",
       " 'pulmonary',\n",
       " 'disease',\n",
       " ',',\n",
       " 'diabetes',\n",
       " 'mellitus',\n",
       " ',',\n",
       " 'and',\n",
       " 'chronic',\n",
       " 'renal',\n",
       " 'dysfunction',\n",
       " '.']"
      ]
     },
     "execution_count": 84,
     "metadata": {},
     "output_type": "execute_result"
    }
   ],
   "source": [
    "sentences = [[word[0] for word in sentence] for sentence in getter.sentences]\n",
    "sentences[0]"
   ]
  },
  {
   "cell_type": "code",
   "execution_count": 85,
   "metadata": {},
   "outputs": [
    {
     "name": "stdout",
     "output_type": "stream",
     "text": [
      "['O', 'O', 'B-Condition', 'O', 'O', 'O', 'B-Condition', 'I-Condition', 'O', 'B-Condition', 'I-Condition', 'I-Condition', 'I-Condition', 'O', 'B-Condition', 'I-Condition', 'O', 'O', 'B-Condition', 'I-Condition', 'I-Condition', 'O']\n"
     ]
    }
   ],
   "source": [
    "labels = [[s[1] for s in sentence] for sentence in getter.sentences]\n",
    "print(labels[0])"
   ]
  },
  {
   "cell_type": "code",
   "execution_count": 86,
   "metadata": {},
   "outputs": [
    {
     "data": {
      "text/plain": [
       "{'B-Mood': 0,\n",
       " 'O': 1,\n",
       " 'B-Drug': 2,\n",
       " 'I-Procedure': 3,\n",
       " 'B-Condition': 4,\n",
       " 'B-Person': 5,\n",
       " 'I-Condition': 6,\n",
       " 'B-Procedure': 7,\n",
       " 'B-Observation': 8,\n",
       " 'I-Drug': 9,\n",
       " 'I-Observation': 10,\n",
       " 'I-Person': 11,\n",
       " 'I-Mood': 12,\n",
       " 'PAD': 13}"
      ]
     },
     "execution_count": 86,
     "metadata": {},
     "output_type": "execute_result"
    }
   ],
   "source": [
    "tag_values = list(set(df_train[\"Label\"].values))\n",
    "tag_values.append(\"PAD\")\n",
    "tag2idx = {t: i for i, t in enumerate(tag_values)}\n",
    "tag2idx"
   ]
  },
  {
   "cell_type": "code",
   "execution_count": 87,
   "metadata": {},
   "outputs": [],
   "source": [
    "model = Bert_Model(sentences=sentences, labels=labels, tag_values=tag_values)"
   ]
  },
  {
   "cell_type": "code",
   "execution_count": 88,
   "metadata": {},
   "outputs": [],
   "source": [
    "model.getparam(100)"
   ]
  },
  {
   "cell_type": "code",
   "execution_count": 89,
   "metadata": {},
   "outputs": [
    {
     "name": "stderr",
     "output_type": "stream",
     "text": [
      "Some weights of BertForTokenClassification were not initialized from the model checkpoint at bert-base-uncased and are newly initialized: ['classifier.bias', 'classifier.weight']\n",
      "You should probably TRAIN this model on a down-stream task to be able to use it for predictions and inference.\n",
      "/home/onyxia/work/.venv/lib/python3.10/site-packages/transformers/optimization.py:429: FutureWarning: This implementation of AdamW is deprecated and will be removed in a future version. Use the PyTorch implementation torch.optim.AdamW instead, or set `no_deprecation_warning=True` to disable this warning\n",
      "  warnings.warn(\n"
     ]
    }
   ],
   "source": [
    "model.preprocess()"
   ]
  },
  {
   "cell_type": "code",
   "execution_count": 90,
   "metadata": {},
   "outputs": [
    {
     "name": "stderr",
     "output_type": "stream",
     "text": [
      "Epoch:   0%|          | 0/5 [00:00<?, ?it/s]"
     ]
    },
    {
     "name": "stdout",
     "output_type": "stream",
     "text": [
      "Average train loss: 0.1965192212693153\n",
      "Validation loss: 0.10314302723253926\n",
      "Validation Accuracy: 0.8311344189897875\n",
      "Validation F1-Score: 0.8546330886489172\n"
     ]
    },
    {
     "name": "stderr",
     "output_type": "stream",
     "text": [
      "/home/onyxia/work/.venv/lib/python3.10/site-packages/sklearn/metrics/_classification.py:1471: UndefinedMetricWarning: Precision and F-score are ill-defined and being set to 0.0 in labels with no predicted samples. Use `zero_division` parameter to control this behavior.\n",
      "  _warn_prf(average, modifier, msg_start, len(result))\n",
      "/home/onyxia/work/.venv/lib/python3.10/site-packages/sklearn/metrics/_classification.py:1471: UndefinedMetricWarning: Recall and F-score are ill-defined and being set to 0.0 in labels with no true samples. Use `zero_division` parameter to control this behavior.\n",
      "  _warn_prf(average, modifier, msg_start, len(result))\n",
      "/home/onyxia/work/.venv/lib/python3.10/site-packages/sklearn/metrics/_classification.py:1471: UndefinedMetricWarning: Precision and F-score are ill-defined and being set to 0.0 in labels with no predicted samples. Use `zero_division` parameter to control this behavior.\n",
      "  _warn_prf(average, modifier, msg_start, len(result))\n",
      "/home/onyxia/work/.venv/lib/python3.10/site-packages/sklearn/metrics/_classification.py:1471: UndefinedMetricWarning: Recall and F-score are ill-defined and being set to 0.0 in labels with no true samples. Use `zero_division` parameter to control this behavior.\n",
      "  _warn_prf(average, modifier, msg_start, len(result))\n",
      "/home/onyxia/work/.venv/lib/python3.10/site-packages/sklearn/metrics/_classification.py:1471: UndefinedMetricWarning: Precision and F-score are ill-defined and being set to 0.0 in labels with no predicted samples. Use `zero_division` parameter to control this behavior.\n",
      "  _warn_prf(average, modifier, msg_start, len(result))\n",
      "/home/onyxia/work/.venv/lib/python3.10/site-packages/sklearn/metrics/_classification.py:1471: UndefinedMetricWarning: Recall and F-score are ill-defined and being set to 0.0 in labels with no true samples. Use `zero_division` parameter to control this behavior.\n",
      "  _warn_prf(average, modifier, msg_start, len(result))\n"
     ]
    },
    {
     "name": "stdout",
     "output_type": "stream",
     "text": [
      "Classification Report:\n",
      "                precision    recall  f1-score   support\n",
      "\n",
      "  B-Condition       0.76      0.73      0.74      1729\n",
      "       B-Drug       0.75      0.83      0.79       713\n",
      "       B-Mood       0.00      0.00      0.00        42\n",
      "B-Observation       0.00      0.00      0.00       210\n",
      "     B-Person       0.85      0.24      0.37       169\n",
      "  B-Procedure       0.65      0.43      0.52       507\n",
      "  I-Condition       0.83      0.57      0.68      1457\n",
      "       I-Drug       0.58      0.56      0.57       335\n",
      "       I-Mood       0.00      0.00      0.00        26\n",
      "I-Observation       0.00      0.00      0.00       242\n",
      "     I-Person       0.00      0.00      0.00        27\n",
      "  I-Procedure       0.83      0.34      0.48       501\n",
      "            O       0.86      0.97      0.91     12157\n",
      "          PAD       0.00      0.00      0.00         0\n",
      "\n",
      "     accuracy                           0.83     18115\n",
      "    macro avg       0.44      0.33      0.36     18115\n",
      " weighted avg       0.80      0.83      0.81     18115\n",
      "\n",
      "\n"
     ]
    },
    {
     "name": "stderr",
     "output_type": "stream",
     "text": [
      "Epoch:  20%|██        | 1/5 [55:39<3:42:37, 3339.36s/it]"
     ]
    },
    {
     "name": "stdout",
     "output_type": "stream",
     "text": [
      "Model saved successfully.\n",
      "Average train loss: 0.0885940132442341\n",
      "Validation loss: 0.08666842731256638\n",
      "Validation Accuracy: 0.8560309136075076\n",
      "Validation F1-Score: 0.8666566115952643\n"
     ]
    },
    {
     "name": "stderr",
     "output_type": "stream",
     "text": [
      "/home/onyxia/work/.venv/lib/python3.10/site-packages/sklearn/metrics/_classification.py:1471: UndefinedMetricWarning: Precision and F-score are ill-defined and being set to 0.0 in labels with no predicted samples. Use `zero_division` parameter to control this behavior.\n",
      "  _warn_prf(average, modifier, msg_start, len(result))\n",
      "/home/onyxia/work/.venv/lib/python3.10/site-packages/sklearn/metrics/_classification.py:1471: UndefinedMetricWarning: Precision and F-score are ill-defined and being set to 0.0 in labels with no predicted samples. Use `zero_division` parameter to control this behavior.\n",
      "  _warn_prf(average, modifier, msg_start, len(result))\n",
      "/home/onyxia/work/.venv/lib/python3.10/site-packages/sklearn/metrics/_classification.py:1471: UndefinedMetricWarning: Precision and F-score are ill-defined and being set to 0.0 in labels with no predicted samples. Use `zero_division` parameter to control this behavior.\n",
      "  _warn_prf(average, modifier, msg_start, len(result))\n"
     ]
    },
    {
     "name": "stdout",
     "output_type": "stream",
     "text": [
      "Classification Report:\n",
      "                precision    recall  f1-score   support\n",
      "\n",
      "  B-Condition       0.75      0.83      0.79      1729\n",
      "       B-Drug       0.79      0.85      0.82       713\n",
      "       B-Mood       0.25      0.07      0.11        42\n",
      "B-Observation       0.60      0.15      0.24       210\n",
      "     B-Person       0.78      0.55      0.64       169\n",
      "  B-Procedure       0.64      0.69      0.66       507\n",
      "  I-Condition       0.78      0.71      0.75      1457\n",
      "       I-Drug       0.64      0.73      0.68       335\n",
      "       I-Mood       0.00      0.00      0.00        26\n",
      "I-Observation       0.42      0.05      0.08       242\n",
      "     I-Person       0.00      0.00      0.00        27\n",
      "  I-Procedure       0.77      0.55      0.64       501\n",
      "            O       0.91      0.94      0.92     12157\n",
      "\n",
      "     accuracy                           0.86     18115\n",
      "    macro avg       0.56      0.47      0.49     18115\n",
      " weighted avg       0.84      0.86      0.85     18115\n",
      "\n",
      "\n"
     ]
    },
    {
     "name": "stderr",
     "output_type": "stream",
     "text": [
      "Epoch:  40%|████      | 2/5 [1:46:46<2:38:57, 3179.06s/it]"
     ]
    },
    {
     "name": "stdout",
     "output_type": "stream",
     "text": [
      "Model saved successfully.\n",
      "Average train loss: 0.06928484749356051\n",
      "Validation loss: 0.08951252518642333\n",
      "Validation Accuracy: 0.8545404361026774\n",
      "Validation F1-Score: 0.8635066138464488\n"
     ]
    },
    {
     "name": "stderr",
     "output_type": "stream",
     "text": [
      "/home/onyxia/work/.venv/lib/python3.10/site-packages/sklearn/metrics/_classification.py:1471: UndefinedMetricWarning: Precision and F-score are ill-defined and being set to 0.0 in labels with no predicted samples. Use `zero_division` parameter to control this behavior.\n",
      "  _warn_prf(average, modifier, msg_start, len(result))\n",
      "/home/onyxia/work/.venv/lib/python3.10/site-packages/sklearn/metrics/_classification.py:1471: UndefinedMetricWarning: Precision and F-score are ill-defined and being set to 0.0 in labels with no predicted samples. Use `zero_division` parameter to control this behavior.\n",
      "  _warn_prf(average, modifier, msg_start, len(result))\n",
      "/home/onyxia/work/.venv/lib/python3.10/site-packages/sklearn/metrics/_classification.py:1471: UndefinedMetricWarning: Precision and F-score are ill-defined and being set to 0.0 in labels with no predicted samples. Use `zero_division` parameter to control this behavior.\n",
      "  _warn_prf(average, modifier, msg_start, len(result))\n",
      "Epoch:  60%|██████    | 3/5 [2:09:36<1:18:26, 2353.32s/it]"
     ]
    },
    {
     "name": "stdout",
     "output_type": "stream",
     "text": [
      "Classification Report:\n",
      "                precision    recall  f1-score   support\n",
      "\n",
      "  B-Condition       0.74      0.83      0.78      1729\n",
      "       B-Drug       0.84      0.82      0.83       713\n",
      "       B-Mood       0.25      0.12      0.16        42\n",
      "B-Observation       0.58      0.14      0.22       210\n",
      "     B-Person       0.79      0.59      0.67       169\n",
      "  B-Procedure       0.68      0.63      0.66       507\n",
      "  I-Condition       0.70      0.78      0.74      1457\n",
      "       I-Drug       0.65      0.70      0.68       335\n",
      "       I-Mood       0.43      0.12      0.18        26\n",
      "I-Observation       0.31      0.06      0.10       242\n",
      "     I-Person       0.00      0.00      0.00        27\n",
      "  I-Procedure       0.77      0.55      0.64       501\n",
      "            O       0.91      0.93      0.92     12157\n",
      "\n",
      "     accuracy                           0.85     18115\n",
      "    macro avg       0.59      0.48      0.51     18115\n",
      " weighted avg       0.84      0.85      0.85     18115\n",
      "\n",
      "\n",
      "Average train loss: 0.05670627010952828\n",
      "Validation loss: 0.08862299111581617\n",
      "Validation Accuracy: 0.8590670714877173\n",
      "Validation F1-Score: 0.8635801027070593\n"
     ]
    },
    {
     "name": "stderr",
     "output_type": "stream",
     "text": [
      "/home/onyxia/work/.venv/lib/python3.10/site-packages/sklearn/metrics/_classification.py:1471: UndefinedMetricWarning: Precision and F-score are ill-defined and being set to 0.0 in labels with no predicted samples. Use `zero_division` parameter to control this behavior.\n",
      "  _warn_prf(average, modifier, msg_start, len(result))\n",
      "/home/onyxia/work/.venv/lib/python3.10/site-packages/sklearn/metrics/_classification.py:1471: UndefinedMetricWarning: Precision and F-score are ill-defined and being set to 0.0 in labels with no predicted samples. Use `zero_division` parameter to control this behavior.\n",
      "  _warn_prf(average, modifier, msg_start, len(result))\n",
      "/home/onyxia/work/.venv/lib/python3.10/site-packages/sklearn/metrics/_classification.py:1471: UndefinedMetricWarning: Precision and F-score are ill-defined and being set to 0.0 in labels with no predicted samples. Use `zero_division` parameter to control this behavior.\n",
      "  _warn_prf(average, modifier, msg_start, len(result))\n",
      "Epoch:  80%|████████  | 4/5 [2:20:53<28:11, 1691.24s/it]  "
     ]
    },
    {
     "name": "stdout",
     "output_type": "stream",
     "text": [
      "Classification Report:\n",
      "                precision    recall  f1-score   support\n",
      "\n",
      "  B-Condition       0.77      0.82      0.80      1729\n",
      "       B-Drug       0.82      0.86      0.84       713\n",
      "       B-Mood       0.26      0.14      0.18        42\n",
      "B-Observation       0.49      0.20      0.28       210\n",
      "     B-Person       0.72      0.67      0.70       169\n",
      "  B-Procedure       0.70      0.65      0.67       507\n",
      "  I-Condition       0.72      0.78      0.75      1457\n",
      "       I-Drug       0.66      0.78      0.71       335\n",
      "       I-Mood       0.36      0.15      0.22        26\n",
      "I-Observation       0.25      0.16      0.19       242\n",
      "     I-Person       0.00      0.00      0.00        27\n",
      "  I-Procedure       0.73      0.65      0.69       501\n",
      "            O       0.92      0.93      0.93     12157\n",
      "\n",
      "     accuracy                           0.86     18115\n",
      "    macro avg       0.57      0.52      0.54     18115\n",
      " weighted avg       0.85      0.86      0.85     18115\n",
      "\n",
      "\n",
      "Average train loss: 0.04798264504789198\n",
      "Validation loss: 0.08961813416211836\n",
      "Validation Accuracy: 0.8621584322384764\n",
      "Validation F1-Score: 0.8681536997178536\n"
     ]
    },
    {
     "name": "stderr",
     "output_type": "stream",
     "text": [
      "/home/onyxia/work/.venv/lib/python3.10/site-packages/sklearn/metrics/_classification.py:1471: UndefinedMetricWarning: Precision and F-score are ill-defined and being set to 0.0 in labels with no predicted samples. Use `zero_division` parameter to control this behavior.\n",
      "  _warn_prf(average, modifier, msg_start, len(result))\n",
      "/home/onyxia/work/.venv/lib/python3.10/site-packages/sklearn/metrics/_classification.py:1471: UndefinedMetricWarning: Precision and F-score are ill-defined and being set to 0.0 in labels with no predicted samples. Use `zero_division` parameter to control this behavior.\n",
      "  _warn_prf(average, modifier, msg_start, len(result))\n",
      "/home/onyxia/work/.venv/lib/python3.10/site-packages/sklearn/metrics/_classification.py:1471: UndefinedMetricWarning: Precision and F-score are ill-defined and being set to 0.0 in labels with no predicted samples. Use `zero_division` parameter to control this behavior.\n",
      "  _warn_prf(average, modifier, msg_start, len(result))\n",
      "Epoch: 100%|██████████| 5/5 [2:32:10<00:00, 1826.15s/it]"
     ]
    },
    {
     "name": "stdout",
     "output_type": "stream",
     "text": [
      "Classification Report:\n",
      "                precision    recall  f1-score   support\n",
      "\n",
      "  B-Condition       0.79      0.81      0.80      1729\n",
      "       B-Drug       0.84      0.84      0.84       713\n",
      "       B-Mood       0.27      0.14      0.19        42\n",
      "B-Observation       0.49      0.19      0.27       210\n",
      "     B-Person       0.73      0.68      0.70       169\n",
      "  B-Procedure       0.68      0.68      0.68       507\n",
      "  I-Condition       0.75      0.75      0.75      1457\n",
      "       I-Drug       0.66      0.75      0.70       335\n",
      "       I-Mood       0.27      0.15      0.20        26\n",
      "I-Observation       0.27      0.14      0.19       242\n",
      "     I-Person       0.00      0.00      0.00        27\n",
      "  I-Procedure       0.74      0.65      0.69       501\n",
      "            O       0.92      0.94      0.93     12157\n",
      "\n",
      "     accuracy                           0.86     18115\n",
      "    macro avg       0.57      0.52      0.53     18115\n",
      " weighted avg       0.85      0.86      0.86     18115\n",
      "\n",
      "\n"
     ]
    },
    {
     "name": "stderr",
     "output_type": "stream",
     "text": [
      "\n"
     ]
    }
   ],
   "source": [
    "model.train_eval(epochs=5,weight=[1]*len(tag2idx))"
   ]
  },
  {
   "cell_type": "code",
   "execution_count": 95,
   "metadata": {},
   "outputs": [
    {
     "data": {
      "image/png": "[encoded data removed]",
      "text/plain": [
       "<Figure size 1200x600 with 1 Axes>"
      ]
     },
     "metadata": {},
     "output_type": "display_data"
    }
   ],
   "source": [
    "model.plotloss()"
   ]
  },
  {
   "cell_type": "code",
   "execution_count": 93,
   "metadata": {},
   "outputs": [
    {
     "data": {
      "text/plain": [
       "[('this', 'O'), ('is', 'O'), ('a', 'O'), ('cancer', 'B-Condition')]"
      ]
     },
     "execution_count": 93,
     "metadata": {},
     "output_type": "execute_result"
    }
   ],
   "source": [
    "model.predict(\"This is a cancer\")"
   ]
  }
 ],
 "metadata": {
  "kernelspec": {
   "display_name": ".venv",
   "language": "python",
   "name": "python3"
  },
  "language_info": {
   "codemirror_mode": {
    "name": "ipython",
    "version": 3
   },
   "file_extension": ".py",
   "mimetype": "text/x-python",
   "name": "python",
   "nbconvert_exporter": "python",
   "pygments_lexer": "ipython3",
   "version": "3.10.13"
  }
 },
 "nbformat": 4,
 "nbformat_minor": 2
}
