{
 "cells": [
  {
   "cell_type": "code",
   "execution_count": 1,
   "metadata": {},
   "outputs": [
    {
     "name": "stderr",
     "output_type": "stream",
     "text": [
      "/home/onyxia/work/.venv/lib/python3.10/site-packages/tqdm/auto.py:21: TqdmWarning: IProgress not found. Please update jupyter and ipywidgets. See https://ipywidgets.readthedocs.io/en/stable/user_install.html\n",
      "  from .autonotebook import tqdm as notebook_tqdm\n"
     ]
    }
   ],
   "source": [
    "import numpy as np\n",
    "import pandas as pd\n",
    "from seqeval.metrics import accuracy_score\n",
    "import torch.nn as nn\n",
    "from tqdm import tqdm, trange\n",
    "import torch\n",
    "from torch.utils.data import TensorDataset, DataLoader, RandomSampler, SequentialSampler\n",
    "from transformers import BertTokenizer, BertConfig\n",
    "from sklearn.model_selection import train_test_split\n",
    "import re\n",
    "from transformers import get_linear_schedule_with_warmup\n",
    "from transformers import DataCollatorForTokenClassification\n",
    "from transformers import BertForTokenClassification, AdamW\n",
    "import numpy as np\n",
    "import matplotlib.pyplot as plt\n",
    "import seaborn as sns\n",
    "from sklearn.metrics import f1_score,classification_report\n",
    "from concurrent.futures import ThreadPoolExecutor\n",
    "from keras_preprocessing.sequence import pad_sequences\n",
    "from modules.NER_functions import *"
   ]
  },
  {
   "cell_type": "code",
   "execution_count": 2,
   "metadata": {},
   "outputs": [
    {
     "name": "stderr",
     "output_type": "stream",
     "text": [
      "/tmp/ipykernel_13015/2479533425.py:2: DtypeWarning: Columns (2,3,4,5,10,11,12,13,14,15,17,18,19,21,22,23,24,25,26,28,29,30,31,32,33,34,35,36,37,42,43,68,79,80,81,82,88,89,94,95,97,98,99,100,101,102,104,105,109,110,111,112,113,114,115,116,118,121,122,151,163,169,184,192,193,194,195,196,200,206,209,210,212,213,214,215,216,217,218,219,220,222,223,225,226,228,229,230,232,233,234,235,236,237,238,239,240,241,242,243,244,245,246,247,248,249,250,262,263,264,265,266,275,279,280,282,283,284,285,286,287,300,301,302,303,304,308,320,321,322,324,325,326) have mixed types. Specify dtype option on import or set low_memory=False.\n",
      "  df = pd.read_csv('../data/clini_data.csv')\n"
     ]
    }
   ],
   "source": [
    "df_train = pd.read_csv('./data/train.csv')\n",
    "df = pd.read_csv('../data/clini_data.csv')"
   ]
  },
  {
   "cell_type": "code",
   "execution_count": 3,
   "metadata": {},
   "outputs": [],
   "source": [
    "getter = SentenceGetter(df_train)"
   ]
  },
  {
   "cell_type": "code",
   "execution_count": 4,
   "metadata": {},
   "outputs": [
    {
     "data": {
      "text/plain": [
       "['With',\n",
       " 'severe',\n",
       " 'comorbidities',\n",
       " ',',\n",
       " 'such',\n",
       " 'as',\n",
       " 'cardiovascular',\n",
       " 'disease',\n",
       " ',',\n",
       " 'chronic',\n",
       " 'obstructive',\n",
       " 'pulmonary',\n",
       " 'disease',\n",
       " ',',\n",
       " 'diabetes',\n",
       " 'mellitus',\n",
       " ',',\n",
       " 'and',\n",
       " 'chronic',\n",
       " 'renal',\n",
       " 'dysfunction',\n",
       " '.']"
      ]
     },
     "execution_count": 4,
     "metadata": {},
     "output_type": "execute_result"
    }
   ],
   "source": [
    "sentences = [[word[0] for word in sentence] for sentence in getter.sentences]\n",
    "sentences[0]"
   ]
  },
  {
   "cell_type": "code",
   "execution_count": 5,
   "metadata": {},
   "outputs": [
    {
     "name": "stdout",
     "output_type": "stream",
     "text": [
      "['O', 'O', 'B-Condition', 'O', 'O', 'O', 'B-Condition', 'I-Condition', 'O', 'B-Condition', 'I-Condition', 'I-Condition', 'I-Condition', 'O', 'B-Condition', 'I-Condition', 'O', 'O', 'B-Condition', 'I-Condition', 'I-Condition', 'O']\n"
     ]
    }
   ],
   "source": [
    "labels = [[s[1] for s in sentence] for sentence in getter.sentences]\n",
    "print(labels[0])"
   ]
  },
  {
   "cell_type": "code",
   "execution_count": 7,
   "metadata": {},
   "outputs": [
    {
     "data": {
      "text/plain": [
       "{'I-Procedure': 0,\n",
       " 'B-Drug': 1,\n",
       " 'I-Condition': 2,\n",
       " 'I-Person': 3,\n",
       " 'B-Condition': 4,\n",
       " 'O': 5,\n",
       " 'I-Observation': 6,\n",
       " 'B-Procedure': 7,\n",
       " 'B-Person': 8,\n",
       " 'B-Mood': 9,\n",
       " 'I-Mood': 10,\n",
       " 'B-Observation': 11,\n",
       " 'I-Drug': 12,\n",
       " 'PAD': 13}"
      ]
     },
     "execution_count": 7,
     "metadata": {},
     "output_type": "execute_result"
    }
   ],
   "source": [
    "tag_values = list(set(df_train[\"Label\"].values))\n",
    "tag_values.append(\"PAD\")\n",
    "tag2idx = {t: i for i, t in enumerate(tag_values)}\n",
    "tag2idx"
   ]
  },
  {
   "cell_type": "code",
   "execution_count": 8,
   "metadata": {},
   "outputs": [
    {
     "name": "stderr",
     "output_type": "stream",
     "text": [
      "tokenizer_config.json: 100%|██████████| 49.0/49.0 [00:00<00:00, 95.7kB/s]\n",
      "vocab.txt: 100%|██████████| 213k/213k [00:00<00:00, 1.31MB/s]\n",
      "special_tokens_map.json: 100%|██████████| 112/112 [00:00<00:00, 223kB/s]\n",
      "config.json: 100%|██████████| 462/462 [00:00<00:00, 474kB/s]\n"
     ]
    }
   ],
   "source": [
    "model = Bert_Model(sentences=sentences, labels=labels, tag_values=tag_values, tokenizer=\"dmis-lab/biobert-v1.1\")"
   ]
  },
  {
   "cell_type": "code",
   "execution_count": 9,
   "metadata": {},
   "outputs": [],
   "source": [
    "model.getparam(100)"
   ]
  },
  {
   "cell_type": "code",
   "execution_count": 10,
   "metadata": {},
   "outputs": [
    {
     "name": "stderr",
     "output_type": "stream",
     "text": [
      "pytorch_model.bin: 100%|██████████| 433M/433M [00:03<00:00, 110MB/s]  \n",
      "Some weights of BertForTokenClassification were not initialized from the model checkpoint at dmis-lab/biobert-v1.1 and are newly initialized: ['classifier.bias', 'classifier.weight']\n",
      "You should probably TRAIN this model on a down-stream task to be able to use it for predictions and inference.\n",
      "/home/onyxia/work/.venv/lib/python3.10/site-packages/transformers/optimization.py:429: FutureWarning: This implementation of AdamW is deprecated and will be removed in a future version. Use the PyTorch implementation torch.optim.AdamW instead, or set `no_deprecation_warning=True` to disable this warning\n",
      "  warnings.warn(\n"
     ]
    }
   ],
   "source": [
    "model.preprocess()"
   ]
  },
  {
   "cell_type": "code",
   "execution_count": 11,
   "metadata": {},
   "outputs": [
    {
     "name": "stderr",
     "output_type": "stream",
     "text": [
      "Epoch:   0%|          | 0/8 [00:00<?, ?it/s]"
     ]
    },
    {
     "name": "stdout",
     "output_type": "stream",
     "text": [
      "Average train loss: 0.20901072313708643\n",
      "Validation loss: 0.09825205334251927\n",
      "Validation Accuracy: 0.8479974936034672\n",
      "Validation F1-Score: 0.8617134889122638\n"
     ]
    },
    {
     "name": "stderr",
     "output_type": "stream",
     "text": [
      "/home/onyxia/work/.venv/lib/python3.10/site-packages/sklearn/metrics/_classification.py:1471: UndefinedMetricWarning: Precision and F-score are ill-defined and being set to 0.0 in labels with no predicted samples. Use `zero_division` parameter to control this behavior.\n",
      "  _warn_prf(average, modifier, msg_start, len(result))\n",
      "/home/onyxia/work/.venv/lib/python3.10/site-packages/sklearn/metrics/_classification.py:1471: UndefinedMetricWarning: Recall and F-score are ill-defined and being set to 0.0 in labels with no true samples. Use `zero_division` parameter to control this behavior.\n",
      "  _warn_prf(average, modifier, msg_start, len(result))\n",
      "/home/onyxia/work/.venv/lib/python3.10/site-packages/sklearn/metrics/_classification.py:1471: UndefinedMetricWarning: Precision and F-score are ill-defined and being set to 0.0 in labels with no predicted samples. Use `zero_division` parameter to control this behavior.\n",
      "  _warn_prf(average, modifier, msg_start, len(result))\n",
      "/home/onyxia/work/.venv/lib/python3.10/site-packages/sklearn/metrics/_classification.py:1471: UndefinedMetricWarning: Recall and F-score are ill-defined and being set to 0.0 in labels with no true samples. Use `zero_division` parameter to control this behavior.\n",
      "  _warn_prf(average, modifier, msg_start, len(result))\n",
      "/home/onyxia/work/.venv/lib/python3.10/site-packages/sklearn/metrics/_classification.py:1471: UndefinedMetricWarning: Precision and F-score are ill-defined and being set to 0.0 in labels with no predicted samples. Use `zero_division` parameter to control this behavior.\n",
      "  _warn_prf(average, modifier, msg_start, len(result))\n",
      "/home/onyxia/work/.venv/lib/python3.10/site-packages/sklearn/metrics/_classification.py:1471: UndefinedMetricWarning: Recall and F-score are ill-defined and being set to 0.0 in labels with no true samples. Use `zero_division` parameter to control this behavior.\n",
      "  _warn_prf(average, modifier, msg_start, len(result))\n"
     ]
    },
    {
     "name": "stdout",
     "output_type": "stream",
     "text": [
      "Classification Report:\n",
      "                precision    recall  f1-score   support\n",
      "\n",
      "  B-Condition       0.78      0.80      0.79      2038\n",
      "       B-Drug       0.82      0.84      0.83       774\n",
      "       B-Mood       0.00      0.00      0.00        42\n",
      "B-Observation       0.50      0.02      0.05       211\n",
      "     B-Person       0.80      0.26      0.39       172\n",
      "  B-Procedure       0.76      0.60      0.67       590\n",
      "  I-Condition       0.69      0.75      0.72      1588\n",
      "       I-Drug       0.59      0.72      0.65       358\n",
      "       I-Mood       0.00      0.00      0.00        26\n",
      "I-Observation       0.62      0.02      0.04       249\n",
      "     I-Person       0.00      0.00      0.00        27\n",
      "  I-Procedure       0.72      0.62      0.67       531\n",
      "            O       0.90      0.94      0.92     12545\n",
      "          PAD       0.00      0.00      0.00         0\n",
      "\n",
      "     accuracy                           0.85     19151\n",
      "    macro avg       0.51      0.40      0.41     19151\n",
      " weighted avg       0.84      0.85      0.83     19151\n",
      "\n",
      "\n"
     ]
    },
    {
     "name": "stderr",
     "output_type": "stream",
     "text": [
      "Epoch:  12%|█▎        | 1/8 [09:24<1:05:49, 564.22s/it]"
     ]
    },
    {
     "name": "stdout",
     "output_type": "stream",
     "text": [
      "Model saved successfully.\n",
      "Average train loss: 0.0866268000149879\n",
      "Validation loss: 0.08764307152840399\n",
      "Validation Accuracy: 0.8640279880946165\n",
      "Validation F1-Score: 0.8716858987322837\n"
     ]
    },
    {
     "name": "stderr",
     "output_type": "stream",
     "text": [
      "/home/onyxia/work/.venv/lib/python3.10/site-packages/sklearn/metrics/_classification.py:1471: UndefinedMetricWarning: Precision and F-score are ill-defined and being set to 0.0 in labels with no predicted samples. Use `zero_division` parameter to control this behavior.\n",
      "  _warn_prf(average, modifier, msg_start, len(result))\n",
      "/home/onyxia/work/.venv/lib/python3.10/site-packages/sklearn/metrics/_classification.py:1471: UndefinedMetricWarning: Precision and F-score are ill-defined and being set to 0.0 in labels with no predicted samples. Use `zero_division` parameter to control this behavior.\n",
      "  _warn_prf(average, modifier, msg_start, len(result))\n",
      "/home/onyxia/work/.venv/lib/python3.10/site-packages/sklearn/metrics/_classification.py:1471: UndefinedMetricWarning: Precision and F-score are ill-defined and being set to 0.0 in labels with no predicted samples. Use `zero_division` parameter to control this behavior.\n",
      "  _warn_prf(average, modifier, msg_start, len(result))\n"
     ]
    },
    {
     "name": "stdout",
     "output_type": "stream",
     "text": [
      "Classification Report:\n",
      "                precision    recall  f1-score   support\n",
      "\n",
      "  B-Condition       0.82      0.81      0.82      2038\n",
      "       B-Drug       0.82      0.83      0.82       774\n",
      "       B-Mood       0.38      0.12      0.18        42\n",
      "B-Observation       0.50      0.25      0.33       211\n",
      "     B-Person       0.80      0.65      0.72       172\n",
      "  B-Procedure       0.75      0.73      0.74       590\n",
      "  I-Condition       0.75      0.75      0.75      1588\n",
      "       I-Drug       0.55      0.85      0.67       358\n",
      "       I-Mood       1.00      0.04      0.07        26\n",
      "I-Observation       0.48      0.06      0.10       249\n",
      "     I-Person       0.00      0.00      0.00        27\n",
      "  I-Procedure       0.77      0.63      0.70       531\n",
      "            O       0.92      0.94      0.93     12545\n",
      "\n",
      "     accuracy                           0.86     19151\n",
      "    macro avg       0.66      0.51      0.53     19151\n",
      " weighted avg       0.86      0.86      0.86     19151\n",
      "\n",
      "\n"
     ]
    },
    {
     "name": "stderr",
     "output_type": "stream",
     "text": [
      "Epoch:  25%|██▌       | 2/8 [18:49<56:30, 565.07s/it]  "
     ]
    },
    {
     "name": "stdout",
     "output_type": "stream",
     "text": [
      "Model saved successfully.\n",
      "Average train loss: 0.06514143924759601\n",
      "Validation loss: 0.08422471967435652\n",
      "Validation Accuracy: 0.8689363479713853\n",
      "Validation F1-Score: 0.8753843830605633\n"
     ]
    },
    {
     "name": "stderr",
     "output_type": "stream",
     "text": [
      "/home/onyxia/work/.venv/lib/python3.10/site-packages/sklearn/metrics/_classification.py:1471: UndefinedMetricWarning: Precision and F-score are ill-defined and being set to 0.0 in labels with no predicted samples. Use `zero_division` parameter to control this behavior.\n",
      "  _warn_prf(average, modifier, msg_start, len(result))\n",
      "/home/onyxia/work/.venv/lib/python3.10/site-packages/sklearn/metrics/_classification.py:1471: UndefinedMetricWarning: Precision and F-score are ill-defined and being set to 0.0 in labels with no predicted samples. Use `zero_division` parameter to control this behavior.\n",
      "  _warn_prf(average, modifier, msg_start, len(result))\n",
      "/home/onyxia/work/.venv/lib/python3.10/site-packages/sklearn/metrics/_classification.py:1471: UndefinedMetricWarning: Precision and F-score are ill-defined and being set to 0.0 in labels with no predicted samples. Use `zero_division` parameter to control this behavior.\n",
      "  _warn_prf(average, modifier, msg_start, len(result))\n"
     ]
    },
    {
     "name": "stdout",
     "output_type": "stream",
     "text": [
      "Classification Report:\n",
      "                precision    recall  f1-score   support\n",
      "\n",
      "  B-Condition       0.84      0.82      0.83      2038\n",
      "       B-Drug       0.88      0.81      0.84       774\n",
      "       B-Mood       0.47      0.21      0.30        42\n",
      "B-Observation       0.54      0.28      0.37       211\n",
      "     B-Person       0.82      0.74      0.78       172\n",
      "  B-Procedure       0.70      0.73      0.71       590\n",
      "  I-Condition       0.77      0.76      0.76      1588\n",
      "       I-Drug       0.73      0.73      0.73       358\n",
      "       I-Mood       0.64      0.27      0.38        26\n",
      "I-Observation       0.38      0.11      0.17       249\n",
      "     I-Person       0.00      0.00      0.00        27\n",
      "  I-Procedure       0.70      0.69      0.69       531\n",
      "            O       0.91      0.94      0.93     12545\n",
      "\n",
      "     accuracy                           0.87     19151\n",
      "    macro avg       0.64      0.55      0.58     19151\n",
      " weighted avg       0.86      0.87      0.86     19151\n",
      "\n",
      "\n"
     ]
    },
    {
     "name": "stderr",
     "output_type": "stream",
     "text": [
      "Epoch:  38%|███▊      | 3/8 [28:04<46:41, 560.30s/it]"
     ]
    },
    {
     "name": "stdout",
     "output_type": "stream",
     "text": [
      "Model saved successfully.\n",
      "Average train loss: 0.05074209123549442\n",
      "Validation loss: 0.0872593514861599\n",
      "Validation Accuracy: 0.8714427445042034\n",
      "Validation F1-Score: 0.8786719601319117\n"
     ]
    },
    {
     "name": "stderr",
     "output_type": "stream",
     "text": [
      "/home/onyxia/work/.venv/lib/python3.10/site-packages/sklearn/metrics/_classification.py:1471: UndefinedMetricWarning: Precision and F-score are ill-defined and being set to 0.0 in labels with no predicted samples. Use `zero_division` parameter to control this behavior.\n",
      "  _warn_prf(average, modifier, msg_start, len(result))\n",
      "/home/onyxia/work/.venv/lib/python3.10/site-packages/sklearn/metrics/_classification.py:1471: UndefinedMetricWarning: Precision and F-score are ill-defined and being set to 0.0 in labels with no predicted samples. Use `zero_division` parameter to control this behavior.\n",
      "  _warn_prf(average, modifier, msg_start, len(result))\n",
      "/home/onyxia/work/.venv/lib/python3.10/site-packages/sklearn/metrics/_classification.py:1471: UndefinedMetricWarning: Precision and F-score are ill-defined and being set to 0.0 in labels with no predicted samples. Use `zero_division` parameter to control this behavior.\n",
      "  _warn_prf(average, modifier, msg_start, len(result))\n",
      "Epoch:  50%|█████     | 4/8 [37:15<37:06, 556.55s/it]"
     ]
    },
    {
     "name": "stdout",
     "output_type": "stream",
     "text": [
      "Classification Report:\n",
      "                precision    recall  f1-score   support\n",
      "\n",
      "  B-Condition       0.85      0.81      0.83      2038\n",
      "       B-Drug       0.84      0.87      0.86       774\n",
      "       B-Mood       0.45      0.24      0.31        42\n",
      "B-Observation       0.57      0.20      0.30       211\n",
      "     B-Person       0.88      0.65      0.75       172\n",
      "  B-Procedure       0.79      0.68      0.73       590\n",
      "  I-Condition       0.76      0.76      0.76      1588\n",
      "       I-Drug       0.70      0.84      0.77       358\n",
      "       I-Mood       0.53      0.31      0.39        26\n",
      "I-Observation       0.39      0.13      0.19       249\n",
      "     I-Person       0.00      0.00      0.00        27\n",
      "  I-Procedure       0.73      0.69      0.71       531\n",
      "            O       0.91      0.95      0.93     12545\n",
      "\n",
      "     accuracy                           0.87     19151\n",
      "    macro avg       0.65      0.55      0.58     19151\n",
      " weighted avg       0.86      0.87      0.86     19151\n",
      "\n",
      "\n",
      "Average train loss: 0.03959504845902644\n",
      "Validation loss: 0.09415040477629631\n",
      "Validation Accuracy: 0.8659077854942301\n",
      "Validation F1-Score: 0.8704053914369195\n"
     ]
    },
    {
     "name": "stderr",
     "output_type": "stream",
     "text": [
      "/home/onyxia/work/.venv/lib/python3.10/site-packages/sklearn/metrics/_classification.py:1471: UndefinedMetricWarning: Precision and F-score are ill-defined and being set to 0.0 in labels with no predicted samples. Use `zero_division` parameter to control this behavior.\n",
      "  _warn_prf(average, modifier, msg_start, len(result))\n",
      "/home/onyxia/work/.venv/lib/python3.10/site-packages/sklearn/metrics/_classification.py:1471: UndefinedMetricWarning: Precision and F-score are ill-defined and being set to 0.0 in labels with no predicted samples. Use `zero_division` parameter to control this behavior.\n",
      "  _warn_prf(average, modifier, msg_start, len(result))\n",
      "/home/onyxia/work/.venv/lib/python3.10/site-packages/sklearn/metrics/_classification.py:1471: UndefinedMetricWarning: Precision and F-score are ill-defined and being set to 0.0 in labels with no predicted samples. Use `zero_division` parameter to control this behavior.\n",
      "  _warn_prf(average, modifier, msg_start, len(result))\n",
      "Epoch:  62%|██████▎   | 5/8 [46:32<27:50, 556.89s/it]"
     ]
    },
    {
     "name": "stdout",
     "output_type": "stream",
     "text": [
      "Classification Report:\n",
      "                precision    recall  f1-score   support\n",
      "\n",
      "  B-Condition       0.82      0.83      0.83      2038\n",
      "       B-Drug       0.83      0.86      0.85       774\n",
      "       B-Mood       0.33      0.29      0.31        42\n",
      "B-Observation       0.54      0.28      0.37       211\n",
      "     B-Person       0.80      0.77      0.78       172\n",
      "  B-Procedure       0.75      0.68      0.72       590\n",
      "  I-Condition       0.75      0.77      0.76      1588\n",
      "       I-Drug       0.71      0.81      0.76       358\n",
      "       I-Mood       0.36      0.38      0.37        26\n",
      "I-Observation       0.28      0.14      0.19       249\n",
      "     I-Person       0.00      0.00      0.00        27\n",
      "  I-Procedure       0.72      0.68      0.70       531\n",
      "            O       0.92      0.93      0.93     12545\n",
      "\n",
      "     accuracy                           0.87     19151\n",
      "    macro avg       0.60      0.57      0.58     19151\n",
      " weighted avg       0.86      0.87      0.86     19151\n",
      "\n",
      "\n",
      "Average train loss: 0.031785639682217204\n",
      "Validation loss: 0.10381801258171758\n",
      "Validation Accuracy: 0.8681530990548797\n",
      "Validation F1-Score: 0.8715377724120583\n"
     ]
    },
    {
     "name": "stderr",
     "output_type": "stream",
     "text": [
      "Epoch:  75%|███████▌  | 6/8 [55:43<18:29, 554.74s/it]"
     ]
    },
    {
     "name": "stdout",
     "output_type": "stream",
     "text": [
      "Classification Report:\n",
      "                precision    recall  f1-score   support\n",
      "\n",
      "  B-Condition       0.82      0.84      0.83      2038\n",
      "       B-Drug       0.87      0.82      0.84       774\n",
      "       B-Mood       0.37      0.36      0.36        42\n",
      "B-Observation       0.53      0.36      0.43       211\n",
      "     B-Person       0.78      0.81      0.80       172\n",
      "  B-Procedure       0.72      0.75      0.74       590\n",
      "  I-Condition       0.75      0.78      0.76      1588\n",
      "       I-Drug       0.74      0.76      0.75       358\n",
      "       I-Mood       0.29      0.38      0.33        26\n",
      "I-Observation       0.30      0.13      0.18       249\n",
      "     I-Person       0.22      0.07      0.11        27\n",
      "  I-Procedure       0.70      0.71      0.70       531\n",
      "            O       0.92      0.93      0.93     12545\n",
      "\n",
      "     accuracy                           0.87     19151\n",
      "    macro avg       0.62      0.59      0.60     19151\n",
      " weighted avg       0.86      0.87      0.86     19151\n",
      "\n",
      "\n",
      "Average train loss: 0.027114941342984155\n",
      "Validation loss: 0.1044730368641115\n",
      "Validation Accuracy: 0.868988564565819\n",
      "Validation F1-Score: 0.8729355255770092\n"
     ]
    },
    {
     "name": "stderr",
     "output_type": "stream",
     "text": [
      "Epoch:  88%|████████▊ | 7/8 [1:04:52<09:12, 552.84s/it]"
     ]
    },
    {
     "name": "stdout",
     "output_type": "stream",
     "text": [
      "Classification Report:\n",
      "                precision    recall  f1-score   support\n",
      "\n",
      "  B-Condition       0.83      0.85      0.84      2038\n",
      "       B-Drug       0.85      0.85      0.85       774\n",
      "       B-Mood       0.41      0.33      0.37        42\n",
      "B-Observation       0.53      0.33      0.40       211\n",
      "     B-Person       0.80      0.80      0.80       172\n",
      "  B-Procedure       0.75      0.73      0.74       590\n",
      "  I-Condition       0.76      0.77      0.77      1588\n",
      "       I-Drug       0.72      0.78      0.75       358\n",
      "       I-Mood       0.27      0.31      0.29        26\n",
      "I-Observation       0.27      0.12      0.17       249\n",
      "     I-Person       0.22      0.07      0.11        27\n",
      "  I-Procedure       0.70      0.67      0.69       531\n",
      "            O       0.92      0.93      0.93     12545\n",
      "\n",
      "     accuracy                           0.87     19151\n",
      "    macro avg       0.62      0.58      0.59     19151\n",
      " weighted avg       0.86      0.87      0.87     19151\n",
      "\n",
      "\n",
      "Average train loss: 0.02368133975439922\n",
      "Validation loss: 0.10703190800643736\n",
      "Validation Accuracy: 0.8694062973212887\n",
      "Validation F1-Score: 0.87290450722841\n"
     ]
    },
    {
     "name": "stderr",
     "output_type": "stream",
     "text": [
      "Epoch: 100%|██████████| 8/8 [1:13:59<00:00, 554.88s/it]"
     ]
    },
    {
     "name": "stdout",
     "output_type": "stream",
     "text": [
      "Classification Report:\n",
      "                precision    recall  f1-score   support\n",
      "\n",
      "  B-Condition       0.83      0.85      0.84      2038\n",
      "       B-Drug       0.85      0.85      0.85       774\n",
      "       B-Mood       0.35      0.36      0.35        42\n",
      "B-Observation       0.51      0.33      0.40       211\n",
      "     B-Person       0.82      0.81      0.82       172\n",
      "  B-Procedure       0.74      0.73      0.74       590\n",
      "  I-Condition       0.77      0.77      0.77      1588\n",
      "       I-Drug       0.72      0.77      0.74       358\n",
      "       I-Mood       0.28      0.35      0.31        26\n",
      "I-Observation       0.25      0.13      0.17       249\n",
      "     I-Person       0.18      0.07      0.11        27\n",
      "  I-Procedure       0.70      0.66      0.68       531\n",
      "            O       0.92      0.93      0.93     12545\n",
      "\n",
      "     accuracy                           0.87     19151\n",
      "    macro avg       0.61      0.59      0.59     19151\n",
      " weighted avg       0.86      0.87      0.87     19151\n",
      "\n",
      "\n"
     ]
    },
    {
     "name": "stderr",
     "output_type": "stream",
     "text": [
      "\n"
     ]
    }
   ],
   "source": [
    "model.train_eval(epochs=8,weight=[1]*len(tag2idx))"
   ]
  },
  {
   "cell_type": "code",
   "execution_count": null,
   "metadata": {},
   "outputs": [],
   "source": []
  },
  {
   "cell_type": "code",
   "execution_count": 19,
   "metadata": {},
   "outputs": [
    {
     "data": {
      "text/plain": [
       "['I-Procedure',\n",
       " 'B-Drug',\n",
       " 'I-Condition',\n",
       " 'I-Person',\n",
       " 'B-Condition',\n",
       " 'O',\n",
       " 'I-Observation',\n",
       " 'B-Procedure',\n",
       " 'B-Person',\n",
       " 'B-Mood',\n",
       " 'I-Mood',\n",
       " 'B-Observation',\n",
       " 'I-Drug',\n",
       " 'PAD']"
      ]
     },
     "execution_count": 19,
     "metadata": {},
     "output_type": "execute_result"
    }
   ],
   "source": [
    "model.tag_values"
   ]
  },
  {
   "cell_type": "code",
   "execution_count": 17,
   "metadata": {},
   "outputs": [
    {
     "data": {
      "text/plain": [
       "[('inclusion', 'O'), ('criteria', 'O')]"
      ]
     },
     "execution_count": 17,
     "metadata": {},
     "output_type": "execute_result"
    }
   ],
   "source": [
    "model.predict(\"Inclusion Criteria\")"
   ]
  },
  {
   "cell_type": "code",
   "execution_count": 12,
   "metadata": {},
   "outputs": [
    {
     "data": {
      "image/png": "[encoded data removed]",
      "text/plain": [
       "<Figure size 1200x600 with 1 Axes>"
      ]
     },
     "metadata": {},
     "output_type": "display_data"
    }
   ],
   "source": [
    "model.plotloss()"
   ]
  },
  {
   "cell_type": "code",
   "execution_count": 13,
   "metadata": {},
   "outputs": [
    {
     "data": {
      "text/plain": [
       "[('this', 'O'), ('is', 'O'), ('a', 'O'), ('cancer', 'B-Condition')]"
      ]
     },
     "execution_count": 13,
     "metadata": {},
     "output_type": "execute_result"
    }
   ],
   "source": [
    "model.predict(\"This is a cancer\")"
   ]
  },
  {
   "cell_type": "code",
   "execution_count": 14,
   "metadata": {},
   "outputs": [
    {
     "name": "stderr",
     "output_type": "stream",
     "text": [
      "2it [00:00, 16.53it/s]\n"
     ]
    },
    {
     "data": {
      "text/plain": [
       "[[('a', 'O'),\n",
       "  ('patient', 'O'),\n",
       "  ('with', 'O'),\n",
       "  ('di', 'B-Condition'),\n",
       "  ('##abe', 'B-Condition'),\n",
       "  ('##te', 'B-Condition')],\n",
       " [('under', 'O'),\n",
       "  ('ch', 'I-Procedure'),\n",
       "  ('##em', 'B-Procedure'),\n",
       "  ('##otherapy', 'B-Procedure')]]"
      ]
     },
     "execution_count": 14,
     "metadata": {},
     "output_type": "execute_result"
    }
   ],
   "source": [
    "model.batch_predict(['a patient with diabete', 'under chemotherapy'])"
   ]
  },
  {
   "cell_type": "code",
   "execution_count": 16,
   "metadata": {},
   "outputs": [],
   "source": [
    "model.save_model('./model/model2')"
   ]
  }
 ],
 "metadata": {
  "kernelspec": {
   "display_name": ".venv",
   "language": "python",
   "name": "python3"
  },
  "language_info": {
   "codemirror_mode": {
    "name": "ipython",
    "version": 3
   },
   "file_extension": ".py",
   "mimetype": "text/x-python",
   "name": "python",
   "nbconvert_exporter": "python",
   "pygments_lexer": "ipython3",
   "version": "3.10.13"
  }
 },
 "nbformat": 4,
 "nbformat_minor": 2
}
