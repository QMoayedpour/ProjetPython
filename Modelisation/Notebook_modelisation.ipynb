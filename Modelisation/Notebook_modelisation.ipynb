{
 "cells": [
  {
   "cell_type": "code",
   "execution_count": 19,
   "metadata": {},
   "outputs": [],
   "source": [
    "import pandas as pd\n",
    "from modules.NER_functions import *"
   ]
  },
  {
   "cell_type": "code",
   "execution_count": 20,
   "metadata": {},
   "outputs": [],
   "source": [
    "model = Bert_Model()"
   ]
  },
  {
   "cell_type": "code",
   "execution_count": 21,
   "metadata": {},
   "outputs": [],
   "source": [
    "model.load_model('./model/model1')"
   ]
  },
  {
   "cell_type": "code",
   "execution_count": 30,
   "metadata": {},
   "outputs": [],
   "source": [
    "tags = ['B-Mood',\n",
    " 'O',\n",
    " 'B-Drug',\n",
    " 'I-Procedure',\n",
    " 'B-Condition',\n",
    " 'B-Person',\n",
    " 'I-Condition',\n",
    " 'B-Procedure',\n",
    " 'B-Observation',\n",
    " 'I-Drug',\n",
    " 'I-Observation',\n",
    " 'I-Person',\n",
    " 'I-Mood',\n",
    " 'PAD']"
   ]
  },
  {
   "cell_type": "code",
   "execution_count": 31,
   "metadata": {},
   "outputs": [],
   "source": [
    "model.getTag(tags)"
   ]
  },
  {
   "cell_type": "code",
   "execution_count": 22,
   "metadata": {},
   "outputs": [
    {
     "name": "stderr",
     "output_type": "stream",
     "text": [
      "/tmp/ipykernel_21566/3529721853.py:1: DtypeWarning: Columns (2,3,4,5,10,11,12,13,14,15,17,18,19,21,22,23,24,25,26,28,29,30,31,32,33,34,35,36,37,42,43,68,79,80,81,82,88,89,94,95,97,98,99,100,101,102,104,105,109,110,111,112,113,114,115,116,118,121,122,151,163,169,184,192,193,194,195,196,200,206,209,210,212,213,214,215,216,217,218,219,220,222,223,225,226,228,229,230,232,233,234,235,236,237,238,239,240,241,242,243,244,245,246,247,248,249,250,262,263,264,265,266,275,279,280,282,283,284,285,286,287,300,301,302,303,304,308,320,321,322,324,325,326) have mixed types. Specify dtype option on import or set low_memory=False.\n",
      "  data = pd.read_csv(\"../data/clini_data.csv\")\n"
     ]
    }
   ],
   "source": [
    "data = pd.read_csv(\"../data/clini_data.csv\")"
   ]
  },
  {
   "cell_type": "code",
   "execution_count": 24,
   "metadata": {},
   "outputs": [
    {
     "data": {
      "text/plain": [
       "'Inclusion Criteria:\\n\\nMale and females of non-childbearing potential 18 to 75 years of age, inclusive, at the time of signing the informed consent.\\nParticipants with a fasting low-density lipoprotein cholesterol (LDL-C) higher than or equal to 70 mg/dL (1.8 mmol/L) and lower than or equal to 190 mg/dL (4.9 mmol/L) at screening.\\nParticipants with fasting triglycerides lower than 400 mg/dL (lower than 4.52 mmol/L) at screening.\\nShould be receiving moderate or high-intensity statin therapy for more than or equal to 2 months prior to screening.\\nThere should be no planned medication or dose change during study participation.\\nBody mass index between 19.0 and 40.0 kg/m^2.\\n\\nExclusion Criteria:\\n\\nHistory or presence of gastrointestinal, hepatic or renal disease or any other conditions known to interfere with absorption, distribution, metabolism, or excretion of drugs.\\nAny uncontrolled or serious disease, or any medical (eg, known major active infection or major hematological, renal, metabolic, gastrointestinal, respiratory, or endocrine dysfunction) or surgical condition that, in the opinion of the investigator, may either interfere with participation in the clinical study and/or put the participant at significant risk.\\nPoorly controlled type 2 diabetes mellitus, defined as hemoglobin A1c (HbA1c) greater than 10 percent at screening.\\nAcute ischemic cardiovascular event in the last 12 months.\\nHeart failure with New York Heart Association (NYHA) Class III-IV.\\nMalignancy (except non-melanoma skin cancers, cervical in-situ carcinoma, breast ductal carcinoma in-situ, or Stage 1 prostate carcinoma) within the last 10 years.\\nRecipient of any major organ transplant, e.g., lung, liver, heart, bone marrow, renal.\\nLDL or plasma apheresis within 12 months prior to randomization.\\nUncontrolled hypertension.\\nAny clinically important abnormalities in rhythm, conduction or morphology of the resting electrocardiogram (ECG) and any clinically important abnormalities in the 12 lead ECG as judged by the investigator.'"
      ]
     },
     "execution_count": 24,
     "metadata": {},
     "output_type": "execute_result"
    }
   ],
   "source": [
    "data['EligibilityCriteria'].iloc[3]"
   ]
  },
  {
   "cell_type": "code",
   "execution_count": 53,
   "metadata": {},
   "outputs": [],
   "source": [
    "preds = model.predict(data['EligibilityCriteria'].iloc[80][:200])"
   ]
  },
  {
   "cell_type": "code",
   "execution_count": 54,
   "metadata": {},
   "outputs": [
    {
     "name": "stdout",
     "output_type": "stream",
     "text": [
      "total ---------- B-Procedure\n",
      "hip ---------- I-Procedure\n",
      "art ---------- I-Procedure\n",
      "##hr ---------- I-Procedure\n",
      "##op ---------- I-Procedure\n",
      "##las ---------- I-Procedure\n",
      "##ty ---------- I-Procedure\n",
      "due ---------- O\n",
      "to ---------- O\n",
      "non ---------- O\n",
      "- ---------- O\n",
      "inflammatory ---------- O\n",
      "de ---------- I-Condition\n",
      "##gen ---------- I-Condition\n",
      "##erative ---------- I-Condition\n",
      "joint ---------- I-Condition\n",
      "disease ---------- I-Condition\n",
      "( ---------- O\n",
      "e ---------- O\n",
      ". ---------- O\n",
      "g ---------- O\n",
      ". ---------- O\n",
      ", ---------- O\n",
      "os ---------- B-Condition\n",
      "##te ---------- B-Condition\n",
      "##oa ---------- B-Condition\n",
      "##rth ---------- B-Condition\n",
      "##rit ---------- B-Condition\n",
      "##is ---------- B-Condition\n",
      ", ---------- O\n",
      "traumatic ---------- B-Condition\n",
      "arthritis ---------- I-Condition\n",
      ", ---------- O\n",
      "ava ---------- B-Condition\n",
      "##scu ---------- B-Condition\n",
      "##lar ---------- B-Condition\n",
      "nec ---------- I-Condition\n",
      "##rosis ---------- I-Condition\n",
      ", ---------- O\n",
      "d ---------- B-Condition\n",
      "##ys ---------- B-Condition\n",
      "##pl ---------- B-Condition\n"
     ]
    }
   ],
   "source": [
    "for elem in preds[10:]:\n",
    "    print(elem[0], \"-\"*10, elem[1])"
   ]
  }
 ],
 "metadata": {
  "kernelspec": {
   "display_name": ".venv",
   "language": "python",
   "name": "python3"
  },
  "language_info": {
   "codemirror_mode": {
    "name": "ipython",
    "version": 3
   },
   "file_extension": ".py",
   "mimetype": "text/x-python",
   "name": "python",
   "nbconvert_exporter": "python",
   "pygments_lexer": "ipython3",
   "version": "3.10.13"
  }
 },
 "nbformat": 4,
 "nbformat_minor": 2
}
