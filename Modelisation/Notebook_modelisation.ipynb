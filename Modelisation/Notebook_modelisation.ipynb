{
 "cells": [
  {
   "cell_type": "code",
   "execution_count": 8,
   "metadata": {},
   "outputs": [],
   "source": [
    "import pandas as pd\n",
    "from modules.NER_functions import *\n",
    "import warnings \n",
    "warnings.filterwarnings(\"ignore\")"
   ]
  },
  {
   "cell_type": "markdown",
   "metadata": {},
   "source": [
    "# NoteBook modélisation\n",
    "Le but de ce notebook est d'extraire le nombre de conditions par critère d'inclusivité des essais cliniques. \n",
    "\n",
    "Voici un schéma simplifié des étapes du notebook:\n",
    "\n",
    "![Texte alternatif](../images/schema.png)\n",
    "\n",
    "\n",
    "\n",
    "Le modèle entrainé est un modèle BERT fine-tuné. C'est un modèle de reconnaissance d'entités nommés, il est entrainé pour assigner un label à chaque token d'une phrase qu'on lui soumet.\n",
    "\n",
    "![Texte alternatif2](../images/ner.jpg)\n",
    "\n",
    "Notre modèle a été entrainé spécialement sur des données d'essais cliniques et présente 5 labels:\n",
    "* Mood\n",
    "* Drug\n",
    "* Condition\n",
    "* Person\n",
    "* Procedure\n",
    "* Observation\n",
    "\n",
    "Le but du modèle est ainsi de compter le nombre d'attributs recherchés pour un essai clinique afin de construire des indicateurs si un essai clinique est relativement exigeant sur sa sélection de patient."
   ]
  },
  {
   "cell_type": "markdown",
   "metadata": {},
   "source": [
    "## Predictions du modèle"
   ]
  },
  {
   "cell_type": "code",
   "execution_count": 9,
   "metadata": {},
   "outputs": [],
   "source": [
    "# On charge d'abord le modèle\n",
    "\n",
    "model = Bert_Model()"
   ]
  },
  {
   "cell_type": "code",
   "execution_count": 10,
   "metadata": {},
   "outputs": [],
   "source": [
    "model.load_model('./model/model1')"
   ]
  },
  {
   "cell_type": "code",
   "execution_count": 11,
   "metadata": {},
   "outputs": [],
   "source": [
    "tags = ['B-Mood',\n",
    " 'O',\n",
    " 'B-Drug',\n",
    " 'I-Procedure',\n",
    " 'B-Condition',\n",
    " 'B-Person',\n",
    " 'I-Condition',\n",
    " 'B-Procedure',\n",
    " 'B-Observation',\n",
    " 'I-Drug',\n",
    " 'I-Observation',\n",
    " 'I-Person',\n",
    " 'I-Mood',\n",
    " 'PAD']"
   ]
  },
  {
   "cell_type": "code",
   "execution_count": 12,
   "metadata": {},
   "outputs": [],
   "source": [
    "model.getTag(tags)"
   ]
  },
  {
   "cell_type": "code",
   "execution_count": 13,
   "metadata": {},
   "outputs": [],
   "source": [
    "data = pd.read_csv(\"../data/clini_data.csv\")"
   ]
  },
  {
   "cell_type": "code",
   "execution_count": 14,
   "metadata": {},
   "outputs": [
    {
     "data": {
      "text/plain": [
       "'Inclusion Criteria:\\n\\nMale and females of non-childbearing potential 18 to 75 years of age, inclusive, at the time of signing the informed consent.\\nParticipants with a fasting low-density lipoprotein cholesterol (LDL-C) higher than or equal to 70 mg/dL (1.8 mmol/L) and lower than or equal to 190 mg/dL (4.9 mmol/L) at screening.\\nParticipants with fasting triglycerides lower than 400 mg/dL (lower than 4.52 mmol/L) at screening.\\nShould be receiving moderate or high-intensity statin therapy for more than or equal to 2 months prior to screening.\\nThere should be no planned medication or dose change during study participation.\\nBody mass index between 19.0 and 40.0 kg/m^2.\\n\\nExclusion Criteria:\\n\\nHistory or presence of gastrointestinal, hepatic or renal disease or any other conditions known to interfere with absorption, distribution, metabolism, or excretion of drugs.\\nAny uncontrolled or serious disease, or any medical (eg, known major active infection or major hematological, renal, metabolic, gastrointestinal, respiratory, or endocrine dysfunction) or surgical condition that, in the opinion of the investigator, may either interfere with participation in the clinical study and/or put the participant at significant risk.\\nPoorly controlled type 2 diabetes mellitus, defined as hemoglobin A1c (HbA1c) greater than 10 percent at screening.\\nAcute ischemic cardiovascular event in the last 12 months.\\nHeart failure with New York Heart Association (NYHA) Class III-IV.\\nMalignancy (except non-melanoma skin cancers, cervical in-situ carcinoma, breast ductal carcinoma in-situ, or Stage 1 prostate carcinoma) within the last 10 years.\\nRecipient of any major organ transplant, e.g., lung, liver, heart, bone marrow, renal.\\nLDL or plasma apheresis within 12 months prior to randomization.\\nUncontrolled hypertension.\\nAny clinically important abnormalities in rhythm, conduction or morphology of the resting electrocardiogram (ECG) and any clinically important abnormalities in the 12 lead ECG as judged by the investigator.'"
      ]
     },
     "execution_count": 14,
     "metadata": {},
     "output_type": "execute_result"
    }
   ],
   "source": [
    "data['EligibilityCriteria'].iloc[3]"
   ]
  },
  {
   "cell_type": "code",
   "execution_count": 15,
   "metadata": {},
   "outputs": [],
   "source": [
    "preds = model.predict(data['EligibilityCriteria'].iloc[80][:200])"
   ]
  },
  {
   "cell_type": "code",
   "execution_count": 16,
   "metadata": {},
   "outputs": [
    {
     "name": "stdout",
     "output_type": "stream",
     "text": [
      "total ---------- B-Procedure\n",
      "hip ---------- I-Procedure\n",
      "art ---------- I-Procedure\n",
      "##hr ---------- I-Procedure\n",
      "##op ---------- I-Procedure\n",
      "##las ---------- I-Procedure\n",
      "##ty ---------- I-Procedure\n",
      "due ---------- O\n",
      "to ---------- O\n",
      "non ---------- O\n",
      "- ---------- O\n",
      "inflammatory ---------- O\n",
      "de ---------- I-Condition\n",
      "##gen ---------- I-Condition\n",
      "##erative ---------- I-Condition\n",
      "joint ---------- I-Condition\n",
      "disease ---------- I-Condition\n",
      "( ---------- O\n",
      "e ---------- O\n",
      ". ---------- O\n",
      "g ---------- O\n",
      ". ---------- O\n",
      ", ---------- O\n",
      "os ---------- B-Condition\n",
      "##te ---------- B-Condition\n",
      "##oa ---------- B-Condition\n",
      "##rth ---------- B-Condition\n",
      "##rit ---------- B-Condition\n",
      "##is ---------- B-Condition\n",
      ", ---------- O\n",
      "traumatic ---------- B-Condition\n",
      "arthritis ---------- I-Condition\n",
      ", ---------- O\n",
      "ava ---------- B-Condition\n",
      "##scu ---------- B-Condition\n",
      "##lar ---------- B-Condition\n",
      "nec ---------- I-Condition\n",
      "##rosis ---------- I-Condition\n",
      ", ---------- O\n",
      "d ---------- B-Condition\n",
      "##ys ---------- B-Condition\n",
      "##pl ---------- B-Condition\n"
     ]
    }
   ],
   "source": [
    "# Voici un exemple de prédictions du modèle\n",
    "for elem in preds[10:]:\n",
    "    print(elem[0], \"-\"*10, elem[1])"
   ]
  },
  {
   "cell_type": "code",
   "execution_count": 144,
   "metadata": {},
   "outputs": [],
   "source": [
    "# On ne veut garder que les critères d'inclusions. Pour ce faire, on ne sélectionne dans les critères d'éligibilités que le texte compris entre \n",
    "# Inclusion Criteria: et Exclusion Criteria"
   ]
  },
  {
   "cell_type": "code",
   "execution_count": 18,
   "metadata": {},
   "outputs": [],
   "source": [
    "def extract_inclusion_criteria(eligibility_criteria):\n",
    "    if type(eligibility_criteria)!=str:\n",
    "        return None\n",
    "    match = re.search(r'Inclusion Criteria:(.*?)Exclusion Criteria:', eligibility_criteria, re.DOTALL)\n",
    "    \n",
    "    if match:\n",
    "        return match.group(1).strip()\n",
    "    else:\n",
    "        return None\n",
    "\n",
    "data['InclusionCriteria'] = data['EligibilityCriteria'].apply(extract_inclusion_criteria)"
   ]
  },
  {
   "cell_type": "code",
   "execution_count": 148,
   "metadata": {},
   "outputs": [
    {
     "name": "stdout",
     "output_type": "stream",
     "text": [
      "Inclusion Criteria:\n",
      "\n",
      "Patients undergoing elective heart surgery\n",
      "\n",
      "Exclusion Criteria:\n",
      "\n",
      "Refusal to consent\n",
      "Patients undergoing emergency surgery \n",
      "\n",
      " ---------------------------------------- \n",
      "\n",
      " Patients undergoing elective heart surgery\n"
     ]
    }
   ],
   "source": [
    "print(data['EligibilityCriteria'].iloc[2],\"\\n\\n\", \"-\"*40,\"\\n\\n\", data[\"InclusionCriteria\"].iloc[2])"
   ]
  },
  {
   "cell_type": "code",
   "execution_count": 149,
   "metadata": {},
   "outputs": [],
   "source": [
    "# On réduit maintenant la taille des critères d'éligibilités, en effet le modèle entrainé peut modéliser jusqu'à 115 token et certains essais cliniques\n",
    "# Ont une liste de critère très longue. Dans un soucis de simplicité, on tronquera donc certaines données\n",
    "\n",
    "def reduce_numb_words(phrase, nombre_mots=80):\n",
    "    if phrase == None:\n",
    "        return None\n",
    "    mots = phrase.split()[:nombre_mots]\n",
    "    return ' '.join(mots)\n",
    "\n",
    "data['InclusionReduced'] = data['InclusionCriteria'].apply(reduce_numb_words)"
   ]
  },
  {
   "cell_type": "code",
   "execution_count": 150,
   "metadata": {},
   "outputs": [],
   "source": [
    "data['InclusionReduced'] = data['InclusionReduced'].fillna('')"
   ]
  },
  {
   "cell_type": "code",
   "execution_count": 151,
   "metadata": {},
   "outputs": [],
   "source": [
    "#On met les critères d'inclusivités auxquels nous appliqueront le modèle dans une liste\n",
    "\n",
    "list_inclusion = data[(data['Phase']==\"Phase 3\") & (data['InclusionReduced']!=\"None\") & (data['InclusionReduced']!=\"\")]['InclusionReduced'].tolist()"
   ]
  },
  {
   "cell_type": "code",
   "execution_count": 152,
   "metadata": {},
   "outputs": [
    {
     "data": {
      "text/plain": [
       "['Male or female and 5 through 30 years of age Prader-Willi syndrome with a documented disease-causing mutation Increased appetite with decreased satiety accompanied by food seeking (consistent with PWS Nutritional Phase 3) HQ-CT total score of ≥13 at Screening and Baseline CGI-S score for hyperphagia in PWS of ≥4 at Screening and Baseline Lives with a caregiver who understands and is willing and able to adhere to study-related procedures and is willing to participate in all study visits',\n",
       " 'Histologically, cytologically, or radiographically confirmed diagnosis of metastatic cancer Age ≥ 18 years Patients who have cervical, thoracic, or lumbar spine metastasis that need treatment. Patients will have 1 to 3 separate spinal sites that require treatment. Each spinal site to be treated on trial will span 1-2 contiguous vertebral levels ECOG 0-2 Negative serum or urine pregnancy test within 14 days prior to enrollment for women of childbearing potential or who are not postmenopausal Women of childbearing potential and']"
      ]
     },
     "execution_count": 152,
     "metadata": {},
     "output_type": "execute_result"
    }
   ],
   "source": [
    "list_inclusion[:2]"
   ]
  },
  {
   "cell_type": "code",
   "execution_count": 49,
   "metadata": {},
   "outputs": [
    {
     "name": "stderr",
     "output_type": "stream",
     "text": [
      "3979it [1:48:34,  1.64s/it]\n"
     ]
    }
   ],
   "source": [
    "preds = model.batch_predict(list_inclusion)"
   ]
  },
  {
   "cell_type": "markdown",
   "metadata": {},
   "source": [
    "## Transcription des prédictions du modèle\n",
    "\n",
    "Maintenant qu'on a nos prédictions, on compte le nombre d'attributs mentionnée dans les critères d'éligibilité des essais cliniques. \n",
    "On créer pour chaque essais clinique un dictionnaire qui associe a un attribut le nombre de fois qu'il apparait. "
   ]
  },
  {
   "cell_type": "code",
   "execution_count": 62,
   "metadata": {},
   "outputs": [
    {
     "data": {
      "text/plain": [
       "['Mood', 'Drug', 'Condition', 'Person', 'Procedure', 'Observation']"
      ]
     },
     "execution_count": 62,
     "metadata": {},
     "output_type": "execute_result"
    }
   ],
   "source": [
    "list_keys = [element[2:] for element in tags if element.startswith(\"B\")]\n",
    "list_keys"
   ]
  },
  {
   "cell_type": "code",
   "execution_count": 82,
   "metadata": {},
   "outputs": [
    {
     "name": "stdout",
     "output_type": "stream",
     "text": [
      "('female', 'B-Person')\n",
      "('age', 'B-Person')\n",
      "('pr', 'B-Condition')\n",
      "('##ade', 'B-Condition')\n",
      "('##r', 'I-Condition')\n",
      "('-', 'I-Condition')\n",
      "('will', 'I-Condition')\n",
      "('##i', 'I-Condition')\n",
      "('syndrome', 'I-Condition')\n",
      "('disease', 'B-Condition')\n",
      "('-', 'I-Condition')\n",
      "('causing', 'I-Condition')\n",
      "('mutation', 'I-Condition')\n",
      "('increased', 'I-Condition')\n",
      "('appetite', 'I-Condition')\n",
      "('sat', 'I-Condition')\n",
      "('##ie', 'I-Condition')\n",
      "('##ty', 'I-Condition')\n",
      "('seeking', 'I-Condition')\n",
      "('hyper', 'B-Condition')\n",
      "('##pha', 'B-Condition')\n"
     ]
    }
   ],
   "source": [
    "for elem in preds[0]:\n",
    "    if elem[1]!='O':\n",
    "        print(elem)"
   ]
  },
  {
   "cell_type": "code",
   "execution_count": 125,
   "metadata": {},
   "outputs": [
    {
     "data": {
      "text/plain": [
       "{'Mood': 0,\n",
       " 'Drug': 0,\n",
       " 'Condition': 3,\n",
       " 'Person': 2,\n",
       " 'Procedure': 0,\n",
       " 'Observation': 0}"
      ]
     },
     "execution_count": 125,
     "metadata": {},
     "output_type": "execute_result"
    }
   ],
   "source": [
    "def count_attributes(pred):\n",
    "    dict_clini = {}\n",
    "    for elem in list_keys:\n",
    "        dict_clini[elem]=0\n",
    "\n",
    "\n",
    "    for i in pred:\n",
    "        if i[1][0]==\"B\":\n",
    "            if i[0][:2]!=\"##\":\n",
    "                dict_clini[i[1][2:]]+=1\n",
    "    return dict_clini\n",
    "count_attributes(preds[0])"
   ]
  },
  {
   "cell_type": "code",
   "execution_count": 126,
   "metadata": {},
   "outputs": [],
   "source": [
    "df_augmented = data[(data['Phase']==\"Phase 3\") & (data['InclusionReduced']!=\"None\") & (data['InclusionReduced']!=\"\")].copy()\n",
    "df_augmented = df_augmented.reset_index(drop=True)"
   ]
  },
  {
   "cell_type": "code",
   "execution_count": 154,
   "metadata": {},
   "outputs": [],
   "source": [
    "preds_dict_list = [count_attributes(elem) for elem in preds]\n",
    "\n",
    "df_augmented['raw_count'] = preds_dict_list"
   ]
  },
  {
   "cell_type": "code",
   "execution_count": 155,
   "metadata": {},
   "outputs": [
    {
     "data": {
      "text/html": [
       "<div>\n",
       "<style scoped>\n",
       "    .dataframe tbody tr th:only-of-type {\n",
       "        vertical-align: middle;\n",
       "    }\n",
       "\n",
       "    .dataframe tbody tr th {\n",
       "        vertical-align: top;\n",
       "    }\n",
       "\n",
       "    .dataframe thead th {\n",
       "        text-align: right;\n",
       "    }\n",
       "</style>\n",
       "<table border=\"1\" class=\"dataframe\">\n",
       "  <thead>\n",
       "    <tr style=\"text-align: right;\">\n",
       "      <th></th>\n",
       "      <th>InclusionCriteria</th>\n",
       "      <th>raw_count</th>\n",
       "    </tr>\n",
       "  </thead>\n",
       "  <tbody>\n",
       "    <tr>\n",
       "      <th>0</th>\n",
       "      <td>Male or female and 5 through 30 years of age\\n...</td>\n",
       "      <td>{'Mood': 0, 'Drug': 0, 'Condition': 3, 'Person...</td>\n",
       "    </tr>\n",
       "    <tr>\n",
       "      <th>1</th>\n",
       "      <td>Histologically, cytologically, or radiographic...</td>\n",
       "      <td>{'Mood': 0, 'Drug': 0, 'Condition': 3, 'Person...</td>\n",
       "    </tr>\n",
       "    <tr>\n",
       "      <th>2</th>\n",
       "      <td>Subject must be able to understand and comply ...</td>\n",
       "      <td>{'Mood': 0, 'Drug': 0, 'Condition': 0, 'Person...</td>\n",
       "    </tr>\n",
       "    <tr>\n",
       "      <th>3</th>\n",
       "      <td>Be 3-5 years old\\nExhibit no symptoms of malar...</td>\n",
       "      <td>{'Mood': 0, 'Drug': 0, 'Condition': 1, 'Person...</td>\n",
       "    </tr>\n",
       "    <tr>\n",
       "      <th>4</th>\n",
       "      <td>PMR patients who fulfilled the 1982 Chuang cri...</td>\n",
       "      <td>{'Mood': 0, 'Drug': 2, 'Condition': 0, 'Person...</td>\n",
       "    </tr>\n",
       "    <tr>\n",
       "      <th>...</th>\n",
       "      <td>...</td>\n",
       "      <td>...</td>\n",
       "    </tr>\n",
       "    <tr>\n",
       "      <th>3974</th>\n",
       "      <td>Histologically confirmed invasive breast carci...</td>\n",
       "      <td>{'Mood': 0, 'Drug': 4, 'Condition': 1, 'Person...</td>\n",
       "    </tr>\n",
       "    <tr>\n",
       "      <th>3975</th>\n",
       "      <td>Completed study VMDN-003-2 and consent to enro...</td>\n",
       "      <td>{'Mood': 0, 'Drug': 0, 'Condition': 0, 'Person...</td>\n",
       "    </tr>\n",
       "    <tr>\n",
       "      <th>3976</th>\n",
       "      <td>X-linked hypophosphatemia diagnosed by the doc...</td>\n",
       "      <td>{'Mood': 0, 'Drug': 0, 'Condition': 10, 'Perso...</td>\n",
       "    </tr>\n",
       "    <tr>\n",
       "      <th>3977</th>\n",
       "      <td>All patients undergoing foot and ankle surgeri...</td>\n",
       "      <td>{'Mood': 0, 'Drug': 0, 'Condition': 0, 'Person...</td>\n",
       "    </tr>\n",
       "    <tr>\n",
       "      <th>3978</th>\n",
       "      <td>Patients over the age of 18 undergoing outpati...</td>\n",
       "      <td>{'Mood': 0, 'Drug': 0, 'Condition': 0, 'Person...</td>\n",
       "    </tr>\n",
       "  </tbody>\n",
       "</table>\n",
       "<p>3979 rows × 2 columns</p>\n",
       "</div>"
      ],
      "text/plain": [
       "                                      InclusionCriteria  \\\n",
       "0     Male or female and 5 through 30 years of age\\n...   \n",
       "1     Histologically, cytologically, or radiographic...   \n",
       "2     Subject must be able to understand and comply ...   \n",
       "3     Be 3-5 years old\\nExhibit no symptoms of malar...   \n",
       "4     PMR patients who fulfilled the 1982 Chuang cri...   \n",
       "...                                                 ...   \n",
       "3974  Histologically confirmed invasive breast carci...   \n",
       "3975  Completed study VMDN-003-2 and consent to enro...   \n",
       "3976  X-linked hypophosphatemia diagnosed by the doc...   \n",
       "3977  All patients undergoing foot and ankle surgeri...   \n",
       "3978  Patients over the age of 18 undergoing outpati...   \n",
       "\n",
       "                                              raw_count  \n",
       "0     {'Mood': 0, 'Drug': 0, 'Condition': 3, 'Person...  \n",
       "1     {'Mood': 0, 'Drug': 0, 'Condition': 3, 'Person...  \n",
       "2     {'Mood': 0, 'Drug': 0, 'Condition': 0, 'Person...  \n",
       "3     {'Mood': 0, 'Drug': 0, 'Condition': 1, 'Person...  \n",
       "4     {'Mood': 0, 'Drug': 2, 'Condition': 0, 'Person...  \n",
       "...                                                 ...  \n",
       "3974  {'Mood': 0, 'Drug': 4, 'Condition': 1, 'Person...  \n",
       "3975  {'Mood': 0, 'Drug': 0, 'Condition': 0, 'Person...  \n",
       "3976  {'Mood': 0, 'Drug': 0, 'Condition': 10, 'Perso...  \n",
       "3977  {'Mood': 0, 'Drug': 0, 'Condition': 0, 'Person...  \n",
       "3978  {'Mood': 0, 'Drug': 0, 'Condition': 0, 'Person...  \n",
       "\n",
       "[3979 rows x 2 columns]"
      ]
     },
     "execution_count": 155,
     "metadata": {},
     "output_type": "execute_result"
    }
   ],
   "source": [
    "df_augmented[['InclusionCriteria','raw_count']]"
   ]
  },
  {
   "cell_type": "code",
   "execution_count": 134,
   "metadata": {},
   "outputs": [
    {
     "name": "stdout",
     "output_type": "stream",
     "text": [
      "Histologically confirmed invasive breast carcinoma\n",
      "Centrally-confirmed human epidermal growth factor receptor 2 (HER2)-positive invasive breast cancer\n",
      "Centrally confirmed PD-L1 and hormone receptor status\n",
      "Clinical stage at disease presentation (prior to neoadjuvant therapy): cT4/anyN/M0, any cT/N2-3/M0, or cT1-3/N0-1/M0 (participants with cT1mi/T1a/T1b/N0 are not eligible)\n",
      "Completion of pre-operative systemic chemotherapy including at least 9 weeks of taxane and 9 weeks of trastuzumab (anthracycline and/or additional HER2-targeted agents are permitted)\n",
      "<=12 weeks between primary surgery and randomization\n",
      "Eastern Cooperative Oncology Group (ECOG) Performance Status 0 or 1\n",
      "Screening left ventricular ejection fraction (LVEF) >= 50% and no decrease in LVEF by >15% from the pre-chemotherapy LVEF. If no pre-chemotherapy LVEF, screening LVEF >= 55%\n",
      "Life expectancy >= 6 months\n",
      "Adequate hematologic and end organ function\n",
      "\n",
      "\n",
      "\n",
      "{'Mood': 0, 'Drug': 4, 'Condition': 1, 'Person': 0, 'Procedure': 2, 'Observation': 0}\n"
     ]
    }
   ],
   "source": [
    "print(df_augmented['InclusionCriteria'].iloc[3974])\n",
    "print(\"\\n\\n\")\n",
    "print(df_augmented['raw_count'].iloc[3974])"
   ]
  },
  {
   "cell_type": "code",
   "execution_count": 156,
   "metadata": {},
   "outputs": [
    {
     "data": {
      "text/html": [
       "<div>\n",
       "<style scoped>\n",
       "    .dataframe tbody tr th:only-of-type {\n",
       "        vertical-align: middle;\n",
       "    }\n",
       "\n",
       "    .dataframe tbody tr th {\n",
       "        vertical-align: top;\n",
       "    }\n",
       "\n",
       "    .dataframe thead th {\n",
       "        text-align: right;\n",
       "    }\n",
       "</style>\n",
       "<table border=\"1\" class=\"dataframe\">\n",
       "  <thead>\n",
       "    <tr style=\"text-align: right;\">\n",
       "      <th></th>\n",
       "      <th>NCTId</th>\n",
       "      <th>InclusionCriteria</th>\n",
       "      <th>Drug</th>\n",
       "      <th>Conditions</th>\n",
       "      <th>Procedure</th>\n",
       "    </tr>\n",
       "  </thead>\n",
       "  <tbody>\n",
       "    <tr>\n",
       "      <th>0</th>\n",
       "      <td>NCT06173531</td>\n",
       "      <td>Male or female and 5 through 30 years of age\\n...</td>\n",
       "      <td>0</td>\n",
       "      <td>3</td>\n",
       "      <td>0</td>\n",
       "    </tr>\n",
       "    <tr>\n",
       "      <th>1</th>\n",
       "      <td>NCT06173401</td>\n",
       "      <td>Histologically, cytologically, or radiographic...</td>\n",
       "      <td>0</td>\n",
       "      <td>3</td>\n",
       "      <td>2</td>\n",
       "    </tr>\n",
       "    <tr>\n",
       "      <th>2</th>\n",
       "      <td>NCT06173284</td>\n",
       "      <td>Subject must be able to understand and comply ...</td>\n",
       "      <td>0</td>\n",
       "      <td>0</td>\n",
       "      <td>0</td>\n",
       "    </tr>\n",
       "    <tr>\n",
       "      <th>3</th>\n",
       "      <td>NCT06173206</td>\n",
       "      <td>Be 3-5 years old\\nExhibit no symptoms of malar...</td>\n",
       "      <td>0</td>\n",
       "      <td>1</td>\n",
       "      <td>0</td>\n",
       "    </tr>\n",
       "    <tr>\n",
       "      <th>4</th>\n",
       "      <td>NCT06172361</td>\n",
       "      <td>PMR patients who fulfilled the 1982 Chuang cri...</td>\n",
       "      <td>2</td>\n",
       "      <td>0</td>\n",
       "      <td>0</td>\n",
       "    </tr>\n",
       "    <tr>\n",
       "      <th>...</th>\n",
       "      <td>...</td>\n",
       "      <td>...</td>\n",
       "      <td>...</td>\n",
       "      <td>...</td>\n",
       "      <td>...</td>\n",
       "    </tr>\n",
       "    <tr>\n",
       "      <th>3974</th>\n",
       "      <td>NCT04873362</td>\n",
       "      <td>Histologically confirmed invasive breast carci...</td>\n",
       "      <td>4</td>\n",
       "      <td>1</td>\n",
       "      <td>2</td>\n",
       "    </tr>\n",
       "    <tr>\n",
       "      <th>3975</th>\n",
       "      <td>NCT04873232</td>\n",
       "      <td>Completed study VMDN-003-2 and consent to enro...</td>\n",
       "      <td>0</td>\n",
       "      <td>0</td>\n",
       "      <td>0</td>\n",
       "    </tr>\n",
       "    <tr>\n",
       "      <th>3976</th>\n",
       "      <td>NCT04872907</td>\n",
       "      <td>X-linked hypophosphatemia diagnosed by the doc...</td>\n",
       "      <td>0</td>\n",
       "      <td>10</td>\n",
       "      <td>0</td>\n",
       "    </tr>\n",
       "    <tr>\n",
       "      <th>3977</th>\n",
       "      <td>NCT04872322</td>\n",
       "      <td>All patients undergoing foot and ankle surgeri...</td>\n",
       "      <td>0</td>\n",
       "      <td>0</td>\n",
       "      <td>1</td>\n",
       "    </tr>\n",
       "    <tr>\n",
       "      <th>3978</th>\n",
       "      <td>NCT04872283</td>\n",
       "      <td>Patients over the age of 18 undergoing outpati...</td>\n",
       "      <td>0</td>\n",
       "      <td>0</td>\n",
       "      <td>2</td>\n",
       "    </tr>\n",
       "  </tbody>\n",
       "</table>\n",
       "<p>3979 rows × 5 columns</p>\n",
       "</div>"
      ],
      "text/plain": [
       "            NCTId                                  InclusionCriteria  Drug  \\\n",
       "0     NCT06173531  Male or female and 5 through 30 years of age\\n...     0   \n",
       "1     NCT06173401  Histologically, cytologically, or radiographic...     0   \n",
       "2     NCT06173284  Subject must be able to understand and comply ...     0   \n",
       "3     NCT06173206  Be 3-5 years old\\nExhibit no symptoms of malar...     0   \n",
       "4     NCT06172361  PMR patients who fulfilled the 1982 Chuang cri...     2   \n",
       "...           ...                                                ...   ...   \n",
       "3974  NCT04873362  Histologically confirmed invasive breast carci...     4   \n",
       "3975  NCT04873232  Completed study VMDN-003-2 and consent to enro...     0   \n",
       "3976  NCT04872907  X-linked hypophosphatemia diagnosed by the doc...     0   \n",
       "3977  NCT04872322  All patients undergoing foot and ankle surgeri...     0   \n",
       "3978  NCT04872283  Patients over the age of 18 undergoing outpati...     0   \n",
       "\n",
       "      Conditions  Procedure  \n",
       "0              3          0  \n",
       "1              3          2  \n",
       "2              0          0  \n",
       "3              1          0  \n",
       "4              0          0  \n",
       "...          ...        ...  \n",
       "3974           1          2  \n",
       "3975           0          0  \n",
       "3976          10          0  \n",
       "3977           0          1  \n",
       "3978           0          2  \n",
       "\n",
       "[3979 rows x 5 columns]"
      ]
     },
     "execution_count": 156,
     "metadata": {},
     "output_type": "execute_result"
    }
   ],
   "source": [
    "# On réparti maintenant les observations dans des colonnes annexes (afin de pouvoir utiliser les variables facilement ensuite)\n",
    "\n",
    "colonnes_separees = df_augmented['raw_count'].apply(pd.Series)\n",
    "colonnes_separees.rename(columns={'Condition': 'Conditions'}, inplace=True)\n",
    "df_final = pd.concat([df_augmented, colonnes_separees], axis=1)\n",
    "df_final[[\"NCTId\", \"InclusionCriteria\",\"Drug\",\"Conditions\",\"Procedure\"]]"
   ]
  },
  {
   "cell_type": "code",
   "execution_count": 142,
   "metadata": {},
   "outputs": [],
   "source": [
    "# On sauvegarde le modèle \n",
    "\n",
    "df_final.to_csv('./data/Data_augmented.csv')"
   ]
  }
 ],
 "metadata": {
  "kernelspec": {
   "display_name": ".venv",
   "language": "python",
   "name": "python3"
  },
  "language_info": {
   "codemirror_mode": {
    "name": "ipython",
    "version": 3
   },
   "file_extension": ".py",
   "mimetype": "text/x-python",
   "name": "python",
   "nbconvert_exporter": "python",
   "pygments_lexer": "ipython3",
   "version": "3.10.13"
  }
 },
 "nbformat": 4,
 "nbformat_minor": 2
}
