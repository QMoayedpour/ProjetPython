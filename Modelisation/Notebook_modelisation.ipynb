{
 "cells": [
  {
   "cell_type": "code",
   "execution_count": 1,
   "metadata": {},
   "outputs": [
    {
     "name": "stderr",
     "output_type": "stream",
     "text": [
      "/home/onyxia/work/.venv/lib/python3.10/site-packages/tqdm/auto.py:21: TqdmWarning: IProgress not found. Please update jupyter and ipywidgets. See https://ipywidgets.readthedocs.io/en/stable/user_install.html\n",
      "  from .autonotebook import tqdm as notebook_tqdm\n"
     ]
    }
   ],
   "source": [
    "import pandas as pd\n",
    "from modules.NER_functions import *\n",
    "import warnings \n",
    "warnings.filterwarnings(\"ignore\")"
   ]
  },
  {
   "cell_type": "markdown",
   "metadata": {},
   "source": [
    "# NoteBook modélisation\n",
    "Le but de ce notebook est d'extraire le nombre de conditions par critère d'inclusivité des essais cliniques. \n",
    "\n",
    "Voici un schéma simplifié des étapes du notebook:\n",
    "\n",
    "![Texte alternatif](./images/schema.png)\n",
    "\n",
    "\n",
    "\n",
    "Le modèle entrainé est un modèle BERT fine-tuné. C'est un modèle de reconnaissance d'entités nommés, il est entrainé pour assigner un label à chaque token d'une phrase qu'on lui soumet.\n",
    "\n",
    "![Texte alternatif2](./images/ner.jpg)\n",
    "\n",
    "Notre modèle a été entrainé spécialement sur des données d'essais cliniques et présente 5 labels:\n",
    "* Mood\n",
    "* Drug\n",
    "* Condition\n",
    "* Person\n",
    "* Procedure\n",
    "* Observation\n",
    "\n",
    "Le but du modèle est ainsi de compter le nombre d'attributs recherchés pour un essai clinique afin de construire des indicateurs si un essai clinique est relativement exigeant sur sa sélection de patient."
   ]
  },
  {
   "cell_type": "markdown",
   "metadata": {},
   "source": [
    "## Predictions du modèle"
   ]
  },
  {
   "cell_type": "code",
   "execution_count": 2,
   "metadata": {},
   "outputs": [
    {
     "name": "stderr",
     "output_type": "stream",
     "text": [
      "tokenizer_config.json: 100%|██████████| 28.0/28.0 [00:00<00:00, 103kB/s]\n",
      "vocab.txt: 100%|██████████| 232k/232k [00:00<00:00, 2.69MB/s]\n",
      "tokenizer.json: 100%|██████████| 466k/466k [00:00<00:00, 5.65MB/s]\n",
      "config.json: 100%|██████████| 570/570 [00:00<00:00, 2.55MB/s]\n"
     ]
    }
   ],
   "source": [
    "# On charge d'abord le modèle\n",
    "\n",
    "model = Bert_Model()"
   ]
  },
  {
   "cell_type": "code",
   "execution_count": 4,
   "metadata": {},
   "outputs": [],
   "source": [
    "model.load_model('./model/model1')"
   ]
  },
  {
   "cell_type": "code",
   "execution_count": 5,
   "metadata": {},
   "outputs": [],
   "source": [
    "tags = ['I-Procedure',\n",
    " 'B-Drug',\n",
    " 'I-Condition',\n",
    "  'I-Person',\n",
    " 'B-Condition',\n",
    " 'O',\n",
    " 'I-Observation',\n",
    " 'B-Procedure',\n",
    " 'B-Person',\n",
    " 'B-Mood',\n",
    " 'I-Mood',\n",
    " 'B-Observation',\n",
    " 'I-Drug',\n",
    " 'PAD']"
   ]
  },
  {
   "cell_type": "code",
   "execution_count": 6,
   "metadata": {},
   "outputs": [],
   "source": [
    "model.getTag(tags)"
   ]
  },
  {
   "cell_type": "code",
   "execution_count": 7,
   "metadata": {},
   "outputs": [],
   "source": [
    "data = pd.read_csv(\"../data/clini_data.csv\")"
   ]
  },
  {
   "cell_type": "code",
   "execution_count": 8,
   "metadata": {},
   "outputs": [],
   "source": [
    "data = data_treatment(data)"
   ]
  },
  {
   "cell_type": "code",
   "execution_count": 9,
   "metadata": {},
   "outputs": [
    {
     "data": {
      "text/plain": [
       "'Inclusion Criteria:\\n\\n● Age between 18 and 60 years.\\n\\nWillingness and ability to fully understand the content and scope of the experiment and comply with its instructions.\\nHave signed the informed consent.\\n\\nExclusion Criteria:\\n\\n● Pregnancy.\\n\\nOngoing chronic pain or neuromuscular disorder, or any Desis that effect the nociceptive system and not allowed to be evaluated in normal Condition\\nHistory of addictive behavior, defined as abuse of alcohol, cannabis, opioids, or other drugs.\\nHistory of heat sensitivity disorders.\\nHistory of mental illness.\\nPresence of fever, tuberculosis, malignant tumors, infectious processes, acute inflammatory processes\\nImplantation of pacemakers or metal prostheses.\\nUse of analgesics within 24 hours prior to participation in the experiment.\\nLack of sleep (< 6 hours) the night before the experiment.\\nHigh alcohol intake the evening before the experiment.'"
      ]
     },
     "execution_count": 9,
     "metadata": {},
     "output_type": "execute_result"
    }
   ],
   "source": [
    "data['EligibilityCriteria'].iloc[3]"
   ]
  },
  {
   "cell_type": "code",
   "execution_count": 10,
   "metadata": {},
   "outputs": [],
   "source": [
    "preds = model.predict(data['EligibilityCriteria'].iloc[80][:200])"
   ]
  },
  {
   "cell_type": "code",
   "execution_count": 11,
   "metadata": {},
   "outputs": [
    {
     "name": "stdout",
     "output_type": "stream",
     "text": [
      "##met ---------- O\n",
      "##ast ---------- O\n",
      "##atic ---------- O\n",
      ", ---------- O\n",
      "localized ---------- O\n",
      ", ---------- O\n",
      "or ---------- O\n",
      "regional ---------- O\n",
      "solid ---------- I-Condition\n",
      "or ---------- I-Condition\n",
      "blood ---------- I-Condition\n",
      "ma ---------- I-Condition\n",
      "##li ---------- I-Condition\n",
      "##gna ---------- I-Condition\n",
      "##ncy ---------- I-Condition\n",
      "( ---------- I-Condition\n",
      "i ---------- I-Condition\n",
      "##es ---------- I-Condition\n",
      ") ---------- I-Condition\n",
      "; ---------- O\n",
      "( ---------- O\n",
      "2 ---------- O\n",
      ") ---------- O\n",
      "completion ---------- O\n",
      "of ---------- O\n",
      "primary ---------- B-Procedure\n",
      "cancer ---------- I-Procedure\n",
      "treatment ---------- I-Procedure\n",
      "( ---------- O\n",
      "radiation ---------- B-Procedure\n",
      ", ---------- O\n",
      "surgery ---------- B-Procedure\n",
      ", ---------- O\n",
      "and ---------- O\n",
      "/ ---------- O\n",
      "or ---------- O\n",
      "ch ---------- B-Procedure\n",
      "##em ---------- B-Procedure\n",
      "##otherapy ---------- B-Procedure\n",
      ") ---------- O\n",
      "; ---------- O\n",
      "( ---------- O\n"
     ]
    }
   ],
   "source": [
    "# Voici un exemple de prédictions du modèle\n",
    "for elem in preds[10:]:\n",
    "    print(elem[0], \"-\"*10, elem[1])"
   ]
  },
  {
   "cell_type": "code",
   "execution_count": 12,
   "metadata": {},
   "outputs": [],
   "source": [
    "# On ne veut garder que les critères d'inclusions. Pour ce faire, on ne sélectionne dans les critères d'éligibilités que le texte compris entre \n",
    "# Inclusion Criteria: et Exclusion Criteria"
   ]
  },
  {
   "cell_type": "code",
   "execution_count": 13,
   "metadata": {},
   "outputs": [],
   "source": [
    "def extract_inclusion_criteria(eligibility_criteria):\n",
    "    if type(eligibility_criteria)!=str:\n",
    "        return None\n",
    "    match = re.search(r'Inclusion Criteria:(.*?)Exclusion Criteria:', eligibility_criteria, re.DOTALL)\n",
    "    \n",
    "    if match:\n",
    "        return match.group(1).strip()\n",
    "    else:\n",
    "        return None\n",
    "\n",
    "data['InclusionCriteria'] = data['EligibilityCriteria'].apply(extract_inclusion_criteria)"
   ]
  },
  {
   "cell_type": "code",
   "execution_count": 14,
   "metadata": {},
   "outputs": [
    {
     "name": "stdout",
     "output_type": "stream",
     "text": [
      "Inclusion Criteria:\n",
      "\n",
      "Symptomatic paroxysmal AF that are unresponsive to antiarrhythmic drugs (one or more than one).\n",
      "Willing to undergo catheter ablation for AF.\n",
      "\n",
      "Exclusion Criteria:\n",
      "\n",
      "History of any type of catheter ablation for cardiac arrhythmias.\n",
      "Sinus node dysfunction that requires permanent pacemaker implantation. \n",
      "\n",
      " ---------------------------------------- \n",
      "\n",
      " Symptomatic paroxysmal AF that are unresponsive to antiarrhythmic drugs (one or more than one).\n",
      "Willing to undergo catheter ablation for AF.\n"
     ]
    }
   ],
   "source": [
    "print(data['EligibilityCriteria'].iloc[2],\"\\n\\n\", \"-\"*40,\"\\n\\n\", data[\"InclusionCriteria\"].iloc[2])"
   ]
  },
  {
   "cell_type": "code",
   "execution_count": 15,
   "metadata": {},
   "outputs": [],
   "source": [
    "# On réduit maintenant la taille des critères d'éligibilités, en effet le modèle entrainé peut modéliser jusqu'à 115 token et certains essais cliniques\n",
    "# Ont une liste de critère très longue. Dans un soucis de simplicité, on tronquera donc certaines données\n",
    "\n",
    "def reduce_numb_words(phrase, nombre_mots=80):\n",
    "    if phrase == None:\n",
    "        return None\n",
    "    mots = phrase.split()[:nombre_mots]\n",
    "    return ' '.join(mots)\n",
    "\n",
    "data['InclusionReduced'] = data['InclusionCriteria'].apply(reduce_numb_words)"
   ]
  },
  {
   "cell_type": "code",
   "execution_count": 16,
   "metadata": {},
   "outputs": [],
   "source": [
    "data['InclusionReduced'] = data['InclusionReduced'].fillna('')"
   ]
  },
  {
   "cell_type": "code",
   "execution_count": 17,
   "metadata": {},
   "outputs": [],
   "source": [
    "#On met les critères d'inclusivités auxquels nous appliqueront le modèle dans une liste\n",
    "\n",
    "list_inclusion = data[(data['Phase']==\"Phase 3\") & (data['InclusionReduced']!=\"None\") & (data['InclusionReduced']!=\"\")]['InclusionReduced'].tolist()"
   ]
  },
  {
   "cell_type": "code",
   "execution_count": 18,
   "metadata": {},
   "outputs": [
    {
     "data": {
      "text/plain": [
       "['Male and female subjects aged 18 to 65 years inclusive. Written informed consent. Co-living with persons who has developed influenza or other acute respiratory viral infection, diagnosed no more than 3 days ago. No signs of acute respiratory viral infection, influenza or COVID-19 at the time of inclusion in the study. For women with preserved reproductive potential - a negative pregnancy test and consent to use approved methods of contraception during the entire period of participation in the study; for',\n",
       " \"Need IV's line placement for IV fluids and/or phlebotomy\"]"
      ]
     },
     "execution_count": 18,
     "metadata": {},
     "output_type": "execute_result"
    }
   ],
   "source": [
    "list_inclusion[:2]"
   ]
  },
  {
   "cell_type": "code",
   "execution_count": 19,
   "metadata": {},
   "outputs": [
    {
     "name": "stderr",
     "output_type": "stream",
     "text": [
      "6261it [19:21,  5.39it/s]\n"
     ]
    }
   ],
   "source": [
    "preds = model.batch_predict(list_inclusion)"
   ]
  },
  {
   "cell_type": "markdown",
   "metadata": {},
   "source": [
    "## Transcription des prédictions du modèle\n",
    "\n",
    "Maintenant qu'on a nos prédictions, on compte le nombre d'attributs mentionnée dans les critères d'éligibilité des essais cliniques. \n",
    "On créer pour chaque essais clinique un dictionnaire qui associe a un attribut le nombre de fois qu'il apparait. "
   ]
  },
  {
   "cell_type": "code",
   "execution_count": 20,
   "metadata": {},
   "outputs": [
    {
     "data": {
      "text/plain": [
       "['Drug', 'Condition', 'Procedure', 'Person', 'Mood', 'Observation']"
      ]
     },
     "execution_count": 20,
     "metadata": {},
     "output_type": "execute_result"
    }
   ],
   "source": [
    "list_keys = [element[2:] for element in tags if element.startswith(\"B\")]\n",
    "list_keys"
   ]
  },
  {
   "cell_type": "code",
   "execution_count": 21,
   "metadata": {},
   "outputs": [
    {
     "name": "stdout",
     "output_type": "stream",
     "text": [
      "('male', 'B-Person')\n",
      "('female', 'B-Person')\n",
      "('aged', 'B-Person')\n",
      "('in', 'B-Condition')\n",
      "('##fluenza', 'B-Condition')\n",
      "('acute', 'B-Condition')\n",
      "('respiratory', 'I-Condition')\n",
      "('viral', 'I-Condition')\n",
      "('infection', 'I-Condition')\n",
      "('acute', 'B-Condition')\n",
      "('respiratory', 'I-Condition')\n",
      "('viral', 'I-Condition')\n",
      "('infection', 'I-Condition')\n",
      "('in', 'B-Condition')\n",
      "('##fluenza', 'B-Condition')\n"
     ]
    }
   ],
   "source": [
    "for elem in preds[0]:\n",
    "    if elem[1]!='O':\n",
    "        print(elem)"
   ]
  },
  {
   "cell_type": "code",
   "execution_count": 22,
   "metadata": {},
   "outputs": [
    {
     "data": {
      "text/plain": [
       "{'Drug': 0,\n",
       " 'Condition': 4,\n",
       " 'Procedure': 0,\n",
       " 'Person': 3,\n",
       " 'Mood': 0,\n",
       " 'Observation': 0}"
      ]
     },
     "execution_count": 22,
     "metadata": {},
     "output_type": "execute_result"
    }
   ],
   "source": [
    "def count_attributes(pred):\n",
    "    dict_clini = {}\n",
    "    for elem in list_keys:\n",
    "        dict_clini[elem]=0\n",
    "\n",
    "\n",
    "    for i in pred:\n",
    "        if i[1][0]==\"B\":\n",
    "            if i[0][:2]!=\"##\":\n",
    "                dict_clini[i[1][2:]]+=1\n",
    "    return dict_clini\n",
    "count_attributes(preds[0])"
   ]
  },
  {
   "cell_type": "code",
   "execution_count": 23,
   "metadata": {},
   "outputs": [],
   "source": [
    "df_augmented = data[(data['Phase']==\"Phase 3\") & (data['InclusionReduced']!=\"None\") & (data['InclusionReduced']!=\"\")].copy()\n",
    "df_augmented = df_augmented.reset_index(drop=True)"
   ]
  },
  {
   "cell_type": "code",
   "execution_count": 24,
   "metadata": {},
   "outputs": [],
   "source": [
    "preds_dict_list = [count_attributes(elem) for elem in preds]\n",
    "\n",
    "df_augmented['raw_count'] = preds_dict_list"
   ]
  },
  {
   "cell_type": "code",
   "execution_count": 25,
   "metadata": {},
   "outputs": [
    {
     "data": {
      "text/html": [
       "<div>\n",
       "<style scoped>\n",
       "    .dataframe tbody tr th:only-of-type {\n",
       "        vertical-align: middle;\n",
       "    }\n",
       "\n",
       "    .dataframe tbody tr th {\n",
       "        vertical-align: top;\n",
       "    }\n",
       "\n",
       "    .dataframe thead th {\n",
       "        text-align: right;\n",
       "    }\n",
       "</style>\n",
       "<table border=\"1\" class=\"dataframe\">\n",
       "  <thead>\n",
       "    <tr style=\"text-align: right;\">\n",
       "      <th></th>\n",
       "      <th>InclusionCriteria</th>\n",
       "      <th>raw_count</th>\n",
       "    </tr>\n",
       "  </thead>\n",
       "  <tbody>\n",
       "    <tr>\n",
       "      <th>0</th>\n",
       "      <td>Male and female subjects aged 18 to 65 years i...</td>\n",
       "      <td>{'Drug': 0, 'Condition': 4, 'Procedure': 0, 'P...</td>\n",
       "    </tr>\n",
       "    <tr>\n",
       "      <th>1</th>\n",
       "      <td>Need IV's line placement for IV fluids and/or ...</td>\n",
       "      <td>{'Drug': 1, 'Condition': 0, 'Procedure': 2, 'P...</td>\n",
       "    </tr>\n",
       "    <tr>\n",
       "      <th>2</th>\n",
       "      <td>Male or female ≥18 years of age.\\nDocumentatio...</td>\n",
       "      <td>{'Drug': 0, 'Condition': 6, 'Procedure': 0, 'P...</td>\n",
       "    </tr>\n",
       "    <tr>\n",
       "      <th>3</th>\n",
       "      <td>Participants must be 18 years of age (when sig...</td>\n",
       "      <td>{'Drug': 0, 'Condition': 4, 'Procedure': 1, 'P...</td>\n",
       "    </tr>\n",
       "    <tr>\n",
       "      <th>4</th>\n",
       "      <td>Participants must have at least 28 teeth in th...</td>\n",
       "      <td>{'Drug': 0, 'Condition': 0, 'Procedure': 0, 'P...</td>\n",
       "    </tr>\n",
       "    <tr>\n",
       "      <th>...</th>\n",
       "      <td>...</td>\n",
       "      <td>...</td>\n",
       "    </tr>\n",
       "    <tr>\n",
       "      <th>6256</th>\n",
       "      <td>Persistent asthma of a minimum of six months d...</td>\n",
       "      <td>{'Drug': 0, 'Condition': 0, 'Procedure': 1, 'P...</td>\n",
       "    </tr>\n",
       "    <tr>\n",
       "      <th>6257</th>\n",
       "      <td>Male and female patients with mild to severe h...</td>\n",
       "      <td>{'Drug': 0, 'Condition': 1, 'Procedure': 0, 'P...</td>\n",
       "    </tr>\n",
       "    <tr>\n",
       "      <th>6258</th>\n",
       "      <td>Community dwelling patients 65 years of age or...</td>\n",
       "      <td>{'Drug': 0, 'Condition': 1, 'Procedure': 0, 'P...</td>\n",
       "    </tr>\n",
       "    <tr>\n",
       "      <th>6259</th>\n",
       "      <td>Clinical diagnosis of 4-10 previously untreate...</td>\n",
       "      <td>{'Drug': 0, 'Condition': 1, 'Procedure': 0, 'P...</td>\n",
       "    </tr>\n",
       "    <tr>\n",
       "      <th>6260</th>\n",
       "      <td>Aged 12-85 years; of either gender.\\nConfirmed...</td>\n",
       "      <td>{'Drug': 2, 'Condition': 5, 'Procedure': 0, 'P...</td>\n",
       "    </tr>\n",
       "  </tbody>\n",
       "</table>\n",
       "<p>6261 rows × 2 columns</p>\n",
       "</div>"
      ],
      "text/plain": [
       "                                      InclusionCriteria  \\\n",
       "0     Male and female subjects aged 18 to 65 years i...   \n",
       "1     Need IV's line placement for IV fluids and/or ...   \n",
       "2     Male or female ≥18 years of age.\\nDocumentatio...   \n",
       "3     Participants must be 18 years of age (when sig...   \n",
       "4     Participants must have at least 28 teeth in th...   \n",
       "...                                                 ...   \n",
       "6256  Persistent asthma of a minimum of six months d...   \n",
       "6257  Male and female patients with mild to severe h...   \n",
       "6258  Community dwelling patients 65 years of age or...   \n",
       "6259  Clinical diagnosis of 4-10 previously untreate...   \n",
       "6260  Aged 12-85 years; of either gender.\\nConfirmed...   \n",
       "\n",
       "                                              raw_count  \n",
       "0     {'Drug': 0, 'Condition': 4, 'Procedure': 0, 'P...  \n",
       "1     {'Drug': 1, 'Condition': 0, 'Procedure': 2, 'P...  \n",
       "2     {'Drug': 0, 'Condition': 6, 'Procedure': 0, 'P...  \n",
       "3     {'Drug': 0, 'Condition': 4, 'Procedure': 1, 'P...  \n",
       "4     {'Drug': 0, 'Condition': 0, 'Procedure': 0, 'P...  \n",
       "...                                                 ...  \n",
       "6256  {'Drug': 0, 'Condition': 0, 'Procedure': 1, 'P...  \n",
       "6257  {'Drug': 0, 'Condition': 1, 'Procedure': 0, 'P...  \n",
       "6258  {'Drug': 0, 'Condition': 1, 'Procedure': 0, 'P...  \n",
       "6259  {'Drug': 0, 'Condition': 1, 'Procedure': 0, 'P...  \n",
       "6260  {'Drug': 2, 'Condition': 5, 'Procedure': 0, 'P...  \n",
       "\n",
       "[6261 rows x 2 columns]"
      ]
     },
     "execution_count": 25,
     "metadata": {},
     "output_type": "execute_result"
    }
   ],
   "source": [
    "df_augmented[['InclusionCriteria','raw_count']]"
   ]
  },
  {
   "cell_type": "code",
   "execution_count": 26,
   "metadata": {},
   "outputs": [
    {
     "name": "stdout",
     "output_type": "stream",
     "text": [
      "Subject must meet Diagnostic and Statistical Manual of Mental Disorders - Fifth Edition (DSM-5) criteria for a primary diagnosis of ADHD (combined, inattentive, or hyperactive/impulsive presentation) per clinical evaluation and confirmed by the Mini International Neuropsychiatric Interview for Children and Adolescents (MINI-KID).\n",
      "Subject must have a score of at least 3 (mildly ill) on the clinician-administered Clinical Global Impressions-Severity (CGI-S) scale.\n",
      "Subjects who completed the efficacy study with KP415 may be rolled over into the current study.\n",
      "Subject, subject's parent/legal guardian and caregiver (if applicable) must understand and be willing and able to comply with all study procedures and visit schedule.\n",
      "\n",
      "\n",
      "\n",
      "{'Drug': 0, 'Condition': 3, 'Procedure': 2, 'Person': 0, 'Mood': 0, 'Observation': 0}\n"
     ]
    }
   ],
   "source": [
    "print(df_augmented['InclusionCriteria'].iloc[3974])\n",
    "print(\"\\n\\n\")\n",
    "print(df_augmented['raw_count'].iloc[3974])"
   ]
  },
  {
   "cell_type": "code",
   "execution_count": 27,
   "metadata": {},
   "outputs": [
    {
     "data": {
      "text/html": [
       "<div>\n",
       "<style scoped>\n",
       "    .dataframe tbody tr th:only-of-type {\n",
       "        vertical-align: middle;\n",
       "    }\n",
       "\n",
       "    .dataframe tbody tr th {\n",
       "        vertical-align: top;\n",
       "    }\n",
       "\n",
       "    .dataframe thead th {\n",
       "        text-align: right;\n",
       "    }\n",
       "</style>\n",
       "<table border=\"1\" class=\"dataframe\">\n",
       "  <thead>\n",
       "    <tr style=\"text-align: right;\">\n",
       "      <th></th>\n",
       "      <th>NCTId</th>\n",
       "      <th>InclusionCriteria</th>\n",
       "      <th>Drug</th>\n",
       "      <th>Conditions</th>\n",
       "      <th>Procedure</th>\n",
       "    </tr>\n",
       "  </thead>\n",
       "  <tbody>\n",
       "    <tr>\n",
       "      <th>0</th>\n",
       "      <td>NCT06183229</td>\n",
       "      <td>Male and female subjects aged 18 to 65 years i...</td>\n",
       "      <td>0</td>\n",
       "      <td>4</td>\n",
       "      <td>0</td>\n",
       "    </tr>\n",
       "    <tr>\n",
       "      <th>1</th>\n",
       "      <td>NCT06182631</td>\n",
       "      <td>Need IV's line placement for IV fluids and/or ...</td>\n",
       "      <td>1</td>\n",
       "      <td>0</td>\n",
       "      <td>2</td>\n",
       "    </tr>\n",
       "    <tr>\n",
       "      <th>2</th>\n",
       "      <td>NCT06182319</td>\n",
       "      <td>Male or female ≥18 years of age.\\nDocumentatio...</td>\n",
       "      <td>0</td>\n",
       "      <td>6</td>\n",
       "      <td>0</td>\n",
       "    </tr>\n",
       "    <tr>\n",
       "      <th>3</th>\n",
       "      <td>NCT06181435</td>\n",
       "      <td>Participants must be 18 years of age (when sig...</td>\n",
       "      <td>0</td>\n",
       "      <td>4</td>\n",
       "      <td>1</td>\n",
       "    </tr>\n",
       "    <tr>\n",
       "      <th>4</th>\n",
       "      <td>NCT06180707</td>\n",
       "      <td>Participants must have at least 28 teeth in th...</td>\n",
       "      <td>0</td>\n",
       "      <td>0</td>\n",
       "      <td>0</td>\n",
       "    </tr>\n",
       "    <tr>\n",
       "      <th>...</th>\n",
       "      <td>...</td>\n",
       "      <td>...</td>\n",
       "      <td>...</td>\n",
       "      <td>...</td>\n",
       "      <td>...</td>\n",
       "    </tr>\n",
       "    <tr>\n",
       "      <th>6256</th>\n",
       "      <td>NCT00308685</td>\n",
       "      <td>Persistent asthma of a minimum of six months d...</td>\n",
       "      <td>0</td>\n",
       "      <td>0</td>\n",
       "      <td>1</td>\n",
       "    </tr>\n",
       "    <tr>\n",
       "      <th>6257</th>\n",
       "      <td>NCT00307060</td>\n",
       "      <td>Male and female patients with mild to severe h...</td>\n",
       "      <td>0</td>\n",
       "      <td>1</td>\n",
       "      <td>0</td>\n",
       "    </tr>\n",
       "    <tr>\n",
       "      <th>6258</th>\n",
       "      <td>NCT00305604</td>\n",
       "      <td>Community dwelling patients 65 years of age or...</td>\n",
       "      <td>0</td>\n",
       "      <td>1</td>\n",
       "      <td>0</td>\n",
       "    </tr>\n",
       "    <tr>\n",
       "      <th>6259</th>\n",
       "      <td>NCT00304239</td>\n",
       "      <td>Clinical diagnosis of 4-10 previously untreate...</td>\n",
       "      <td>0</td>\n",
       "      <td>1</td>\n",
       "      <td>0</td>\n",
       "    </tr>\n",
       "    <tr>\n",
       "      <th>6260</th>\n",
       "      <td>NCT00302211</td>\n",
       "      <td>Aged 12-85 years; of either gender.\\nConfirmed...</td>\n",
       "      <td>2</td>\n",
       "      <td>5</td>\n",
       "      <td>0</td>\n",
       "    </tr>\n",
       "  </tbody>\n",
       "</table>\n",
       "<p>6261 rows × 5 columns</p>\n",
       "</div>"
      ],
      "text/plain": [
       "            NCTId                                  InclusionCriteria  Drug  \\\n",
       "0     NCT06183229  Male and female subjects aged 18 to 65 years i...     0   \n",
       "1     NCT06182631  Need IV's line placement for IV fluids and/or ...     1   \n",
       "2     NCT06182319  Male or female ≥18 years of age.\\nDocumentatio...     0   \n",
       "3     NCT06181435  Participants must be 18 years of age (when sig...     0   \n",
       "4     NCT06180707  Participants must have at least 28 teeth in th...     0   \n",
       "...           ...                                                ...   ...   \n",
       "6256  NCT00308685  Persistent asthma of a minimum of six months d...     0   \n",
       "6257  NCT00307060  Male and female patients with mild to severe h...     0   \n",
       "6258  NCT00305604  Community dwelling patients 65 years of age or...     0   \n",
       "6259  NCT00304239  Clinical diagnosis of 4-10 previously untreate...     0   \n",
       "6260  NCT00302211  Aged 12-85 years; of either gender.\\nConfirmed...     2   \n",
       "\n",
       "      Conditions  Procedure  \n",
       "0              4          0  \n",
       "1              0          2  \n",
       "2              6          0  \n",
       "3              4          1  \n",
       "4              0          0  \n",
       "...          ...        ...  \n",
       "6256           0          1  \n",
       "6257           1          0  \n",
       "6258           1          0  \n",
       "6259           1          0  \n",
       "6260           5          0  \n",
       "\n",
       "[6261 rows x 5 columns]"
      ]
     },
     "execution_count": 27,
     "metadata": {},
     "output_type": "execute_result"
    }
   ],
   "source": [
    "# On réparti maintenant les observations dans des colonnes annexes (afin de pouvoir utiliser les variables facilement ensuite)\n",
    "\n",
    "colonnes_separees = df_augmented['raw_count'].apply(pd.Series)\n",
    "colonnes_separees.rename(columns={'Condition': 'Conditions'}, inplace=True)\n",
    "df_final = pd.concat([df_augmented, colonnes_separees], axis=1)\n",
    "df_final[[\"NCTId\", \"InclusionCriteria\",\"Drug\",\"Conditions\",\"Procedure\"]]"
   ]
  },
  {
   "cell_type": "code",
   "execution_count": 28,
   "metadata": {},
   "outputs": [],
   "source": [
    "# On sauvegarde le modèle \n",
    "\n",
    "df_final.to_csv('./data/Data_augmented3.csv')"
   ]
  },
  {
   "cell_type": "code",
   "execution_count": 29,
   "metadata": {},
   "outputs": [],
   "source": [
    "import pickle\n",
    "\n",
    "# J'enregistre les prédictions dans un fichier pkl au cas où je souhaite les réutiliser\n",
    "with open('./data/predictions3.pkl', 'wb') as fichier:\n",
    "    pickle.dump(preds, fichier)"
   ]
  },
  {
   "cell_type": "code",
   "execution_count": 30,
   "metadata": {},
   "outputs": [
    {
     "data": {
      "text/plain": [
       "[[('male', 'B-Person'),\n",
       "  ('and', 'O'),\n",
       "  ('female', 'B-Person'),\n",
       "  ('subjects', 'O'),\n",
       "  ('aged', 'B-Person'),\n",
       "  ('18', 'O'),\n",
       "  ('to', 'O'),\n",
       "  ('65', 'O'),\n",
       "  ('years', 'O'),\n",
       "  ('inclusive', 'O'),\n",
       "  ('.', 'O'),\n",
       "  ('written', 'O'),\n",
       "  ('informed', 'O'),\n",
       "  ('consent', 'O'),\n",
       "  ('.', 'O'),\n",
       "  ('co', 'O'),\n",
       "  ('-', 'O'),\n",
       "  ('living', 'O'),\n",
       "  ('with', 'O'),\n",
       "  ('persons', 'O'),\n",
       "  ('who', 'O'),\n",
       "  ('has', 'O'),\n",
       "  ('developed', 'O'),\n",
       "  ('in', 'B-Condition'),\n",
       "  ('##fluenza', 'B-Condition'),\n",
       "  ('or', 'O'),\n",
       "  ('other', 'O'),\n",
       "  ('acute', 'B-Condition'),\n",
       "  ('respiratory', 'I-Condition'),\n",
       "  ('viral', 'I-Condition'),\n",
       "  ('infection', 'I-Condition'),\n",
       "  (',', 'O'),\n",
       "  ('diagnosed', 'O'),\n",
       "  ('no', 'O'),\n",
       "  ('more', 'O'),\n",
       "  ('than', 'O'),\n",
       "  ('3', 'O'),\n",
       "  ('days', 'O'),\n",
       "  ('ago', 'O'),\n",
       "  ('.', 'O'),\n",
       "  ('no', 'O'),\n",
       "  ('signs', 'O'),\n",
       "  ('of', 'O'),\n",
       "  ('acute', 'B-Condition'),\n",
       "  ('respiratory', 'I-Condition'),\n",
       "  ('viral', 'I-Condition'),\n",
       "  ('infection', 'I-Condition'),\n",
       "  (',', 'O'),\n",
       "  ('in', 'B-Condition'),\n",
       "  ('##fluenza', 'B-Condition'),\n",
       "  ('or', 'O'),\n",
       "  ('co', 'O'),\n",
       "  ('##vid', 'O'),\n",
       "  ('-', 'O'),\n",
       "  ('19', 'O'),\n",
       "  ('at', 'O'),\n",
       "  ('the', 'O'),\n",
       "  ('time', 'O'),\n",
       "  ('of', 'O'),\n",
       "  ('inclusion', 'O'),\n",
       "  ('in', 'O'),\n",
       "  ('the', 'O'),\n",
       "  ('study', 'O'),\n",
       "  ('.', 'O'),\n",
       "  ('for', 'O'),\n",
       "  ('women', 'O'),\n",
       "  ('with', 'O'),\n",
       "  ('preserved', 'O'),\n",
       "  ('reproductive', 'O'),\n",
       "  ('potential', 'O'),\n",
       "  ('-', 'O'),\n",
       "  ('a', 'O'),\n",
       "  ('negative', 'O'),\n",
       "  ('pregnancy', 'O'),\n",
       "  ('test', 'O'),\n",
       "  ('and', 'O'),\n",
       "  ('consent', 'O'),\n",
       "  ('to', 'O'),\n",
       "  ('use', 'O'),\n",
       "  ('approved', 'O'),\n",
       "  ('methods', 'O'),\n",
       "  ('of', 'O'),\n",
       "  ('con', 'O'),\n",
       "  ('##tra', 'O'),\n",
       "  ('##ception', 'O'),\n",
       "  ('during', 'O'),\n",
       "  ('the', 'O'),\n",
       "  ('entire', 'O'),\n",
       "  ('period', 'O'),\n",
       "  ('of', 'O'),\n",
       "  ('participation', 'O'),\n",
       "  ('in', 'O'),\n",
       "  ('the', 'O'),\n",
       "  ('study', 'O'),\n",
       "  (';', 'O'),\n",
       "  ('for', 'O')],\n",
       " [('need', 'O'),\n",
       "  ('i', 'B-Procedure'),\n",
       "  ('##v', 'B-Procedure'),\n",
       "  (\"'\", 'O'),\n",
       "  ('s', 'O'),\n",
       "  ('line', 'I-Procedure'),\n",
       "  ('placement', 'I-Procedure'),\n",
       "  ('for', 'O'),\n",
       "  ('i', 'B-Drug'),\n",
       "  ('##v', 'B-Drug'),\n",
       "  ('fluids', 'I-Drug'),\n",
       "  ('and', 'O'),\n",
       "  ('/', 'O'),\n",
       "  ('or', 'O'),\n",
       "  ('p', 'B-Procedure'),\n",
       "  ('##hl', 'B-Procedure'),\n",
       "  ('##eb', 'B-Procedure'),\n",
       "  ('##oto', 'B-Procedure'),\n",
       "  ('##my', 'B-Procedure')],\n",
       " [('male', 'B-Person'),\n",
       "  ('or', 'O'),\n",
       "  ('female', 'B-Person'),\n",
       "  ('≥', 'O'),\n",
       "  ('##18', 'O'),\n",
       "  ('years', 'O'),\n",
       "  ('of', 'O'),\n",
       "  ('age', 'B-Person'),\n",
       "  ('.', 'O'),\n",
       "  ('documentation', 'O'),\n",
       "  ('of', 'O'),\n",
       "  ('as', 'B-Condition'),\n",
       "  ('##bo', 'B-Condition'),\n",
       "  ('as', 'O'),\n",
       "  ('evidenced', 'O'),\n",
       "  ('by', 'O'),\n",
       "  ('one', 'O'),\n",
       "  ('or', 'O'),\n",
       "  ('more', 'O'),\n",
       "  ('clinical', 'O'),\n",
       "  ('features', 'O'),\n",
       "  ('meeting', 'O'),\n",
       "  ('the', 'O'),\n",
       "  ('following', 'O'),\n",
       "  ('criteria', 'O'),\n",
       "  (':', 'O'),\n",
       "  ('nausea', 'B-Condition'),\n",
       "  (',', 'O'),\n",
       "  ('em', 'B-Condition'),\n",
       "  ('##esis', 'B-Condition'),\n",
       "  (',', 'O'),\n",
       "  ('abdominal', 'B-Condition'),\n",
       "  ('pain', 'I-Condition'),\n",
       "  (',', 'O'),\n",
       "  ('di', 'B-Condition'),\n",
       "  ('##sten', 'B-Condition'),\n",
       "  ('##ded', 'B-Condition'),\n",
       "  ('abdomen', 'I-Condition'),\n",
       "  ('c', 'O'),\n",
       "  ('##t', 'O'),\n",
       "  ('evidence', 'O'),\n",
       "  ('of', 'O'),\n",
       "  ('as', 'B-Condition'),\n",
       "  ('##bo', 'B-Condition')],\n",
       " [('participants', 'O'),\n",
       "  ('must', 'O'),\n",
       "  ('be', 'O'),\n",
       "  ('18', 'O'),\n",
       "  ('years', 'O'),\n",
       "  ('of', 'O'),\n",
       "  ('age', 'B-Person'),\n",
       "  ('(', 'O'),\n",
       "  ('when', 'O'),\n",
       "  ('signing', 'O'),\n",
       "  ('informed', 'O'),\n",
       "  ('consent', 'O'),\n",
       "  ('form', 'O'),\n",
       "  (')', 'O'),\n",
       "  ('diagnosis', 'O'),\n",
       "  ('of', 'O'),\n",
       "  ('ad', 'B-Condition'),\n",
       "  ('for', 'O'),\n",
       "  ('at', 'O'),\n",
       "  ('least', 'O'),\n",
       "  ('1', 'O'),\n",
       "  ('year', 'O'),\n",
       "  ('(', 'O'),\n",
       "  ('defined', 'O'),\n",
       "  ('by', 'O'),\n",
       "  ('the', 'O'),\n",
       "  ('am', 'O'),\n",
       "  ('##eric', 'O'),\n",
       "  ('##an', 'O'),\n",
       "  ('academy', 'O'),\n",
       "  ('of', 'O'),\n",
       "  ('der', 'O'),\n",
       "  ('##mat', 'O'),\n",
       "  ('##ology', 'O'),\n",
       "  ('consensus', 'O'),\n",
       "  ('criteria', 'O'),\n",
       "  (')', 'O'),\n",
       "  ('documented', 'O'),\n",
       "  ('history', 'B-Observation'),\n",
       "  ('(', 'O'),\n",
       "  ('within', 'O'),\n",
       "  ('6', 'O'),\n",
       "  ('months', 'O'),\n",
       "  ('before', 'O'),\n",
       "  ('screening', 'O'),\n",
       "  (')', 'O'),\n",
       "  ('of', 'O'),\n",
       "  ('either', 'O'),\n",
       "  ('inadequate', 'B-Condition'),\n",
       "  ('response', 'I-Condition'),\n",
       "  ('or', 'I-Condition'),\n",
       "  ('in', 'B-Condition'),\n",
       "  ('##ad', 'B-Condition'),\n",
       "  ('##vis', 'B-Condition'),\n",
       "  ('##ability', 'B-Condition'),\n",
       "  ('to', 'I-Condition'),\n",
       "  ('topic', 'I-Condition'),\n",
       "  ('##al', 'I-Condition'),\n",
       "  ('treatments', 'I-Condition'),\n",
       "  (',', 'O'),\n",
       "  ('and', 'O'),\n",
       "  ('/', 'O'),\n",
       "  ('or', 'O'),\n",
       "  ('inadequate', 'B-Condition'),\n",
       "  ('response', 'I-Condition'),\n",
       "  ('to', 'I-Condition'),\n",
       "  ('systemic', 'B-Procedure'),\n",
       "  ('the', 'I-Condition'),\n",
       "  ('##rap', 'I-Condition'),\n",
       "  ('##ies', 'I-Procedure'),\n",
       "  ('(', 'O'),\n",
       "  ('within', 'O'),\n",
       "  ('12', 'O'),\n",
       "  ('months', 'O'),\n",
       "  ('before', 'O'),\n",
       "  ('screening', 'O'),\n",
       "  (')', 'O'),\n",
       "  ('v', 'O'),\n",
       "  ('-', 'O'),\n",
       "  ('i', 'O'),\n",
       "  ('##ga', 'O'),\n",
       "  ('-', 'O'),\n",
       "  ('ad', 'O'),\n",
       "  ('of', 'O'),\n",
       "  ('3', 'O'),\n",
       "  ('or', 'O'),\n",
       "  ('4', 'O'),\n",
       "  ('at', 'O'),\n",
       "  ('base', 'O'),\n",
       "  ('##line', 'O'),\n",
       "  ('visit', 'O'),\n",
       "  ('e', 'O'),\n",
       "  ('##asi', 'O'),\n",
       "  ('score', 'O'),\n",
       "  ('of', 'O'),\n",
       "  ('16', 'O'),\n",
       "  ('or', 'O'),\n",
       "  ('higher', 'O'),\n",
       "  ('at', 'O'),\n",
       "  ('base', 'O'),\n",
       "  ('##line', 'O'),\n",
       "  ('ad', 'O'),\n",
       "  ('involvement', 'O'),\n",
       "  ('of', 'O'),\n",
       "  ('10', 'O'),\n",
       "  ('%', 'O'),\n",
       "  ('or', 'O'),\n",
       "  ('more', 'O'),\n",
       "  ('of', 'O'),\n",
       "  ('b', 'O'),\n",
       "  ('##sa', 'O')],\n",
       " [('participants', 'O'),\n",
       "  ('must', 'O'),\n",
       "  ('have', 'O'),\n",
       "  ('at', 'O'),\n",
       "  ('least', 'O'),\n",
       "  ('28', 'O'),\n",
       "  ('teeth', 'O'),\n",
       "  ('in', 'O'),\n",
       "  ('the', 'O'),\n",
       "  ('cavity', 'O'),\n",
       "  ('good', 'O'),\n",
       "  ('oral', 'I-Condition'),\n",
       "  ('and', 'I-Condition'),\n",
       "  ('general', 'I-Condition'),\n",
       "  ('health', 'I-Condition')]]"
      ]
     },
     "execution_count": 30,
     "metadata": {},
     "output_type": "execute_result"
    }
   ],
   "source": [
    "with open('./data/predictions3.pkl', 'rb') as fichier:\n",
    "    predictions = pickle.load(fichier)\n",
    "predictions[:5]"
   ]
  }
 ],
 "metadata": {
  "kernelspec": {
   "display_name": ".venv",
   "language": "python",
   "name": "python3"
  },
  "language_info": {
   "codemirror_mode": {
    "name": "ipython",
    "version": 3
   },
   "file_extension": ".py",
   "mimetype": "text/x-python",
   "name": "python",
   "nbconvert_exporter": "python",
   "pygments_lexer": "ipython3",
   "version": "3.10.13"
  }
 },
 "nbformat": 4,
 "nbformat_minor": 2
}
