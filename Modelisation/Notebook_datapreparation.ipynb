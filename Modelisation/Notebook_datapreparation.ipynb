{
 "cells": [
  {
   "cell_type": "markdown",
   "metadata": {},
   "source": [
    "Récupération des données annotés à l'aide du git https://github.com/ctgatecci/Clinical-trial-eligibility-criteria-NER/blob/main/NER%20Preprocessing%20and%20Performance%20Analysis.ipynb\n",
    "Pour que le code fonctionne effectivement, il faut télécharger les données annotés de chia https://figshare.com/articles/dataset/Chia_Annotated_Datasets/11855817?file=21728850\n",
    "et les mettre dans le dossier data_chia."
   ]
  },
  {
   "cell_type": "code",
   "execution_count": 5,
   "metadata": {},
   "outputs": [],
   "source": [
    "import os\n",
    "import json\n",
    "import pandas as pd\n",
    "from matplotlib import pyplot as plt\n",
    "from sklearn.model_selection import train_test_split\n",
    "from shutil import copyfile\n",
    "import csv\n",
    "import re\n",
    "from modules.data_extraction import *"
   ]
  },
  {
   "cell_type": "code",
   "execution_count": 10,
   "metadata": {},
   "outputs": [],
   "source": [
    "from spacy.lang.en import English\n",
    "nlp = English()"
   ]
  },
  {
   "cell_type": "code",
   "execution_count": 15,
   "metadata": {},
   "outputs": [],
   "source": [
    "inputpath = f\"./data_chia\"\n",
    "outputpath = f\"./data_bio\""
   ]
  },
  {
   "cell_type": "code",
   "execution_count": 16,
   "metadata": {},
   "outputs": [],
   "source": [
    "trainpath = f\"./trains\"\n",
    "testpath = f\"./tests\""
   ]
  },
  {
   "cell_type": "code",
   "execution_count": 17,
   "metadata": {},
   "outputs": [
    {
     "data": {
      "text/plain": [
       "1000"
      ]
     },
     "execution_count": 17,
     "metadata": {},
     "output_type": "execute_result"
    }
   ],
   "source": [
    "inputfiles = set()\n",
    "for f in os.listdir(inputpath):\n",
    "    if f.endswith('.ann'):\n",
    "        inputfiles.add(f.split('.')[0].split('_')[0])\n",
    "len(inputfiles)"
   ]
  },
  {
   "cell_type": "code",
   "execution_count": 13,
   "metadata": {},
   "outputs": [],
   "source": [
    "select_types = ['Condition', 'Drug', 'Procedure','Observation', 'Person', 'Mood',]"
   ]
  },
  {
   "cell_type": "code",
   "execution_count": 31,
   "metadata": {},
   "outputs": [],
   "source": [
    "brat_to_bio(inputfiles, inputpath, outputpath, select_types)"
   ]
  },
  {
   "cell_type": "code",
   "execution_count": 20,
   "metadata": {},
   "outputs": [
    {
     "name": "stdout",
     "output_type": "stream",
     "text": [
      "800 100 100\n"
     ]
    }
   ],
   "source": [
    "split_train_test(inputfiles, train=0.8)"
   ]
  },
  {
   "cell_type": "code",
   "execution_count": 24,
   "metadata": {},
   "outputs": [],
   "source": [
    "# Merge BIO format train, validation and test datasets\n",
    "# chia_datasets = json.load(open(\"chia/chia_datasets.json\", \"r\", encoding=\"utf-8\"))\n",
    "# merge the train dataset\n",
    "with open(\"./data/train.txt\", \"w\", encoding=\"utf-8\") as f:\n",
    "    for fid in chia_datasets[\"train\"]:\n",
    "        copyfile(f\"{outputpath}/{fid}_exc.bio.txt\", f\"{trainpath}/{fid}_exc.bio.txt\")\n",
    "        copyfile(f\"{outputpath}/{fid}_inc.bio.txt\", f\"{trainpath}/{fid}_inc.bio.txt\")\n",
    "        with open(f\"{outputpath}/{fid}_exc.bio.txt\", \"r\", encoding=\"utf-8\") as fr:\n",
    "            txt = fr.read().strip()\n",
    "            if txt != '':\n",
    "                f.write(txt)\n",
    "                f.write(\"\\n\\n\")\n",
    "        with open(f\"{outputpath}/{fid}_inc.bio.txt\", \"r\", encoding=\"utf-8\") as fr:\n",
    "            txt = fr.read().strip()\n",
    "            if txt != '':\n",
    "                f.write(txt)\n",
    "                f.write(\"\\n\\n\")\n",
    "\n",
    "# merge the validation dataset\n",
    "with open(\"./data/dev.txt\", \"w\", encoding=\"utf-8\") as f:\n",
    "    for fid in chia_datasets[\"dev\"]:\n",
    "        copyfile(f\"{outputpath}/{fid}_exc.bio.txt\", f\"{trainpath}/{fid}_exc.bio.txt\")\n",
    "        copyfile(f\"{outputpath}/{fid}_inc.bio.txt\", f\"{trainpath}/{fid}_inc.bio.txt\")\n",
    "        with open(f\"{outputpath}/{fid}_exc.bio.txt\", \"r\", encoding=\"utf-8\") as fr:\n",
    "            txt = fr.read().strip()\n",
    "            if txt != '':\n",
    "                f.write(txt)\n",
    "                f.write(\"\\n\\n\")\n",
    "        with open(f\"{outputpath}/{fid}_inc.bio.txt\", \"r\", encoding=\"utf-8\") as fr:\n",
    "            txt = fr.read().strip()\n",
    "            if txt != '':\n",
    "                f.write(txt)\n",
    "                f.write(\"\\n\\n\")\n",
    "\n",
    "# merge the test dataset\n",
    "with open(\"./data/test.txt\", \"w\", encoding=\"utf-8\") as f:\n",
    "    for fid in chia_datasets[\"test\"]:\n",
    "        copyfile(f\"{outputpath}/{fid}_exc.bio.txt\", f\"{testpath}/{fid}_exc.bio.txt\")\n",
    "        copyfile(f\"{outputpath}/{fid}_inc.bio.txt\", f\"{testpath}/{fid}_inc.bio.txt\")\n",
    "        with open(f\"{outputpath}/{fid}_exc.bio.txt\", \"r\", encoding=\"utf-8\") as fr:\n",
    "            txt = fr.read().strip()\n",
    "            if txt != '':\n",
    "                f.write(txt)\n",
    "                f.write(\"\\n\\n\")\n",
    "        with open(f\"{outputpath}/{fid}_inc.bio.txt\", \"r\", encoding=\"utf-8\") as fr:\n",
    "            txt = fr.read().strip()\n",
    "            if txt != '':\n",
    "                f.write(txt)\n",
    "                f.write(\"\\n\\n\")"
   ]
  },
  {
   "cell_type": "code",
   "execution_count": 48,
   "metadata": {},
   "outputs": [
    {
     "data": {
      "text/html": [
       "<div>\n",
       "<style scoped>\n",
       "    .dataframe tbody tr th:only-of-type {\n",
       "        vertical-align: middle;\n",
       "    }\n",
       "\n",
       "    .dataframe tbody tr th {\n",
       "        vertical-align: top;\n",
       "    }\n",
       "\n",
       "    .dataframe thead th {\n",
       "        text-align: right;\n",
       "    }\n",
       "</style>\n",
       "<table border=\"1\" class=\"dataframe\">\n",
       "  <thead>\n",
       "    <tr style=\"text-align: right;\">\n",
       "      <th></th>\n",
       "      <th>sentence</th>\n",
       "      <th>Mot</th>\n",
       "      <th>Label</th>\n",
       "    </tr>\n",
       "  </thead>\n",
       "  <tbody>\n",
       "    <tr>\n",
       "      <th>0</th>\n",
       "      <td>1</td>\n",
       "      <td>Use</td>\n",
       "      <td>O</td>\n",
       "    </tr>\n",
       "    <tr>\n",
       "      <th>1</th>\n",
       "      <td>1</td>\n",
       "      <td>of</td>\n",
       "      <td>O</td>\n",
       "    </tr>\n",
       "    <tr>\n",
       "      <th>2</th>\n",
       "      <td>1</td>\n",
       "      <td>smoking</td>\n",
       "      <td>B-Procedure</td>\n",
       "    </tr>\n",
       "    <tr>\n",
       "      <th>3</th>\n",
       "      <td>1</td>\n",
       "      <td>cessation</td>\n",
       "      <td>I-Procedure</td>\n",
       "    </tr>\n",
       "    <tr>\n",
       "      <th>4</th>\n",
       "      <td>1</td>\n",
       "      <td>medications</td>\n",
       "      <td>B-Procedure</td>\n",
       "    </tr>\n",
       "    <tr>\n",
       "      <th>...</th>\n",
       "      <td>...</td>\n",
       "      <td>...</td>\n",
       "      <td>...</td>\n",
       "    </tr>\n",
       "    <tr>\n",
       "      <th>18940</th>\n",
       "      <td>1319</td>\n",
       "      <td>SCID</td>\n",
       "      <td>I-Procedure</td>\n",
       "    </tr>\n",
       "    <tr>\n",
       "      <th>18941</th>\n",
       "      <td>1319</td>\n",
       "      <td>-</td>\n",
       "      <td>I-Procedure</td>\n",
       "    </tr>\n",
       "    <tr>\n",
       "      <th>18942</th>\n",
       "      <td>1319</td>\n",
       "      <td>II</td>\n",
       "      <td>I-Procedure</td>\n",
       "    </tr>\n",
       "    <tr>\n",
       "      <th>18943</th>\n",
       "      <td>1319</td>\n",
       "      <td>)</td>\n",
       "      <td>I-Procedure</td>\n",
       "    </tr>\n",
       "    <tr>\n",
       "      <th>18944</th>\n",
       "      <td>1319</td>\n",
       "      <td>.</td>\n",
       "      <td>O</td>\n",
       "    </tr>\n",
       "  </tbody>\n",
       "</table>\n",
       "<p>18945 rows × 3 columns</p>\n",
       "</div>"
      ],
      "text/plain": [
       "       sentence          Mot        Label\n",
       "0             1          Use            O\n",
       "1             1           of            O\n",
       "2             1      smoking  B-Procedure\n",
       "3             1    cessation  I-Procedure\n",
       "4             1  medications  B-Procedure\n",
       "...         ...          ...          ...\n",
       "18940      1319         SCID  I-Procedure\n",
       "18941      1319            -  I-Procedure\n",
       "18942      1319           II  I-Procedure\n",
       "18943      1319            )  I-Procedure\n",
       "18944      1319            .            O\n",
       "\n",
       "[18945 rows x 3 columns]"
      ]
     },
     "execution_count": 48,
     "metadata": {},
     "output_type": "execute_result"
    }
   ],
   "source": [
    "txt_to_df(\"./data/train.txt\",\"./data/train.csv\")\n",
    "txt_to_df(\"./data/test.txt\",\"./data/test.csv\")\n",
    "txt_to_df(\"./data/dev.txt\",\"./data/dev.csv\")"
   ]
  }
 ],
 "metadata": {
  "kernelspec": {
   "display_name": ".venv",
   "language": "python",
   "name": "python3"
  },
  "language_info": {
   "codemirror_mode": {
    "name": "ipython",
    "version": 3
   },
   "file_extension": ".py",
   "mimetype": "text/x-python",
   "name": "python",
   "nbconvert_exporter": "python",
   "pygments_lexer": "ipython3",
   "version": "3.10.13"
  }
 },
 "nbformat": 4,
 "nbformat_minor": 2
}
