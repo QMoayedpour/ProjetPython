{
 "cells": [
  {
   "cell_type": "code",
   "execution_count": 1,
   "metadata": {},
   "outputs": [
    {
     "name": "stderr",
     "output_type": "stream",
     "text": [
      "/home/onyxia/work/.venv/lib/python3.10/site-packages/tqdm/auto.py:21: TqdmWarning: IProgress not found. Please update jupyter and ipywidgets. See https://ipywidgets.readthedocs.io/en/stable/user_install.html\n",
      "  from .autonotebook import tqdm as notebook_tqdm\n"
     ]
    }
   ],
   "source": [
    "import pandas as pd\n",
    "from modules.NER_functions import *\n",
    "import warnings \n",
    "warnings.filterwarnings(\"ignore\")"
   ]
  },
  {
   "cell_type": "markdown",
   "metadata": {},
   "source": [
    "# NoteBook Conversion\n",
    "Le but de ce notebook est d'extraire le nombre de conditions par critère d'inclusivité des essais cliniques. \n",
    "\n",
    "Voici un schéma simplifié des étapes du notebook:\n",
    "\n",
    "![Texte alternatif](./images/schema.png)\n",
    "\n",
    "\n",
    "\n",
    "Le modèle entrainé est un modèle BERT fine-tuné. C'est un modèle de reconnaissance d'entités nommés, il est entrainé pour assigner un label à chaque token d'une phrase qu'on lui soumet.\n",
    "\n",
    "![Texte alternatif2](./images/ner.jpg)\n",
    "\n",
    "Notre modèle a été entrainé spécialement sur des données d'essais cliniques et présente 5 labels:\n",
    "* Mood\n",
    "* Drug\n",
    "* Condition\n",
    "* Person\n",
    "* Procedure\n",
    "* Observation\n",
    "\n",
    "Le but du modèle est ainsi de compter le nombre d'attributs recherchés pour un essai clinique afin de construire des indicateurs si un essai clinique est relativement exigeant sur sa sélection de patient."
   ]
  },
  {
   "cell_type": "code",
   "execution_count": 6,
   "metadata": {},
   "outputs": [],
   "source": [
    "data = pd.read_csv(\"../data/clini_data.csv\")"
   ]
  },
  {
   "cell_type": "markdown",
   "metadata": {},
   "source": [
    "## Predictions du modèle"
   ]
  },
  {
   "cell_type": "code",
   "execution_count": 7,
   "metadata": {},
   "outputs": [],
   "source": [
    "# On charge d'abord le modèle\n",
    "\n",
    "model = Bert_Model()"
   ]
  },
  {
   "cell_type": "code",
   "execution_count": 8,
   "metadata": {},
   "outputs": [],
   "source": [
    "model.load_model('./model/model1')"
   ]
  },
  {
   "cell_type": "code",
   "execution_count": 9,
   "metadata": {},
   "outputs": [],
   "source": [
    "tags = ['I-Procedure',\n",
    " 'B-Drug',\n",
    " 'I-Condition',\n",
    "  'I-Person',\n",
    " 'B-Condition',\n",
    " 'O',\n",
    " 'I-Observation',\n",
    " 'B-Procedure',\n",
    " 'B-Person',\n",
    " 'B-Mood',\n",
    " 'I-Mood',\n",
    " 'B-Observation',\n",
    " 'I-Drug',\n",
    " 'PAD']\n",
    "\n",
    "# Ici on rentre les tags \"a la main\" car il faut qu'ils respectent le même ordre que ceux qui ont servis à entraîner le modèle."
   ]
  },
  {
   "cell_type": "code",
   "execution_count": 10,
   "metadata": {},
   "outputs": [],
   "source": [
    "model.getTag(tags)"
   ]
  },
  {
   "cell_type": "code",
   "execution_count": 11,
   "metadata": {},
   "outputs": [],
   "source": [
    "data = pd.read_csv(\"../data/clini_data.csv\")"
   ]
  },
  {
   "cell_type": "code",
   "execution_count": 12,
   "metadata": {},
   "outputs": [],
   "source": [
    "data = data_treatment(data)"
   ]
  },
  {
   "cell_type": "code",
   "execution_count": 13,
   "metadata": {},
   "outputs": [
    {
     "data": {
      "text/plain": [
       "'Inclusion Criteria:\\n\\n● Age between 18 and 60 years.\\n\\nWillingness and ability to fully understand the content and scope of the experiment and comply with its instructions.\\nHave signed the informed consent.\\n\\nExclusion Criteria:\\n\\n● Pregnancy.\\n\\nOngoing chronic pain or neuromuscular disorder, or any Desis that effect the nociceptive system and not allowed to be evaluated in normal Condition\\nHistory of addictive behavior, defined as abuse of alcohol, cannabis, opioids, or other drugs.\\nHistory of heat sensitivity disorders.\\nHistory of mental illness.\\nPresence of fever, tuberculosis, malignant tumors, infectious processes, acute inflammatory processes\\nImplantation of pacemakers or metal prostheses.\\nUse of analgesics within 24 hours prior to participation in the experiment.\\nLack of sleep (< 6 hours) the night before the experiment.\\nHigh alcohol intake the evening before the experiment.'"
      ]
     },
     "execution_count": 13,
     "metadata": {},
     "output_type": "execute_result"
    }
   ],
   "source": [
    "data['EligibilityCriteria'].iloc[3]"
   ]
  },
  {
   "cell_type": "code",
   "execution_count": 14,
   "metadata": {},
   "outputs": [],
   "source": [
    "preds = model.predict(data['EligibilityCriteria'].iloc[80][:200])"
   ]
  },
  {
   "cell_type": "code",
   "execution_count": 15,
   "metadata": {},
   "outputs": [
    {
     "name": "stdout",
     "output_type": "stream",
     "text": [
      "##met ---------- O\n",
      "##ast ---------- O\n",
      "##atic ---------- O\n",
      ", ---------- O\n",
      "localized ---------- O\n",
      ", ---------- O\n",
      "or ---------- O\n",
      "regional ---------- O\n",
      "solid ---------- I-Condition\n",
      "or ---------- I-Condition\n",
      "blood ---------- I-Condition\n",
      "ma ---------- I-Condition\n",
      "##li ---------- I-Condition\n",
      "##gna ---------- I-Condition\n",
      "##ncy ---------- I-Condition\n",
      "( ---------- I-Condition\n",
      "i ---------- I-Condition\n",
      "##es ---------- I-Condition\n",
      ") ---------- I-Condition\n",
      "; ---------- O\n",
      "( ---------- O\n",
      "2 ---------- O\n",
      ") ---------- O\n",
      "completion ---------- O\n",
      "of ---------- O\n",
      "primary ---------- B-Procedure\n",
      "cancer ---------- I-Procedure\n",
      "treatment ---------- I-Procedure\n",
      "( ---------- O\n",
      "radiation ---------- B-Procedure\n",
      ", ---------- O\n",
      "surgery ---------- B-Procedure\n",
      ", ---------- O\n",
      "and ---------- O\n",
      "/ ---------- O\n",
      "or ---------- O\n",
      "ch ---------- B-Procedure\n",
      "##em ---------- B-Procedure\n",
      "##otherapy ---------- B-Procedure\n",
      ") ---------- O\n",
      "; ---------- O\n",
      "( ---------- O\n"
     ]
    }
   ],
   "source": [
    "# Voici un exemple de prédictions du modèle\n",
    "for elem in preds[10:]:\n",
    "    print(elem[0], \"-\"*10, elem[1])"
   ]
  },
  {
   "cell_type": "code",
   "execution_count": 16,
   "metadata": {},
   "outputs": [],
   "source": [
    "# On ne veut garder que les critères d'inclusions. Pour ce faire, on ne sélectionne dans les critères d'éligibilités que le texte compris entre \n",
    "# Inclusion Criteria: et Exclusion Criteria"
   ]
  },
  {
   "cell_type": "code",
   "execution_count": 17,
   "metadata": {},
   "outputs": [],
   "source": [
    "def extract_inclusion_criteria(eligibility_criteria):\n",
    "    if type(eligibility_criteria)!=str:\n",
    "        return None\n",
    "    match = re.search(r'Inclusion Criteria:(.*?)Exclusion Criteria:', eligibility_criteria, re.DOTALL)\n",
    "    \n",
    "    if match:\n",
    "        return match.group(1).strip()\n",
    "    else:\n",
    "        return None\n",
    "\n",
    "data['InclusionCriteria'] = data['EligibilityCriteria'].apply(extract_inclusion_criteria)"
   ]
  },
  {
   "cell_type": "code",
   "execution_count": 18,
   "metadata": {},
   "outputs": [
    {
     "name": "stdout",
     "output_type": "stream",
     "text": [
      "Inclusion Criteria:\n",
      "\n",
      "Symptomatic paroxysmal AF that are unresponsive to antiarrhythmic drugs (one or more than one).\n",
      "Willing to undergo catheter ablation for AF.\n",
      "\n",
      "Exclusion Criteria:\n",
      "\n",
      "History of any type of catheter ablation for cardiac arrhythmias.\n",
      "Sinus node dysfunction that requires permanent pacemaker implantation. \n",
      "\n",
      " ---------------------------------------- \n",
      "\n",
      " Symptomatic paroxysmal AF that are unresponsive to antiarrhythmic drugs (one or more than one).\n",
      "Willing to undergo catheter ablation for AF.\n"
     ]
    }
   ],
   "source": [
    "print(data['EligibilityCriteria'].iloc[2],\"\\n\\n\", \"-\"*40,\"\\n\\n\", data[\"InclusionCriteria\"].iloc[2])"
   ]
  },
  {
   "cell_type": "code",
   "execution_count": 84,
   "metadata": {},
   "outputs": [],
   "source": [
    "df = data[(data['Phase']==\"Phase 3\") & (data['EligibilityCriteria']!=\"None\") & (data['EligibilityCriteria']!=\"\")] #On enlève les valeurs manquantes \n",
    "# et on ne garde que les essais cliniques en phase 3"
   ]
  },
  {
   "cell_type": "markdown",
   "metadata": {},
   "source": [
    "Etant donné que les critères d'éligibilités sont généralement long (et la taille de token que peut prendre en compte notre modèle est d'environ 100), on sépare les textes en plusieurs observations de 80 mots qu'on va re-assembler après."
   ]
  },
  {
   "cell_type": "code",
   "execution_count": 85,
   "metadata": {},
   "outputs": [],
   "source": [
    "from textwrap import wrap\n",
    "\n",
    "def split_text_by_words(text, max_words=80):\n",
    "    words = text.split()\n",
    "    segments = []\n",
    "    current_segment = []\n",
    "    word_count = 0\n",
    "\n",
    "    for word in words:\n",
    "        if word_count  + 1 <= max_words:\n",
    "            current_segment.append(word)\n",
    "            word_count +=  1\n",
    "        else:\n",
    "            segments.append(' '.join(current_segment))\n",
    "            current_segment = [word]\n",
    "            word_count = len(word)\n",
    "\n",
    "    segments.append(' '.join(current_segment))\n",
    "    return segments\n",
    "\n",
    "df['InclusionCriteria'] = df['InclusionCriteria'].fillna('').apply(split_text_by_words)\n",
    "\n",
    "df_expanded = df.explode('InclusionCriteria')\n",
    "\n",
    "df_expanded.reset_index(drop=True, inplace=True)"
   ]
  },
  {
   "cell_type": "code",
   "execution_count": 191,
   "metadata": {},
   "outputs": [
    {
     "data": {
      "text/html": [
       "<div>\n",
       "<style scoped>\n",
       "    .dataframe tbody tr th:only-of-type {\n",
       "        vertical-align: middle;\n",
       "    }\n",
       "\n",
       "    .dataframe tbody tr th {\n",
       "        vertical-align: top;\n",
       "    }\n",
       "\n",
       "    .dataframe thead th {\n",
       "        text-align: right;\n",
       "    }\n",
       "</style>\n",
       "<table border=\"1\" class=\"dataframe\">\n",
       "  <thead>\n",
       "    <tr style=\"text-align: right;\">\n",
       "      <th></th>\n",
       "      <th>NCTId</th>\n",
       "      <th>InclusionCriteria</th>\n",
       "    </tr>\n",
       "  </thead>\n",
       "  <tbody>\n",
       "    <tr>\n",
       "      <th>0</th>\n",
       "      <td>NCT06183229</td>\n",
       "      <td>Male and female subjects aged 18 to 65 years i...</td>\n",
       "    </tr>\n",
       "    <tr>\n",
       "      <th>1</th>\n",
       "      <td>NCT06183229</td>\n",
       "      <td>men - consent to use approved methods of contr...</td>\n",
       "    </tr>\n",
       "    <tr>\n",
       "      <th>2</th>\n",
       "      <td>NCT06182631</td>\n",
       "      <td>Need IV's line placement for IV fluids and/or ...</td>\n",
       "    </tr>\n",
       "    <tr>\n",
       "      <th>3</th>\n",
       "      <td>NCT06182319</td>\n",
       "      <td>Male or female ≥18 years of age. Documentation...</td>\n",
       "    </tr>\n",
       "    <tr>\n",
       "      <th>4</th>\n",
       "      <td>NCT06181435</td>\n",
       "      <td>Participants must be 18 years of age (when sig...</td>\n",
       "    </tr>\n",
       "    <tr>\n",
       "      <th>5</th>\n",
       "      <td>NCT06181435</td>\n",
       "      <td>at baseline Weekly average of daily PP-NRS of ...</td>\n",
       "    </tr>\n",
       "    <tr>\n",
       "      <th>6</th>\n",
       "      <td>NCT06180707</td>\n",
       "      <td>Participants must have at least 28 teeth in th...</td>\n",
       "    </tr>\n",
       "    <tr>\n",
       "      <th>7</th>\n",
       "      <td>NCT06179732</td>\n",
       "      <td>Shelters with 1 or more children from 6-10 yea...</td>\n",
       "    </tr>\n",
       "    <tr>\n",
       "      <th>8</th>\n",
       "      <td>NCT06178991</td>\n",
       "      <td>Participants 18 through 64 years of age (or th...</td>\n",
       "    </tr>\n",
       "    <tr>\n",
       "      <th>9</th>\n",
       "      <td>NCT06178679</td>\n",
       "      <td>Be at least 18 years of age; Provide written i...</td>\n",
       "    </tr>\n",
       "  </tbody>\n",
       "</table>\n",
       "</div>"
      ],
      "text/plain": [
       "         NCTId                                  InclusionCriteria\n",
       "0  NCT06183229  Male and female subjects aged 18 to 65 years i...\n",
       "1  NCT06183229  men - consent to use approved methods of contr...\n",
       "2  NCT06182631  Need IV's line placement for IV fluids and/or ...\n",
       "3  NCT06182319  Male or female ≥18 years of age. Documentation...\n",
       "4  NCT06181435  Participants must be 18 years of age (when sig...\n",
       "5  NCT06181435  at baseline Weekly average of daily PP-NRS of ...\n",
       "6  NCT06180707  Participants must have at least 28 teeth in th...\n",
       "7  NCT06179732  Shelters with 1 or more children from 6-10 yea...\n",
       "8  NCT06178991  Participants 18 through 64 years of age (or th...\n",
       "9  NCT06178679  Be at least 18 years of age; Provide written i..."
      ]
     },
     "execution_count": 191,
     "metadata": {},
     "output_type": "execute_result"
    }
   ],
   "source": [
    "df_expanded[['NCTId','InclusionCriteria']].head(10)"
   ]
  },
  {
   "cell_type": "code",
   "execution_count": 92,
   "metadata": {},
   "outputs": [],
   "source": [
    "# On met maintenant les textes dans une liste pour y appliquer le modèle.\n",
    "list_inclusion = df_expanded['InclusionCriteria'].tolist()"
   ]
  },
  {
   "cell_type": "code",
   "execution_count": 97,
   "metadata": {},
   "outputs": [
    {
     "data": {
      "text/plain": [
       "['Male and female subjects aged 18 to 65 years inclusive. Written informed consent. Co-living with persons who has developed influenza or other acute respiratory viral infection, diagnosed no more than 3 days ago. No signs of acute respiratory viral infection, influenza or COVID-19 at the time of inclusion in the study. For women with preserved reproductive potential - a negative pregnancy test and consent to use approved methods of contraception during the entire period of participation in the study; for',\n",
       " 'men - consent to use approved methods of contraception during the entire period of participation in the study and for 3 weeks after the end of the study.',\n",
       " \"Need IV's line placement for IV fluids and/or phlebotomy\"]"
      ]
     },
     "execution_count": 97,
     "metadata": {},
     "output_type": "execute_result"
    }
   ],
   "source": [
    "list_inclusion[:3]"
   ]
  },
  {
   "cell_type": "code",
   "execution_count": 94,
   "metadata": {},
   "outputs": [
    {
     "name": "stderr",
     "output_type": "stream",
     "text": [
      "12151it [05:07, 39.48it/s]\n"
     ]
    }
   ],
   "source": [
    "preds = model.batch_predict(list_inclusion)"
   ]
  },
  {
   "cell_type": "code",
   "execution_count": 100,
   "metadata": {},
   "outputs": [],
   "source": [
    "# On crée un dataframe temporaire, celui ci va nous servir à re-répartir les prédictions par essais cliniques car la liste_preds n'est pas indexée par\n",
    "# les NCTId des essais cliniques mais ont le même ordre que ceux présents dans df_expanded.\n",
    "df_temp= pd.DataFrame()\n",
    "df_temp['NCTId'] = df_expanded['NCTId']\n",
    "df_temp['Liste'] = preds"
   ]
  },
  {
   "cell_type": "code",
   "execution_count": 192,
   "metadata": {},
   "outputs": [
    {
     "data": {
      "text/html": [
       "<div>\n",
       "<style scoped>\n",
       "    .dataframe tbody tr th:only-of-type {\n",
       "        vertical-align: middle;\n",
       "    }\n",
       "\n",
       "    .dataframe tbody tr th {\n",
       "        vertical-align: top;\n",
       "    }\n",
       "\n",
       "    .dataframe thead th {\n",
       "        text-align: right;\n",
       "    }\n",
       "</style>\n",
       "<table border=\"1\" class=\"dataframe\">\n",
       "  <thead>\n",
       "    <tr style=\"text-align: right;\">\n",
       "      <th></th>\n",
       "      <th>NCTId</th>\n",
       "      <th>Liste</th>\n",
       "    </tr>\n",
       "  </thead>\n",
       "  <tbody>\n",
       "    <tr>\n",
       "      <th>0</th>\n",
       "      <td>NCT06183229</td>\n",
       "      <td>[(male, B-Person), (and, O), (female, B-Person...</td>\n",
       "    </tr>\n",
       "    <tr>\n",
       "      <th>1</th>\n",
       "      <td>NCT06183229</td>\n",
       "      <td>[(men, O), (-, O), (consent, O), (to, O), (use...</td>\n",
       "    </tr>\n",
       "    <tr>\n",
       "      <th>2</th>\n",
       "      <td>NCT06182631</td>\n",
       "      <td>[(need, O), (i, B-Procedure), (##v, B-Procedur...</td>\n",
       "    </tr>\n",
       "    <tr>\n",
       "      <th>3</th>\n",
       "      <td>NCT06182319</td>\n",
       "      <td>[(male, B-Person), (or, O), (female, B-Person)...</td>\n",
       "    </tr>\n",
       "    <tr>\n",
       "      <th>4</th>\n",
       "      <td>NCT06181435</td>\n",
       "      <td>[(participants, O), (must, O), (be, O), (18, O...</td>\n",
       "    </tr>\n",
       "    <tr>\n",
       "      <th>5</th>\n",
       "      <td>NCT06181435</td>\n",
       "      <td>[(at, O), (base, O), (##line, O), (weekly, O),...</td>\n",
       "    </tr>\n",
       "    <tr>\n",
       "      <th>6</th>\n",
       "      <td>NCT06180707</td>\n",
       "      <td>[(participants, O), (must, O), (have, O), (at,...</td>\n",
       "    </tr>\n",
       "    <tr>\n",
       "      <th>7</th>\n",
       "      <td>NCT06179732</td>\n",
       "      <td>[(shelters, O), (with, O), (1, O), (or, O), (m...</td>\n",
       "    </tr>\n",
       "    <tr>\n",
       "      <th>8</th>\n",
       "      <td>NCT06178991</td>\n",
       "      <td>[(participants, O), (18, O), (through, O), (64...</td>\n",
       "    </tr>\n",
       "    <tr>\n",
       "      <th>9</th>\n",
       "      <td>NCT06178679</td>\n",
       "      <td>[(be, O), (at, O), (least, O), (18, O), (years...</td>\n",
       "    </tr>\n",
       "  </tbody>\n",
       "</table>\n",
       "</div>"
      ],
      "text/plain": [
       "         NCTId                                              Liste\n",
       "0  NCT06183229  [(male, B-Person), (and, O), (female, B-Person...\n",
       "1  NCT06183229  [(men, O), (-, O), (consent, O), (to, O), (use...\n",
       "2  NCT06182631  [(need, O), (i, B-Procedure), (##v, B-Procedur...\n",
       "3  NCT06182319  [(male, B-Person), (or, O), (female, B-Person)...\n",
       "4  NCT06181435  [(participants, O), (must, O), (be, O), (18, O...\n",
       "5  NCT06181435  [(at, O), (base, O), (##line, O), (weekly, O),...\n",
       "6  NCT06180707  [(participants, O), (must, O), (have, O), (at,...\n",
       "7  NCT06179732  [(shelters, O), (with, O), (1, O), (or, O), (m...\n",
       "8  NCT06178991  [(participants, O), (18, O), (through, O), (64...\n",
       "9  NCT06178679  [(be, O), (at, O), (least, O), (18, O), (years..."
      ]
     },
     "execution_count": 192,
     "metadata": {},
     "output_type": "execute_result"
    }
   ],
   "source": [
    "df_temp.head(10)"
   ]
  },
  {
   "cell_type": "code",
   "execution_count": 142,
   "metadata": {},
   "outputs": [],
   "source": [
    "# On fusionne maintenant les prédictions entre elles \n",
    "df_merged = df_temp.groupby('NCTId')['Liste'].agg(sum).reset_index()"
   ]
  },
  {
   "cell_type": "code",
   "execution_count": 193,
   "metadata": {},
   "outputs": [
    {
     "data": {
      "text/plain": [
       "True"
      ]
     },
     "execution_count": 193,
     "metadata": {},
     "output_type": "execute_result"
    }
   ],
   "source": [
    "list_preds = df_merged['Liste'].tolist() # On a enfin notre liste de prediction avec une prédiction par essai clinique:\n",
    "len(list_preds) == df_expanded['NCTId'].nunique()"
   ]
  },
  {
   "cell_type": "markdown",
   "metadata": {},
   "source": [
    "## Transcription des prédictions du modèle\n",
    "\n",
    "Maintenant qu'on a nos prédictions, on compte le nombre d'attributs mentionnée dans les critères d'éligibilité des essais cliniques. \n",
    "On créer pour chaque essais clinique un dictionnaire qui associe a un attribut le nombre de fois qu'il apparait. "
   ]
  },
  {
   "cell_type": "code",
   "execution_count": 149,
   "metadata": {},
   "outputs": [
    {
     "data": {
      "text/plain": [
       "['Drug', 'Condition', 'Procedure', 'Person', 'Mood', 'Observation']"
      ]
     },
     "execution_count": 149,
     "metadata": {},
     "output_type": "execute_result"
    }
   ],
   "source": [
    "list_keys = [element[2:] for element in tags if element.startswith(\"B\")]\n",
    "list_keys"
   ]
  },
  {
   "cell_type": "code",
   "execution_count": 150,
   "metadata": {},
   "outputs": [
    {
     "name": "stdout",
     "output_type": "stream",
     "text": [
      "('male', 'B-Person')\n",
      "('female', 'B-Person')\n",
      "('aged', 'B-Person')\n",
      "('in', 'B-Condition')\n",
      "('##fluenza', 'B-Condition')\n",
      "('acute', 'B-Condition')\n",
      "('respiratory', 'I-Condition')\n",
      "('viral', 'I-Condition')\n",
      "('infection', 'I-Condition')\n",
      "('acute', 'B-Condition')\n",
      "('respiratory', 'I-Condition')\n",
      "('viral', 'I-Condition')\n",
      "('infection', 'I-Condition')\n",
      "('in', 'B-Condition')\n",
      "('##fluenza', 'B-Condition')\n"
     ]
    }
   ],
   "source": [
    "for elem in preds[0]:\n",
    "    if elem[1]!='O':\n",
    "        print(elem)\n",
    "# On ne va compter que les éléments qui commencent par B pour ne pas compter un même mot/groupe de mots plusieurs fois"
   ]
  },
  {
   "cell_type": "code",
   "execution_count": 151,
   "metadata": {},
   "outputs": [
    {
     "data": {
      "text/plain": [
       "{'Drug': 2,\n",
       " 'Condition': 5,\n",
       " 'Procedure': 0,\n",
       " 'Person': 3,\n",
       " 'Mood': 0,\n",
       " 'Observation': 0}"
      ]
     },
     "execution_count": 151,
     "metadata": {},
     "output_type": "execute_result"
    }
   ],
   "source": [
    "def count_attributes(pred):\n",
    "    dict_clini = {} # dict_clini est un dictionnaire qui repertorie le nombre de mots d'intérêts par catégorie.\n",
    "    # On initialise le dictionnaire\n",
    "    for elem in list_keys:\n",
    "        dict_clini[elem]=0\n",
    "\n",
    "\n",
    "\n",
    "    for i in pred:\n",
    "        if i[1][0]==\"B\":\n",
    "            if i[0][:2]!=\"##\":\n",
    "                dict_clini[i[1][2:]]+=1 #On rajoute 1 à la clé du compteur\n",
    "    return dict_clini\n",
    "count_attributes(list_preds[0])"
   ]
  },
  {
   "cell_type": "code",
   "execution_count": 153,
   "metadata": {},
   "outputs": [],
   "source": [
    "preds_dict_list = [count_attributes(elem) for elem in list_preds]\n"
   ]
  },
  {
   "cell_type": "code",
   "execution_count": 155,
   "metadata": {},
   "outputs": [],
   "source": [
    "df_merged['raw_count'] = preds_dict_list\n",
    "# On assigne les \"compteurs\" aux observations, ici l'ordre est préservé."
   ]
  },
  {
   "cell_type": "code",
   "execution_count": 166,
   "metadata": {},
   "outputs": [],
   "source": [
    "df_augmented = pd.merge(df_merged, df, how='inner', on='NCTId') #On fusionne notre dataframe qui contient les prédictions avec l'ancien. On utilise le NCTId\n",
    "# comme clé de fusion."
   ]
  },
  {
   "cell_type": "code",
   "execution_count": 178,
   "metadata": {},
   "outputs": [
    {
     "name": "stdout",
     "output_type": "stream",
     "text": [
      " aged 12 - 85 years ; of either gender . confirmed p ##ah due to id ##io ##pathic pulmonary art ##erial h ##yper ##tens ##ion ( i ##pa ##h ) or f ##ami ##lial pulmonary art ##erial h ##yper ##tens ##ion ( f ##pa ##h ) . 6 - minute walk distance ( 6 - m ##w ##d ) between 100 - 450 meters at screening . on a stable dose of si ##lde ##na ##fi ##l , with or without b ##ose ##nta ##n .\n",
      "Inclusion Criteria:\n",
      "\n",
      "Aged 12-85 years; of either gender.\n",
      "Confirmed PAH due to idiopathic pulmonary arterial hypertension (IPAH) or familial pulmonary arterial hypertension (FPAH).\n",
      "6-minute walk distance (6-MWD) between 100-450 meters at screening.\n",
      "On a stable dose of sildenafil, with or without bosentan.\n",
      "\n",
      "Exclusion Criteria:\n",
      "\n",
      "Any treatment for PAH with prostacyclins, prostacyclin analogues, endothelin-1 antagonists, or phosphodiesterase-5 (PDE-5) inhibitors other than sildenafil within the past 12 weeks.\n",
      "Pulmonary hypertension due to conditions other than those stated in inclusion criteria.\n",
      "Additional PAH medications added within the past 12 weeks.\n"
     ]
    }
   ],
   "source": [
    "# On vérifie qu'on a bien fais match les essais cliniques entre eux\n",
    "stri =''\n",
    "for word in df_test['Liste'].iloc[0]:\n",
    "    stri+= ' ' + word[0]\n",
    "print(stri)\n",
    "print(df_augmented['EligibilityCriteria'].iloc[0])"
   ]
  },
  {
   "cell_type": "code",
   "execution_count": 168,
   "metadata": {},
   "outputs": [
    {
     "data": {
      "text/html": [
       "<div>\n",
       "<style scoped>\n",
       "    .dataframe tbody tr th:only-of-type {\n",
       "        vertical-align: middle;\n",
       "    }\n",
       "\n",
       "    .dataframe tbody tr th {\n",
       "        vertical-align: top;\n",
       "    }\n",
       "\n",
       "    .dataframe thead th {\n",
       "        text-align: right;\n",
       "    }\n",
       "</style>\n",
       "<table border=\"1\" class=\"dataframe\">\n",
       "  <thead>\n",
       "    <tr style=\"text-align: right;\">\n",
       "      <th></th>\n",
       "      <th>InclusionCriteria</th>\n",
       "      <th>raw_count</th>\n",
       "    </tr>\n",
       "  </thead>\n",
       "  <tbody>\n",
       "    <tr>\n",
       "      <th>0</th>\n",
       "      <td>[Aged 12-85 years; of either gender. Confirmed...</td>\n",
       "      <td>{'Drug': 2, 'Condition': 5, 'Procedure': 0, 'P...</td>\n",
       "    </tr>\n",
       "    <tr>\n",
       "      <th>1</th>\n",
       "      <td>[Clinical diagnosis of 4-10 previously untreat...</td>\n",
       "      <td>{'Drug': 0, 'Condition': 1, 'Procedure': 0, 'P...</td>\n",
       "    </tr>\n",
       "    <tr>\n",
       "      <th>2</th>\n",
       "      <td>[Community dwelling patients 65 years of age o...</td>\n",
       "      <td>{'Drug': 0, 'Condition': 1, 'Procedure': 0, 'P...</td>\n",
       "    </tr>\n",
       "    <tr>\n",
       "      <th>3</th>\n",
       "      <td>[Male and female patients with mild to severe ...</td>\n",
       "      <td>{'Drug': 0, 'Condition': 1, 'Procedure': 0, 'P...</td>\n",
       "    </tr>\n",
       "    <tr>\n",
       "      <th>4</th>\n",
       "      <td>[Persistent asthma of a minimum of six months ...</td>\n",
       "      <td>{'Drug': 0, 'Condition': 0, 'Procedure': 1, 'P...</td>\n",
       "    </tr>\n",
       "    <tr>\n",
       "      <th>...</th>\n",
       "      <td>...</td>\n",
       "      <td>...</td>\n",
       "    </tr>\n",
       "    <tr>\n",
       "      <th>6256</th>\n",
       "      <td>[Participants must have at least 28 teeth in t...</td>\n",
       "      <td>{'Drug': 0, 'Condition': 0, 'Procedure': 0, 'P...</td>\n",
       "    </tr>\n",
       "    <tr>\n",
       "      <th>6257</th>\n",
       "      <td>[Participants must be 18 years of age (when si...</td>\n",
       "      <td>{'Drug': 0, 'Condition': 4, 'Procedure': 1, 'P...</td>\n",
       "    </tr>\n",
       "    <tr>\n",
       "      <th>6258</th>\n",
       "      <td>[Male or female ≥18 years of age. Documentatio...</td>\n",
       "      <td>{'Drug': 0, 'Condition': 6, 'Procedure': 0, 'P...</td>\n",
       "    </tr>\n",
       "    <tr>\n",
       "      <th>6259</th>\n",
       "      <td>[Need IV's line placement for IV fluids and/or...</td>\n",
       "      <td>{'Drug': 1, 'Condition': 0, 'Procedure': 2, 'P...</td>\n",
       "    </tr>\n",
       "    <tr>\n",
       "      <th>6260</th>\n",
       "      <td>[Male and female subjects aged 18 to 65 years ...</td>\n",
       "      <td>{'Drug': 0, 'Condition': 4, 'Procedure': 0, 'P...</td>\n",
       "    </tr>\n",
       "  </tbody>\n",
       "</table>\n",
       "<p>6261 rows × 2 columns</p>\n",
       "</div>"
      ],
      "text/plain": [
       "                                      InclusionCriteria  \\\n",
       "0     [Aged 12-85 years; of either gender. Confirmed...   \n",
       "1     [Clinical diagnosis of 4-10 previously untreat...   \n",
       "2     [Community dwelling patients 65 years of age o...   \n",
       "3     [Male and female patients with mild to severe ...   \n",
       "4     [Persistent asthma of a minimum of six months ...   \n",
       "...                                                 ...   \n",
       "6256  [Participants must have at least 28 teeth in t...   \n",
       "6257  [Participants must be 18 years of age (when si...   \n",
       "6258  [Male or female ≥18 years of age. Documentatio...   \n",
       "6259  [Need IV's line placement for IV fluids and/or...   \n",
       "6260  [Male and female subjects aged 18 to 65 years ...   \n",
       "\n",
       "                                              raw_count  \n",
       "0     {'Drug': 2, 'Condition': 5, 'Procedure': 0, 'P...  \n",
       "1     {'Drug': 0, 'Condition': 1, 'Procedure': 0, 'P...  \n",
       "2     {'Drug': 0, 'Condition': 1, 'Procedure': 0, 'P...  \n",
       "3     {'Drug': 0, 'Condition': 1, 'Procedure': 0, 'P...  \n",
       "4     {'Drug': 0, 'Condition': 0, 'Procedure': 1, 'P...  \n",
       "...                                                 ...  \n",
       "6256  {'Drug': 0, 'Condition': 0, 'Procedure': 0, 'P...  \n",
       "6257  {'Drug': 0, 'Condition': 4, 'Procedure': 1, 'P...  \n",
       "6258  {'Drug': 0, 'Condition': 6, 'Procedure': 0, 'P...  \n",
       "6259  {'Drug': 1, 'Condition': 0, 'Procedure': 2, 'P...  \n",
       "6260  {'Drug': 0, 'Condition': 4, 'Procedure': 0, 'P...  \n",
       "\n",
       "[6261 rows x 2 columns]"
      ]
     },
     "execution_count": 168,
     "metadata": {},
     "output_type": "execute_result"
    }
   ],
   "source": [
    "df_augmented[['InclusionCriteria','raw_count']]"
   ]
  },
  {
   "cell_type": "code",
   "execution_count": 194,
   "metadata": {},
   "outputs": [
    {
     "name": "stdout",
     "output_type": "stream",
     "text": [
      "Inclusion Criteria:\n",
      "\n",
      "Age ≥2 years and ≤75 years.\n",
      "Confirmed diagnosis of primary immunodeficiency (PI) disease as defined by the European Society for Immunodeficiencies and Pan American Group for Immunodeficiency and requiring immunoglobulin replacement therapy due to hypogammaglobulinaemia or agammaglobulinaemia. Note: The exact type of PI disease will be recorded.\n",
      "Established on a consistent or stable mg/kg dose of any SCIG treatment for a minimum of 3 months prior to Screening. Note: patients entering Cohort 3 must be on weekly SCIG infusions for a minimum of 12 weeks.\n",
      "\n",
      "Availability of the Immunoglobulin G (IgG) trough levels of 2 previous SCIG infusions within 1 year of Screening, with 1 trough level obtained within 3 months prior to enrollment, and maintenance of trough serum IgG levels\n",
      "\n",
      "≥5.0 g/L in 2 previous infusions. Patients with no prior IgG trough level within 3 months prior to enrollment may use the Screening IgG trough level as their 2nd reading.\n",
      "\n",
      "Voluntarily given, fully informed signed informed consent. For patients under the legal age of consent, voluntarily given, fully-informed, signed informed consent will be provided by patient's parent or legal guardian, and assent will be provided by patient (per age-appropriate Institutional Review Board [IRB] requirements).\n",
      "Females of childbearing potential, who are not nursing and have no plans for pregnancy during the course of the study, have been using at least 1 acceptable form of birth control for a minimum of 30 days prior to the Screening visit and must agree to use at least 1 acceptable method of contraception for 30 days after the last dose of CUTAQUIG. Acceptable methods include: intrauterine device (IUD), hormonal contraception, male or female condom, spermicide gel, diaphragm, sponge, cervical cap, or abstinence.\n",
      "For female patients of child-bearing potential, a negative result in a urine pregnancy test conducted at the Screening visit.\n",
      "Willingness to comply with all aspects of the protocol, including blood sampling, for the duration of the study.\n",
      "\n",
      "Exclusion Criteria:\n",
      "\n",
      "Evidence of active infection within 4 weeks of Screening or during the Screening Period.\n",
      "Current or clinically-significant history of any cardiovascular, respiratory, hepatic, renal, gastrointestinal, endocrine, neurological, immunological (excluding PI), hematologic, and/or psychiatric disorder(s), or a history of any other illness that, in the opinion of the Investigator, might confound the results of the study, or pose additional risk to the patient by participation in the study.\n",
      "Known history of adverse reactions to immunoglobulin A (IgA) in other products.\n",
      "Body mass index (BMI) >40 kg/m2 for patients entering Cohort 2 or Cohort 3. There are no BMI restrictions for Cohort 1.\n",
      "Ongoing history of hypersensitivity or persistent reactions to blood or plasma derived products, or any component of the investigational product (such as Polysorbate 80).\n",
      "Requirement of any routine premedication for IgG administration.\n",
      "History of malignancies of lymphoid cells and immunodeficiency with lymphoma.\n",
      "Severe liver function impairment (aspartate aminotransferase [AST] or alanine aminotransferase [ALT] >3 times above upper limit of normal).\n",
      "Known protein-losing enteropathies or clinically significant proteinuria.\n",
      "Presence of renal function impairment (creatine >120 μM/L or creatinine >1.35 mg/dL), or predisposition for acute renal failure (eg, any degree of preexisting renal insufficiency or routine treatment with known nephritic drugs).\n",
      "Treatment with oral or parenteral steroids for ≥30 days, or when given intermittently or as bolus at daily doses ≥0.15 mg/kg when taken within 30 days of Screening. Note: Short or intermittent courses of steroids (ie, a steroid burst) of >0.15 mg/kg/day is allowed for treatment of a short-term condition such as an asthma exacerbation.\n",
      "Treatment with immunosuppressive or immunomodulatory drugs (except Omalizumab).\n",
      "Use of HYQVIA (Immune Globulin Infusion 10% [Human] with Recombinant Human Hyaluronidase) within 3 months prior to first CUTAQUIG infusion.\n",
      "Live viral vaccination (such as measles, rubella, mumps, and varicella) within 2 months prior to first CUTAQUIG infusion.\n",
      "Exposure to blood or any blood product or derivative, other than subcutaneous IgG used for regular PI disease treatment, within 3 months before the first CUTAQUIG infusion.\n",
      "Treatment with any investigational medicinal product within 3 months prior to first CUTAQUIG infusion. Note: Patients participating in Study SCGAM-03 will be allowed to enter this study without the 3-month waiting period for an Investigational Product. Patients receiving another SCIG product within 3 months prior to the first CUTAQUIG infusion may be considered for enrollment after Sponsor approval.\n",
      "Presence of any condition that is likely to interfere with the evaluation of CUTAQUIG or satisfactory conduct of the trial.\n",
      "Known or suspected to abuse alcohol, drugs, psychotropic agents, or other chemicals within the past 12 months prior to first CUTAQUIG infusion.\n",
      "Known active or chronic hepatitis B, hepatitis C, or HIV infection. Past hepatitis B or hepatitis C infection that has been cured is allowed.\n",
      "\n",
      "\n",
      "\n",
      "Extraction pour les critères d'inclusions :\n",
      "\n",
      " {'Drug': 0, 'Condition': 3, 'Procedure': 2, 'Person': 2, 'Mood': 0, 'Observation': 0}\n"
     ]
    }
   ],
   "source": [
    "print(df_augmented['EligibilityCriteria'].iloc[3000])\n",
    "print(\"\\n\\n\")\n",
    "print(\"Extraction pour les critères d'inclusions :\\n\\n\",df_augmented['raw_count'].iloc[3000])"
   ]
  },
  {
   "cell_type": "code",
   "execution_count": 200,
   "metadata": {},
   "outputs": [
    {
     "data": {
      "text/html": [
       "<div>\n",
       "<style scoped>\n",
       "    .dataframe tbody tr th:only-of-type {\n",
       "        vertical-align: middle;\n",
       "    }\n",
       "\n",
       "    .dataframe tbody tr th {\n",
       "        vertical-align: top;\n",
       "    }\n",
       "\n",
       "    .dataframe thead th {\n",
       "        text-align: right;\n",
       "    }\n",
       "</style>\n",
       "<table border=\"1\" class=\"dataframe\">\n",
       "  <thead>\n",
       "    <tr style=\"text-align: right;\">\n",
       "      <th></th>\n",
       "      <th>NCTId</th>\n",
       "      <th>InclusionCriteria</th>\n",
       "      <th>Drug</th>\n",
       "      <th>Conditions</th>\n",
       "      <th>Procedure</th>\n",
       "    </tr>\n",
       "  </thead>\n",
       "  <tbody>\n",
       "    <tr>\n",
       "      <th>4057</th>\n",
       "      <td>NCT04592419</td>\n",
       "      <td>[Signed informed consent prior to participatio...</td>\n",
       "      <td>0</td>\n",
       "      <td>5</td>\n",
       "      <td>0</td>\n",
       "    </tr>\n",
       "    <tr>\n",
       "      <th>5790</th>\n",
       "      <td>NCT05783492</td>\n",
       "      <td>[General Criteria Provision of signed and date...</td>\n",
       "      <td>0</td>\n",
       "      <td>1</td>\n",
       "      <td>1</td>\n",
       "    </tr>\n",
       "    <tr>\n",
       "      <th>4906</th>\n",
       "      <td>NCT05136261</td>\n",
       "      <td>[Children and adolescents aged three to 16 yea...</td>\n",
       "      <td>0</td>\n",
       "      <td>2</td>\n",
       "      <td>0</td>\n",
       "    </tr>\n",
       "    <tr>\n",
       "      <th>562</th>\n",
       "      <td>NCT01527357</td>\n",
       "      <td>[Has signed an institutional review board/inde...</td>\n",
       "      <td>1</td>\n",
       "      <td>1</td>\n",
       "      <td>0</td>\n",
       "    </tr>\n",
       "    <tr>\n",
       "      <th>3532</th>\n",
       "      <td>NCT04311658</td>\n",
       "      <td>[adolescents and young women requesting LNG-IU...</td>\n",
       "      <td>0</td>\n",
       "      <td>0</td>\n",
       "      <td>1</td>\n",
       "    </tr>\n",
       "  </tbody>\n",
       "</table>\n",
       "</div>"
      ],
      "text/plain": [
       "            NCTId                                  InclusionCriteria  Drug  \\\n",
       "4057  NCT04592419  [Signed informed consent prior to participatio...     0   \n",
       "5790  NCT05783492  [General Criteria Provision of signed and date...     0   \n",
       "4906  NCT05136261  [Children and adolescents aged three to 16 yea...     0   \n",
       "562   NCT01527357  [Has signed an institutional review board/inde...     1   \n",
       "3532  NCT04311658  [adolescents and young women requesting LNG-IU...     0   \n",
       "\n",
       "      Conditions  Procedure  \n",
       "4057           5          0  \n",
       "5790           1          1  \n",
       "4906           2          0  \n",
       "562            1          0  \n",
       "3532           0          1  "
      ]
     },
     "execution_count": 200,
     "metadata": {},
     "output_type": "execute_result"
    }
   ],
   "source": [
    "# On réparti maintenant les observations dans des colonnes annexes (afin de pouvoir utiliser les variables facilement ensuite)\n",
    "\n",
    "colonnes_separees = df_augmented['raw_count'].apply(pd.Series)\n",
    "colonnes_separees.rename(columns={'Condition': 'Conditions'}, inplace=True)\n",
    "df_final = pd.concat([df_augmented, colonnes_separees], axis=1)\n",
    "df_final[[\"NCTId\", \"InclusionCriteria\",\"Drug\",\"Conditions\",\"Procedure\"]].sample(5)"
   ]
  },
  {
   "cell_type": "code",
   "execution_count": 201,
   "metadata": {},
   "outputs": [
    {
     "name": "stdout",
     "output_type": "stream",
     "text": [
      "Inclusion Criteria:\n",
      "\n",
      "adolescents and young women requesting LNG-IUD insertion\n",
      "\n",
      "Exclusion Criteria:\n",
      "\n",
      "heavy vaginal bleeding,pregnancy, contraindications to IUD insertion, allergy or contraindication to isosorbide mononitrate, uterine anomaly\n"
     ]
    }
   ],
   "source": [
    "print(df[df['NCTId']=='NCT04311658'].EligibilityCriteria.iloc[0])"
   ]
  },
  {
   "cell_type": "code",
   "execution_count": 187,
   "metadata": {},
   "outputs": [],
   "source": [
    "# On sauvegarde le modèle \n",
    "\n",
    "df_final.to_csv('./data/Data_augmented_final.csv')"
   ]
  },
  {
   "cell_type": "code",
   "execution_count": 188,
   "metadata": {},
   "outputs": [],
   "source": [
    "import pickle\n",
    "\n",
    "# J'enregistre les prédictions dans un fichier pkl au cas où je souhaite les réutiliser\n",
    "with open('./data/predictions_final.pkl', 'wb') as fichier:\n",
    "    pickle.dump(preds, fichier)"
   ]
  },
  {
   "cell_type": "code",
   "execution_count": 189,
   "metadata": {},
   "outputs": [],
   "source": [
    "with open('./data/predictions_final.pkl', 'rb') as fichier:\n",
    "    predictions = pickle.load(fichier)"
   ]
  }
 ],
 "metadata": {
  "kernelspec": {
   "display_name": ".venv",
   "language": "python",
   "name": "python3"
  },
  "language_info": {
   "codemirror_mode": {
    "name": "ipython",
    "version": 3
   },
   "file_extension": ".py",
   "mimetype": "text/x-python",
   "name": "python",
   "nbconvert_exporter": "python",
   "pygments_lexer": "ipython3",
   "version": "3.10.13"
  }
 },
 "nbformat": 4,
 "nbformat_minor": 2
}
