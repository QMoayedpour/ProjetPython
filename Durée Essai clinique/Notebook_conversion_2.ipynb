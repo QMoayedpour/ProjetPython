{
 "cells": [
  {
   "cell_type": "markdown",
   "metadata": {},
   "source": [
    "# Extraction des prédictions\n",
    "\n",
    "Ce notebook un peu plus propre utilise simplement les fonctions crées dans DataConvert.py . Les détail ne sont donc pas montrés mais le notebook permet une utilisation plus \"propre\" du modèle. "
   ]
  },
  {
   "cell_type": "code",
   "execution_count": 1,
   "metadata": {},
   "outputs": [
    {
     "name": "stderr",
     "output_type": "stream",
     "text": [
      "/home/onyxia/work/.venv/lib/python3.10/site-packages/tqdm/auto.py:21: TqdmWarning: IProgress not found. Please update jupyter and ipywidgets. See https://ipywidgets.readthedocs.io/en/stable/user_install.html\n",
      "  from .autonotebook import tqdm as notebook_tqdm\n"
     ]
    }
   ],
   "source": [
    "import pandas as pd\n",
    "import pickle\n",
    "from modules.NER_functions import *\n",
    "import warnings \n",
    "warnings.filterwarnings(\"ignore\")\n",
    "from modules.DataConvert import *"
   ]
  },
  {
   "cell_type": "code",
   "execution_count": 2,
   "metadata": {},
   "outputs": [
    {
     "data": {
      "text/plain": [
       "['I-Procedure',\n",
       " 'B-Drug',\n",
       " 'I-Condition',\n",
       " 'I-Person',\n",
       " 'B-Condition',\n",
       " 'O',\n",
       " 'I-Observation',\n",
       " 'B-Procedure',\n",
       " 'B-Person',\n",
       " 'B-Mood',\n",
       " 'I-Mood',\n",
       " 'B-Observation',\n",
       " 'I-Drug',\n",
       " 'PAD']"
      ]
     },
     "execution_count": 2,
     "metadata": {},
     "output_type": "execute_result"
    }
   ],
   "source": [
    "with open(\"./data/tags.pkl\", 'rb') as fichier:\n",
    "    tags = pickle.load(fichier)\n",
    "tags # On doit charger les tags dans un ordre précis pour pas que le modèle les mélange."
   ]
  },
  {
   "cell_type": "code",
   "execution_count": 3,
   "metadata": {},
   "outputs": [
    {
     "data": {
      "text/html": [
       "<div>\n",
       "<style scoped>\n",
       "    .dataframe tbody tr th:only-of-type {\n",
       "        vertical-align: middle;\n",
       "    }\n",
       "\n",
       "    .dataframe tbody tr th {\n",
       "        vertical-align: top;\n",
       "    }\n",
       "\n",
       "    .dataframe thead th {\n",
       "        text-align: right;\n",
       "    }\n",
       "</style>\n",
       "<table border=\"1\" class=\"dataframe\">\n",
       "  <thead>\n",
       "    <tr style=\"text-align: right;\">\n",
       "      <th></th>\n",
       "      <th>NCTId</th>\n",
       "      <th>BriefTitle</th>\n",
       "      <th>EligibilityCriteria</th>\n",
       "    </tr>\n",
       "  </thead>\n",
       "  <tbody>\n",
       "    <tr>\n",
       "      <th>0</th>\n",
       "      <td>NCT05113407</td>\n",
       "      <td>Observatory on the Use of the Shockwave Medica...</td>\n",
       "      <td>Inclusion Criteria:\\n\\nPatient over 18 years o...</td>\n",
       "    </tr>\n",
       "    <tr>\n",
       "      <th>1</th>\n",
       "      <td>NCT04420286</td>\n",
       "      <td>Study of the Increase in ICU Beds Capacity Dur...</td>\n",
       "      <td>Inclusion Criteria:\\n\\nHospital having ICU dur...</td>\n",
       "    </tr>\n",
       "    <tr>\n",
       "      <th>2</th>\n",
       "      <td>NCT04684758</td>\n",
       "      <td>HIV Acquisition and Life Course of Born-abroad...</td>\n",
       "      <td>Inclusion Criteria:\\n\\nCis-gender men who repo...</td>\n",
       "    </tr>\n",
       "    <tr>\n",
       "      <th>3</th>\n",
       "      <td>NCT05158790</td>\n",
       "      <td>Impact of Covid-19 on Training for ENT and Cer...</td>\n",
       "      <td>Inclusion Criteria:\\n\\nAge &gt; 18 years\\nENT res...</td>\n",
       "    </tr>\n",
       "    <tr>\n",
       "      <th>4</th>\n",
       "      <td>NCT05928819</td>\n",
       "      <td>Evaluation of a Computer-aided Diagnosis Syste...</td>\n",
       "      <td>Inclusion Criteria:\\n\\nboth gender patients ev...</td>\n",
       "    </tr>\n",
       "    <tr>\n",
       "      <th>...</th>\n",
       "      <td>...</td>\n",
       "      <td>...</td>\n",
       "      <td>...</td>\n",
       "    </tr>\n",
       "    <tr>\n",
       "      <th>95</th>\n",
       "      <td>NCT04954976</td>\n",
       "      <td>Orthodontic Retention In France - ORIF</td>\n",
       "      <td>Inclusion Criteria:\\n\\nAll French Specialist o...</td>\n",
       "    </tr>\n",
       "    <tr>\n",
       "      <th>96</th>\n",
       "      <td>NCT04498858</td>\n",
       "      <td>To Promote Tobacco Free Life in the Dental Pra...</td>\n",
       "      <td>Inclusion Criteria:\\n\\n18 years or older\\nsmok...</td>\n",
       "    </tr>\n",
       "    <tr>\n",
       "      <th>97</th>\n",
       "      <td>NCT02988505</td>\n",
       "      <td>Out-of Pocket Payments With Lymphedema in France</td>\n",
       "      <td>Inclusion criteria:\\n\\nPatient aged over six y...</td>\n",
       "    </tr>\n",
       "    <tr>\n",
       "      <th>98</th>\n",
       "      <td>NCT05013047</td>\n",
       "      <td>Impact of the COVID-19 Pandemic on the Organiz...</td>\n",
       "      <td>Inclusion Criteria:\\n\\nPatients with one of th...</td>\n",
       "    </tr>\n",
       "    <tr>\n",
       "      <th>99</th>\n",
       "      <td>NCT04272723</td>\n",
       "      <td>Management of Venous Thromboembolism in France...</td>\n",
       "      <td>Inclusion Criteria:\\n\\nvascular medicine physi...</td>\n",
       "    </tr>\n",
       "  </tbody>\n",
       "</table>\n",
       "<p>100 rows × 3 columns</p>\n",
       "</div>"
      ],
      "text/plain": [
       "          NCTId                                         BriefTitle  \\\n",
       "0   NCT05113407  Observatory on the Use of the Shockwave Medica...   \n",
       "1   NCT04420286  Study of the Increase in ICU Beds Capacity Dur...   \n",
       "2   NCT04684758  HIV Acquisition and Life Course of Born-abroad...   \n",
       "3   NCT05158790  Impact of Covid-19 on Training for ENT and Cer...   \n",
       "4   NCT05928819  Evaluation of a Computer-aided Diagnosis Syste...   \n",
       "..          ...                                                ...   \n",
       "95  NCT04954976             Orthodontic Retention In France - ORIF   \n",
       "96  NCT04498858  To Promote Tobacco Free Life in the Dental Pra...   \n",
       "97  NCT02988505   Out-of Pocket Payments With Lymphedema in France   \n",
       "98  NCT05013047  Impact of the COVID-19 Pandemic on the Organiz...   \n",
       "99  NCT04272723  Management of Venous Thromboembolism in France...   \n",
       "\n",
       "                                  EligibilityCriteria  \n",
       "0   Inclusion Criteria:\\n\\nPatient over 18 years o...  \n",
       "1   Inclusion Criteria:\\n\\nHospital having ICU dur...  \n",
       "2   Inclusion Criteria:\\n\\nCis-gender men who repo...  \n",
       "3   Inclusion Criteria:\\n\\nAge > 18 years\\nENT res...  \n",
       "4   Inclusion Criteria:\\n\\nboth gender patients ev...  \n",
       "..                                                ...  \n",
       "95  Inclusion Criteria:\\n\\nAll French Specialist o...  \n",
       "96  Inclusion Criteria:\\n\\n18 years or older\\nsmok...  \n",
       "97  Inclusion criteria:\\n\\nPatient aged over six y...  \n",
       "98  Inclusion Criteria:\\n\\nPatients with one of th...  \n",
       "99  Inclusion Criteria:\\n\\nvascular medicine physi...  \n",
       "\n",
       "[100 rows x 3 columns]"
      ]
     },
     "execution_count": 3,
     "metadata": {},
     "output_type": "execute_result"
    }
   ],
   "source": [
    "Data = Data_Convertor(path_df='../data/MyData.csv')\n",
    "Data.df.head(100)[['NCTId',\"BriefTitle\",\"EligibilityCriteria\"]]"
   ]
  },
  {
   "cell_type": "code",
   "execution_count": 4,
   "metadata": {},
   "outputs": [
    {
     "name": "stdout",
     "output_type": "stream",
     "text": [
      "Chargement du modèle ... \n",
      "Modèle chargé !\n"
     ]
    }
   ],
   "source": [
    "Data.load(tags)"
   ]
  },
  {
   "cell_type": "code",
   "execution_count": 5,
   "metadata": {},
   "outputs": [
    {
     "data": {
      "text/plain": [
       "[('the', 'O'),\n",
       " ('patient', 'O'),\n",
       " ('has', 'O'),\n",
       " ('a', 'O'),\n",
       " ('cancer', 'B-Condition')]"
      ]
     },
     "execution_count": 5,
     "metadata": {},
     "output_type": "execute_result"
    }
   ],
   "source": [
    "Data.model.predict('The patient has a cancer')"
   ]
  },
  {
   "cell_type": "code",
   "execution_count": 6,
   "metadata": {},
   "outputs": [],
   "source": [
    "Data.clean_data()"
   ]
  },
  {
   "cell_type": "code",
   "execution_count": 7,
   "metadata": {},
   "outputs": [
    {
     "name": "stderr",
     "output_type": "stream",
     "text": [
      "10it [00:29,  2.93s/it]\n"
     ]
    }
   ],
   "source": [
    "Data.extract_predictions(phase=\"Phase 1\")"
   ]
  },
  {
   "cell_type": "code",
   "execution_count": 9,
   "metadata": {},
   "outputs": [
    {
     "data": {
      "text/html": [
       "<div>\n",
       "<style scoped>\n",
       "    .dataframe tbody tr th:only-of-type {\n",
       "        vertical-align: middle;\n",
       "    }\n",
       "\n",
       "    .dataframe tbody tr th {\n",
       "        vertical-align: top;\n",
       "    }\n",
       "\n",
       "    .dataframe thead th {\n",
       "        text-align: right;\n",
       "    }\n",
       "</style>\n",
       "<table border=\"1\" class=\"dataframe\">\n",
       "  <thead>\n",
       "    <tr style=\"text-align: right;\">\n",
       "      <th></th>\n",
       "      <th>NCTId</th>\n",
       "      <th>EligibilityCriteria</th>\n",
       "      <th>Conditions</th>\n",
       "      <th>Drug</th>\n",
       "      <th>Procedure</th>\n",
       "      <th>Person</th>\n",
       "      <th>Observation</th>\n",
       "    </tr>\n",
       "  </thead>\n",
       "  <tbody>\n",
       "    <tr>\n",
       "      <th>0</th>\n",
       "      <td>NCT03583385</td>\n",
       "      <td>Inclusion Criteria:\\n\\nParticipants has provid...</td>\n",
       "      <td>1</td>\n",
       "      <td>0</td>\n",
       "      <td>2</td>\n",
       "      <td>0</td>\n",
       "      <td>0</td>\n",
       "    </tr>\n",
       "    <tr>\n",
       "      <th>1</th>\n",
       "      <td>NCT03621072</td>\n",
       "      <td>Inclusion Criteria:\\n\\nHealthy Chinese male an...</td>\n",
       "      <td>2</td>\n",
       "      <td>0</td>\n",
       "      <td>4</td>\n",
       "      <td>7</td>\n",
       "      <td>2</td>\n",
       "    </tr>\n",
       "    <tr>\n",
       "      <th>2</th>\n",
       "      <td>NCT04854538</td>\n",
       "      <td>Inclusion Criteria:\\n\\nHealthy male or female,...</td>\n",
       "      <td>0</td>\n",
       "      <td>0</td>\n",
       "      <td>0</td>\n",
       "      <td>5</td>\n",
       "      <td>1</td>\n",
       "    </tr>\n",
       "    <tr>\n",
       "      <th>3</th>\n",
       "      <td>NCT05038969</td>\n",
       "      <td>Inclusion Criteria:\\n\\nHealthy male or female,...</td>\n",
       "      <td>0</td>\n",
       "      <td>0</td>\n",
       "      <td>1</td>\n",
       "      <td>4</td>\n",
       "      <td>1</td>\n",
       "    </tr>\n",
       "  </tbody>\n",
       "</table>\n",
       "</div>"
      ],
      "text/plain": [
       "         NCTId                                EligibilityCriteria  Conditions  \\\n",
       "0  NCT03583385  Inclusion Criteria:\\n\\nParticipants has provid...           1   \n",
       "1  NCT03621072  Inclusion Criteria:\\n\\nHealthy Chinese male an...           2   \n",
       "2  NCT04854538  Inclusion Criteria:\\n\\nHealthy male or female,...           0   \n",
       "3  NCT05038969  Inclusion Criteria:\\n\\nHealthy male or female,...           0   \n",
       "\n",
       "   Drug  Procedure  Person  Observation  \n",
       "0     0          2       0            0  \n",
       "1     0          4       7            2  \n",
       "2     0          0       5            1  \n",
       "3     0          1       4            1  "
      ]
     },
     "execution_count": 9,
     "metadata": {},
     "output_type": "execute_result"
    }
   ],
   "source": [
    "Data.df_predict[['NCTId', \"EligibilityCriteria\", \"Conditions\", \"Drug\", 'Procedure', \"Person\", \"Observation\"]]"
   ]
  },
  {
   "cell_type": "code",
   "execution_count": null,
   "metadata": {},
   "outputs": [],
   "source": [
    "Data.save_preds(path=\"mypath.csv\")"
   ]
  }
 ],
 "metadata": {
  "kernelspec": {
   "display_name": ".venv",
   "language": "python",
   "name": "python3"
  },
  "language_info": {
   "codemirror_mode": {
    "name": "ipython",
    "version": 3
   },
   "file_extension": ".py",
   "mimetype": "text/x-python",
   "name": "python",
   "nbconvert_exporter": "python",
   "pygments_lexer": "ipython3",
   "version": "3.10.13"
  }
 },
 "nbformat": 4,
 "nbformat_minor": 2
}
