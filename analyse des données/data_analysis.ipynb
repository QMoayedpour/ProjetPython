{
 "cells": [
  {
   "cell_type": "code",
   "execution_count": 15,
   "metadata": {},
   "outputs": [],
   "source": [
    "from utils.functions import *"
   ]
  },
  {
   "cell_type": "code",
   "execution_count": 4,
   "metadata": {},
   "outputs": [
    {
     "name": "stderr",
     "output_type": "stream",
     "text": [
      "/tmp/ipykernel_24179/1979673808.py:1: DtypeWarning: Columns (2,3,4,5,10,11,12,13,14,15,17,18,19,20,21,22,23,24,25,26,27,28,29,30,31,32,33,34,35,36,37,41,42,43,68,79,80,81,82,88,89,94,95,97,98,99,100,101,102,104,105,109,110,111,112,113,114,115,116,118,121,122,151,163,169,184,192,193,194,195,196,200,206,210,212,213,214,215,216,217,218,219,220,222,223,225,226,228,229,230,231,232,233,234,235,236,237,238,239,240,241,242,243,244,245,246,247,248,249,250,254,262,263,264,265,266,275,279,280,282,283,284,285,286,287,300,301,302,303,304,308,320,321,322,324,325,326) have mixed types. Specify dtype option on import or set low_memory=False.\n",
      "  data = pd.read_csv('../data/clini_data.csv')\n"
     ]
    }
   ],
   "source": [
    "data = pd.read_csv('../data/clini_data.csv')"
   ]
  },
  {
   "cell_type": "code",
   "execution_count": 5,
   "metadata": {},
   "outputs": [
    {
     "data": {
      "text/plain": [
       "True"
      ]
     },
     "execution_count": 5,
     "metadata": {},
     "output_type": "execute_result"
    }
   ],
   "source": [
    "# On vérifie qu'on n'a pas de doublons\n",
    "data['NCTId'].nunique() == len(data)"
   ]
  },
  {
   "cell_type": "code",
   "execution_count": 6,
   "metadata": {},
   "outputs": [
    {
     "data": {
      "text/html": [
       "<div>\n",
       "<style scoped>\n",
       "    .dataframe tbody tr th:only-of-type {\n",
       "        vertical-align: middle;\n",
       "    }\n",
       "\n",
       "    .dataframe tbody tr th {\n",
       "        vertical-align: top;\n",
       "    }\n",
       "\n",
       "    .dataframe thead th {\n",
       "        text-align: right;\n",
       "    }\n",
       "</style>\n",
       "<table border=\"1\" class=\"dataframe\">\n",
       "  <thead>\n",
       "    <tr style=\"text-align: right;\">\n",
       "      <th></th>\n",
       "      <th>NCTId</th>\n",
       "      <th>BriefTitle</th>\n",
       "      <th>StartDate</th>\n",
       "      <th>LocationCountry</th>\n",
       "      <th>StudyType</th>\n",
       "      <th>Phase</th>\n",
       "    </tr>\n",
       "  </thead>\n",
       "  <tbody>\n",
       "    <tr>\n",
       "      <th>18716</th>\n",
       "      <td>NCT05912309</td>\n",
       "      <td>Effects of Time-restricted Eating and Exercise...</td>\n",
       "      <td>September 1, 2023</td>\n",
       "      <td>Spain</td>\n",
       "      <td>Interventional</td>\n",
       "      <td>Not Applicable</td>\n",
       "    </tr>\n",
       "    <tr>\n",
       "      <th>89627</th>\n",
       "      <td>NCT04989569</td>\n",
       "      <td>Serial Body Composition Change for Risk Predic...</td>\n",
       "      <td>August 1, 2020</td>\n",
       "      <td>Taiwan</td>\n",
       "      <td>Interventional</td>\n",
       "      <td>Not Applicable</td>\n",
       "    </tr>\n",
       "    <tr>\n",
       "      <th>22871</th>\n",
       "      <td>NCT05858268</td>\n",
       "      <td>NeuralNET Cerebral Palsy Pilot Study</td>\n",
       "      <td>April 14, 2023</td>\n",
       "      <td>United Kingdom</td>\n",
       "      <td>Observational</td>\n",
       "      <td>NaN</td>\n",
       "    </tr>\n",
       "    <tr>\n",
       "      <th>41644</th>\n",
       "      <td>NCT05614063</td>\n",
       "      <td>A Randomized Study of XEN1101 Versus Placebo i...</td>\n",
       "      <td>November 18, 2022</td>\n",
       "      <td>United States</td>\n",
       "      <td>Interventional</td>\n",
       "      <td>Phase 3</td>\n",
       "    </tr>\n",
       "    <tr>\n",
       "      <th>4494</th>\n",
       "      <td>NCT06097338</td>\n",
       "      <td>Quantitative US for Evaluation of Hepatic Stea...</td>\n",
       "      <td>October 2023</td>\n",
       "      <td>NaN</td>\n",
       "      <td>Observational</td>\n",
       "      <td>NaN</td>\n",
       "    </tr>\n",
       "    <tr>\n",
       "      <th>63792</th>\n",
       "      <td>NCT05325801</td>\n",
       "      <td>A Study of CAR-T Cells Targeting Both BCMA and...</td>\n",
       "      <td>April 2022</td>\n",
       "      <td>NaN</td>\n",
       "      <td>Interventional</td>\n",
       "      <td>Phase 1</td>\n",
       "    </tr>\n",
       "    <tr>\n",
       "      <th>99272</th>\n",
       "      <td>NCT04863963</td>\n",
       "      <td>Milligan-Morgan Versus Dearterialization With ...</td>\n",
       "      <td>July 1, 2021</td>\n",
       "      <td>Italy</td>\n",
       "      <td>Observational</td>\n",
       "      <td>NaN</td>\n",
       "    </tr>\n",
       "    <tr>\n",
       "      <th>41641</th>\n",
       "      <td>NCT05614102</td>\n",
       "      <td>A First-in-human Study to Learn How Safe the S...</td>\n",
       "      <td>November 4, 2022</td>\n",
       "      <td>United States</td>\n",
       "      <td>Interventional</td>\n",
       "      <td>Phase 1</td>\n",
       "    </tr>\n",
       "    <tr>\n",
       "      <th>88341</th>\n",
       "      <td>NCT05006300</td>\n",
       "      <td>Evaluation of the Efficacy of Topialyse Baume ...</td>\n",
       "      <td>September 2021</td>\n",
       "      <td>NaN</td>\n",
       "      <td>Interventional</td>\n",
       "      <td>Not Applicable</td>\n",
       "    </tr>\n",
       "    <tr>\n",
       "      <th>39728</th>\n",
       "      <td>NCT05638984</td>\n",
       "      <td>Low Dose Decitabine in Combination With Tireli...</td>\n",
       "      <td>January 1, 2023</td>\n",
       "      <td>NaN</td>\n",
       "      <td>Interventional</td>\n",
       "      <td>Phase 2</td>\n",
       "    </tr>\n",
       "  </tbody>\n",
       "</table>\n",
       "</div>"
      ],
      "text/plain": [
       "             NCTId                                         BriefTitle  \\\n",
       "18716  NCT05912309  Effects of Time-restricted Eating and Exercise...   \n",
       "89627  NCT04989569  Serial Body Composition Change for Risk Predic...   \n",
       "22871  NCT05858268               NeuralNET Cerebral Palsy Pilot Study   \n",
       "41644  NCT05614063  A Randomized Study of XEN1101 Versus Placebo i...   \n",
       "4494   NCT06097338  Quantitative US for Evaluation of Hepatic Stea...   \n",
       "63792  NCT05325801  A Study of CAR-T Cells Targeting Both BCMA and...   \n",
       "99272  NCT04863963  Milligan-Morgan Versus Dearterialization With ...   \n",
       "41641  NCT05614102  A First-in-human Study to Learn How Safe the S...   \n",
       "88341  NCT05006300  Evaluation of the Efficacy of Topialyse Baume ...   \n",
       "39728  NCT05638984  Low Dose Decitabine in Combination With Tireli...   \n",
       "\n",
       "               StartDate LocationCountry       StudyType           Phase  \n",
       "18716  September 1, 2023           Spain  Interventional  Not Applicable  \n",
       "89627     August 1, 2020          Taiwan  Interventional  Not Applicable  \n",
       "22871     April 14, 2023  United Kingdom   Observational             NaN  \n",
       "41644  November 18, 2022   United States  Interventional         Phase 3  \n",
       "4494        October 2023             NaN   Observational             NaN  \n",
       "63792         April 2022             NaN  Interventional         Phase 1  \n",
       "99272       July 1, 2021           Italy   Observational             NaN  \n",
       "41641   November 4, 2022   United States  Interventional         Phase 1  \n",
       "88341     September 2021             NaN  Interventional  Not Applicable  \n",
       "39728    January 1, 2023             NaN  Interventional         Phase 2  "
      ]
     },
     "execution_count": 6,
     "metadata": {},
     "output_type": "execute_result"
    }
   ],
   "source": [
    "data.sample(10)[['NCTId','BriefTitle','StartDate', 'LocationCountry', 'StudyType', 'Phase']]"
   ]
  },
  {
   "cell_type": "code",
   "execution_count": 7,
   "metadata": {},
   "outputs": [],
   "source": [
    "from tabulate import tabulate\n",
    "def afficher_colonnes_manquantes(df, seuil=0.95):\n",
    "    \"\"\"\n",
    "    Affiche les colonnes d'un DataFrame ayant plus de seuil % de valeurs manquantes.\n",
    "\n",
    "    Parameters:\n",
    "    - df: Le DataFrame.\n",
    "    - seuil: Le seuil (par défaut, 0.95 pour 95% de valeurs manquantes).\n",
    "    \"\"\"\n",
    "    colonnes_manquantes = df.columns[df.isnull().mean() > seuil]\n",
    "    \n",
    "    if not colonnes_manquantes.empty:\n",
    "        res = pd.DataFrame({\n",
    "            'Colonne': colonnes_manquantes,\n",
    "            'Nombre de valeurs manquantes': df[colonnes_manquantes].isnull().sum(),\n",
    "            'Pourcentage de valeurs manquantes': df[colonnes_manquantes].isnull().mean() * 100\n",
    "        }).reset_index(drop=True)\n",
    "        \n",
    "        print(tabulate(res, headers='keys', tablefmt='fancy_grid', showindex=False))\n",
    "        print(f'Nombre de variables avec {seuil}% de valeurs manquantes :','\\n', len(colonnes_manquantes))\n",
    "    else:\n",
    "        print(\"Aucune colonne avec plus de {:.0%} de valeurs manquantes.\".format(seuil))\n"
   ]
  },
  {
   "cell_type": "code",
   "execution_count": 8,
   "metadata": {},
   "outputs": [
    {
     "name": "stdout",
     "output_type": "stream",
     "text": [
      "╒═════════════════════════════════════════╤════════════════════════════════╤═════════════════════════════════════╕\n",
      "│ Colonne                                 │   Nombre de valeurs manquantes │   Pourcentage de valeurs manquantes │\n",
      "╞═════════════════════════════════════════╪════════════════════════════════╪═════════════════════════════════════╡\n",
      "│ BaselineMeasureCalculatePct             │                          99967 │                              99.967 │\n",
      "├─────────────────────────────────────────┼────────────────────────────────┼─────────────────────────────────────┤\n",
      "│ BaselineMeasureDenomCountGroupId        │                          99995 │                              99.995 │\n",
      "├─────────────────────────────────────────┼────────────────────────────────┼─────────────────────────────────────┤\n",
      "│ BaselineMeasureDenomCountValue          │                          99996 │                              99.996 │\n",
      "├─────────────────────────────────────────┼────────────────────────────────┼─────────────────────────────────────┤\n",
      "│ BaselineMeasureDenomUnits               │                          99995 │                              99.995 │\n",
      "├─────────────────────────────────────────┼────────────────────────────────┼─────────────────────────────────────┤\n",
      "│ BaselineMeasureDenomUnitsSelected       │                          99991 │                              99.991 │\n",
      "├─────────────────────────────────────────┼────────────────────────────────┼─────────────────────────────────────┤\n",
      "│ BaselineMeasurementComment              │                          99993 │                              99.993 │\n",
      "├─────────────────────────────────────────┼────────────────────────────────┼─────────────────────────────────────┤\n",
      "│ BaselineTypeUnitsAnalyzed               │                          99991 │                              99.991 │\n",
      "├─────────────────────────────────────────┼────────────────────────────────┼─────────────────────────────────────┤\n",
      "│ ExpAccTypeTreatment                     │                          99959 │                              99.959 │\n",
      "├─────────────────────────────────────────┼────────────────────────────────┼─────────────────────────────────────┤\n",
      "│ FDAAA801Violation                       │                         100000 │                             100     │\n",
      "├─────────────────────────────────────────┼────────────────────────────────┼─────────────────────────────────────┤\n",
      "│ FlowAchievementComment                  │                          99966 │                              99.966 │\n",
      "├─────────────────────────────────────────┼────────────────────────────────┼─────────────────────────────────────┤\n",
      "│ FlowAchievementNumUnits                 │                          99966 │                              99.966 │\n",
      "├─────────────────────────────────────────┼────────────────────────────────┼─────────────────────────────────────┤\n",
      "│ FlowDropWithdrawComment                 │                         100000 │                             100     │\n",
      "├─────────────────────────────────────────┼────────────────────────────────┼─────────────────────────────────────┤\n",
      "│ FlowMilestoneComment                    │                          99952 │                              99.952 │\n",
      "├─────────────────────────────────────────┼────────────────────────────────┼─────────────────────────────────────┤\n",
      "│ FlowReasonComment                       │                         100000 │                             100     │\n",
      "├─────────────────────────────────────────┼────────────────────────────────┼─────────────────────────────────────┤\n",
      "│ FlowReasonNumUnits                      │                         100000 │                             100     │\n",
      "├─────────────────────────────────────────┼────────────────────────────────┼─────────────────────────────────────┤\n",
      "│ FlowTypeUnitsAnalyzed                   │                          99966 │                              99.966 │\n",
      "├─────────────────────────────────────────┼────────────────────────────────┼─────────────────────────────────────┤\n",
      "│ IsPPSD                                  │                          99998 │                              99.998 │\n",
      "├─────────────────────────────────────────┼────────────────────────────────┼─────────────────────────────────────┤\n",
      "│ NCTIdAlias                              │                          99957 │                              99.957 │\n",
      "├─────────────────────────────────────────┼────────────────────────────────┼─────────────────────────────────────┤\n",
      "│ OrgStudyIdDomain                        │                         100000 │                             100     │\n",
      "├─────────────────────────────────────────┼────────────────────────────────┼─────────────────────────────────────┤\n",
      "│ OutcomeAnalysisCILowerLimitComment      │                         100000 │                             100     │\n",
      "├─────────────────────────────────────────┼────────────────────────────────┼─────────────────────────────────────┤\n",
      "│ OutcomeAnalysisCIUpperLimitComment      │                         100000 │                             100     │\n",
      "├─────────────────────────────────────────┼────────────────────────────────┼─────────────────────────────────────┤\n",
      "│ OutcomeAnalysisDispersionType           │                          99952 │                              99.952 │\n",
      "├─────────────────────────────────────────┼────────────────────────────────┼─────────────────────────────────────┤\n",
      "│ OutcomeAnalysisDispersionValue          │                          99952 │                              99.952 │\n",
      "├─────────────────────────────────────────┼────────────────────────────────┼─────────────────────────────────────┤\n",
      "│ OutcomeAnalysisOtherAnalysisDescription │                          99988 │                              99.988 │\n",
      "├─────────────────────────────────────────┼────────────────────────────────┼─────────────────────────────────────┤\n",
      "│ OutcomeAnalysisStatisticalComment       │                          99960 │                              99.96  │\n",
      "├─────────────────────────────────────────┼────────────────────────────────┼─────────────────────────────────────┤\n",
      "│ OutcomeAnalysisTestedNonInferiority     │                         100000 │                             100     │\n",
      "├─────────────────────────────────────────┼────────────────────────────────┼─────────────────────────────────────┤\n",
      "│ OutcomeMeasureAnticipatedPostingDate    │                          99990 │                              99.99  │\n",
      "├─────────────────────────────────────────┼────────────────────────────────┼─────────────────────────────────────┤\n",
      "│ OutcomeMeasureCalculatePct              │                          99994 │                              99.994 │\n",
      "├─────────────────────────────────────────┼────────────────────────────────┼─────────────────────────────────────┤\n",
      "│ OutcomeMeasurementComment               │                          99968 │                              99.968 │\n",
      "├─────────────────────────────────────────┼────────────────────────────────┼─────────────────────────────────────┤\n",
      "│ PointOfContactPhoneExt                  │                          99977 │                              99.977 │\n",
      "├─────────────────────────────────────────┼────────────────────────────────┼─────────────────────────────────────┤\n",
      "│ RetractionPMID                          │                         100000 │                             100     │\n",
      "├─────────────────────────────────────────┼────────────────────────────────┼─────────────────────────────────────┤\n",
      "│ RetractionSource                        │                         100000 │                             100     │\n",
      "├─────────────────────────────────────────┼────────────────────────────────┼─────────────────────────────────────┤\n",
      "│ SeriousEventNotes                       │                          99979 │                              99.979 │\n",
      "╘═════════════════════════════════════════╧════════════════════════════════╧═════════════════════════════════════╛\n",
      "Nombre de variables avec 0.9995% de valeurs manquantes : \n",
      " 33\n"
     ]
    }
   ],
   "source": [
    "afficher_colonnes_manquantes(data, seuil=0.9995)"
   ]
  },
  {
   "cell_type": "code",
   "execution_count": 14,
   "metadata": {},
   "outputs": [
    {
     "data": {
      "image/png": "[encoded data removed]",
      "text/plain": [
       "<Figure size 1200x600 with 1 Axes>"
      ]
     },
     "metadata": {},
     "output_type": "display_data"
    }
   ],
   "source": [
    "plot_distribution_valeurs_manquantes(data)"
   ]
  }
 ],
 "metadata": {
  "kernelspec": {
   "display_name": "base",
   "language": "python",
   "name": "python3"
  },
  "language_info": {
   "codemirror_mode": {
    "name": "ipython",
    "version": 3
   },
   "file_extension": ".py",
   "mimetype": "text/x-python",
   "name": "python",
   "nbconvert_exporter": "python",
   "pygments_lexer": "ipython3",
   "version": "3.10.13"
  }
 },
 "nbformat": 4,
 "nbformat_minor": 2
}
